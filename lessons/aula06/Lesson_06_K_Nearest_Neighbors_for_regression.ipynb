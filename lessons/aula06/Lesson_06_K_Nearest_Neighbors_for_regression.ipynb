{
  "nbformat": 4,
  "nbformat_minor": 0,
  "metadata": {
    "colab": {
      "name": "Lesson #06 - K-Nearest Neighbors for regression.ipynb",
      "provenance": [],
      "collapsed_sections": [],
      "toc_visible": true
    },
    "kernelspec": {
      "display_name": "Python 3",
      "language": "python",
      "name": "python3"
    },
    "language_info": {
      "codemirror_mode": {
        "name": "ipython",
        "version": 3
      },
      "file_extension": ".py",
      "mimetype": "text/x-python",
      "name": "python",
      "nbconvert_exporter": "python",
      "pygments_lexer": "ipython3",
      "version": "3.6.5"
    }
  },
  "cells": [
    {
      "cell_type": "markdown",
      "metadata": {
        "id": "4wUEFZSvBtxy",
        "toc-hr-collapsed": true
      },
      "source": [
        "# 1.0 Introduction to K-Nearest Neighbors"
      ]
    },
    {
      "cell_type": "markdown",
      "source": [
        "At its core, **data science** helps us make sense of the massive world of information all around us — a world that's far too complex to study directly by ourselves. Data is the record of everything that's going on and what we should learn from it. The real value of all this information is what it means.\n",
        "\n",
        "**Machine learning** helps us discover patterns in data, which is where meaning lives. When we can see what the data means, we can make predictions about the future.\n",
        "\n",
        "In this section, we'll explore machine learning with a technique called **\"K-Nearest Neighbors.\"**\n",
        "\n",
        "We'll use a dataset of **AirBnB** rental rates to identify similar rates in one area for competing AirBnB units and make predictions for ideal rates to maximize profit. You'll need to be comfortable programming in Python, and you'll need to be familiar with the NumPy and pandas libraries.\n",
        "\n",
        "Here are a few takeaways you can expect from this lesson:\n",
        "\n",
        "- The basics of the machine learning workflow\n",
        "- How the K-Nearest Neighbors algorithm works\n",
        "- The role of Euclidean distance in machine learning\n",
        "\n",
        "Now, let's get to know our dataset."
      ],
      "metadata": {
        "id": "e7jSioBR5Cdh"
      }
    },
    {
      "cell_type": "markdown",
      "metadata": {
        "id": "xkhhRIDa_iDx"
      },
      "source": [
        "## 1.1 Introduction to the data\n"
      ]
    },
    {
      "cell_type": "markdown",
      "metadata": {
        "id": "ngmkKQh40piE"
      },
      "source": [
        "\n",
        "\n",
        "While AirBnB doesn't release any data on the listings in their marketplace, a separate group named [Inside AirBnB](http://insideairbnb.com/get-the-data.html) has extracted data on a sample of the listings for many of the major cities on the website. In this lesson, we'll be working with their dataset from **24 December, 2021** on the listings from **Rio de Janeiro-Brazil**, the capital of the Samba. Here's a [direct link to that dataset](http://data.insideairbnb.com/brazil/rj/rio-de-janeiro/2021-12-24/data/listings.csv.gz). Each row in the dataset is a specific listing that's available for renting on AirBnB in the Rio de Janeiro.\n",
        "\n",
        "To make the dataset less cumbersome to work with, we will removed many of the columns in the original dataset (74 columns). Here are the columns we will keep:\n",
        "\n",
        "- **host_response_rate**: the response rate of the host\n",
        "- **host_acceptance_rate**: number of requests to the host that convert to rentals\n",
        "- **host_listings_count**: number of other listings the host has\n",
        "- **latitude**: latitude dimension of the geographic coordinates\n",
        "- **longitude**: longitude part of the coordinates\n",
        "- **accommodates**: the number of guests the rental can accommodate\n",
        "- **room_type**: the type of living space (Private room, Shared room or Entire home/apt\n",
        "- **bedrooms**: number of bedrooms included in the rental\n",
        "- **bathrooms**: number of bathrooms included in the rental\n",
        "- **beds**: number of beds included in the rental\n",
        "- **price**: nightly price for the rental\n",
        "- **minimum_nights**: minimum number of nights a guest can stay for the rental\n",
        "- **maximum_nights**: maximum number of nights a guest can stay for the rental\n",
        "- **number_of_reviews**: number of reviews that previous guests have left\n",
        "\n",
        "Let's read the dataset into Pandas and become more familiar with it.\n",
        "\n"
      ]
    },
    {
      "cell_type": "code",
      "source": [
        "!gdown https://drive.google.com/uc?id=16zF4MHEP_bBxAEWpQgVocPupTjRRAgfP"
      ],
      "metadata": {
        "colab": {
          "base_uri": "https://localhost:8080/"
        },
        "id": "TNlAbs0v5trL",
        "outputId": "abfb21c1-9869-4f66-b6cb-243f3ff5d773"
      },
      "execution_count": 22,
      "outputs": [
        {
          "output_type": "stream",
          "name": "stdout",
          "text": [
            "Downloading...\n",
            "From: https://drive.google.com/uc?id=16zF4MHEP_bBxAEWpQgVocPupTjRRAgfP\n",
            "To: /content/listings.csv.gz\n",
            "\r  0% 0.00/14.9M [00:00<?, ?B/s]\r100% 14.9M/14.9M [00:00<00:00, 213MB/s]\n"
          ]
        }
      ]
    },
    {
      "cell_type": "code",
      "metadata": {
        "id": "iopwJwTQterS",
        "colab": {
          "base_uri": "https://localhost:8080/"
        },
        "outputId": "28d02f85-5769-4a9d-b156-bdeb31153221"
      },
      "source": [
        "!gunzip 'listings.csv.gz'"
      ],
      "execution_count": 23,
      "outputs": [
        {
          "output_type": "stream",
          "name": "stdout",
          "text": [
            "gzip: listings.csv already exists; do you wish to overwrite (y or n)? ^C\n"
          ]
        }
      ]
    },
    {
      "cell_type": "code",
      "metadata": {
        "id": "fJ4w_4pHdm8P",
        "colab": {
          "base_uri": "https://localhost:8080/",
          "height": 577
        },
        "outputId": "1d94fb13-ebc6-4ad7-ed8b-ce8c69a269f0"
      },
      "source": [
        "import pandas as pd\n",
        "data = pd.read_csv(\"listings.csv\")\n",
        "data.head()"
      ],
      "execution_count": 24,
      "outputs": [
        {
          "output_type": "execute_result",
          "data": {
            "text/plain": [
              "      id                         listing_url       scrape_id last_scraped  \\\n",
              "0  17878  https://www.airbnb.com/rooms/17878  20211224070558   2021-12-25   \n",
              "1  24480  https://www.airbnb.com/rooms/24480  20211224070558   2021-12-25   \n",
              "2  25026  https://www.airbnb.com/rooms/25026  20211224070558   2021-12-25   \n",
              "3  35636  https://www.airbnb.com/rooms/35636  20211224070558   2021-12-26   \n",
              "4  35764  https://www.airbnb.com/rooms/35764  20211224070558   2021-12-25   \n",
              "\n",
              "                                                name  \\\n",
              "0  Very Nice 2Br in Copacabana w. balcony, fast WiFi   \n",
              "1   Nice and cozy near Ipanema Beach, w/ home office   \n",
              "2          Beautiful Modern Decorated Studio in Copa   \n",
              "3                   Cosy flat close to Ipanema beach   \n",
              "4     COPACABANA SEA BREEZE  -  RIO - 20 X Superhost   \n",
              "\n",
              "                                         description  \\\n",
              "0  Discounts for long term stays. <br />- Large b...   \n",
              "1  My studio is located in the best of Ipanema, t...   \n",
              "2  Our apartment is a little gem, everyone loves ...   \n",
              "3  This cosy apartment  is just a few steps away ...   \n",
              "4  Our newly renovated studio is located in the b...   \n",
              "\n",
              "                               neighborhood_overview  \\\n",
              "0  This is the one of the bests spots in Rio. Bec...   \n",
              "1  The beach, the lagoon, Ipanema is a great loca...   \n",
              "2  Copacabana is a lively neighborhood and the ap...   \n",
              "3  The  apartment street is very quiet and safe ....   \n",
              "4  Our guests will experience living with a local...   \n",
              "\n",
              "                                         picture_url  host_id  \\\n",
              "0  https://a0.muscache.com/pictures/65320518/3069...    68997   \n",
              "1  https://a0.muscache.com/pictures/11955612/b28e...    99249   \n",
              "2  https://a0.muscache.com/pictures/3003965/68ebb...   102840   \n",
              "3  https://a0.muscache.com/pictures/20009355/38b6...   153232   \n",
              "4  https://a0.muscache.com/pictures/23782972/1d3e...   153691   \n",
              "\n",
              "                                   host_url  ... review_scores_communication  \\\n",
              "0   https://www.airbnb.com/users/show/68997  ...                        4.90   \n",
              "1   https://www.airbnb.com/users/show/99249  ...                        4.90   \n",
              "2  https://www.airbnb.com/users/show/102840  ...                        4.90   \n",
              "3  https://www.airbnb.com/users/show/153232  ...                        4.88   \n",
              "4  https://www.airbnb.com/users/show/153691  ...                        4.94   \n",
              "\n",
              "  review_scores_location review_scores_value license instant_bookable  \\\n",
              "0                   4.76                4.66     NaN                f   \n",
              "1                   4.97                4.58     NaN                f   \n",
              "2                   4.81                4.56     NaN                f   \n",
              "3                   4.90                4.65     NaN                f   \n",
              "4                   4.94                4.87     NaN                f   \n",
              "\n",
              "  calculated_host_listings_count calculated_host_listings_count_entire_homes  \\\n",
              "0                              1                                           1   \n",
              "1                              1                                           1   \n",
              "2                              1                                           1   \n",
              "3                              1                                           1   \n",
              "4                              1                                           1   \n",
              "\n",
              "  calculated_host_listings_count_private_rooms  \\\n",
              "0                                            0   \n",
              "1                                            0   \n",
              "2                                            0   \n",
              "3                                            0   \n",
              "4                                            0   \n",
              "\n",
              "  calculated_host_listings_count_shared_rooms reviews_per_month  \n",
              "0                                           0              1.92  \n",
              "1                                           0              0.62  \n",
              "2                                           0              1.69  \n",
              "3                                           0              1.82  \n",
              "4                                           0              2.76  \n",
              "\n",
              "[5 rows x 74 columns]"
            ],
            "text/html": [
              "\n",
              "  <div id=\"df-942939c5-0d16-48c8-8da6-a0ca7e5520d4\">\n",
              "    <div class=\"colab-df-container\">\n",
              "      <div>\n",
              "<style scoped>\n",
              "    .dataframe tbody tr th:only-of-type {\n",
              "        vertical-align: middle;\n",
              "    }\n",
              "\n",
              "    .dataframe tbody tr th {\n",
              "        vertical-align: top;\n",
              "    }\n",
              "\n",
              "    .dataframe thead th {\n",
              "        text-align: right;\n",
              "    }\n",
              "</style>\n",
              "<table border=\"1\" class=\"dataframe\">\n",
              "  <thead>\n",
              "    <tr style=\"text-align: right;\">\n",
              "      <th></th>\n",
              "      <th>id</th>\n",
              "      <th>listing_url</th>\n",
              "      <th>scrape_id</th>\n",
              "      <th>last_scraped</th>\n",
              "      <th>name</th>\n",
              "      <th>description</th>\n",
              "      <th>neighborhood_overview</th>\n",
              "      <th>picture_url</th>\n",
              "      <th>host_id</th>\n",
              "      <th>host_url</th>\n",
              "      <th>...</th>\n",
              "      <th>review_scores_communication</th>\n",
              "      <th>review_scores_location</th>\n",
              "      <th>review_scores_value</th>\n",
              "      <th>license</th>\n",
              "      <th>instant_bookable</th>\n",
              "      <th>calculated_host_listings_count</th>\n",
              "      <th>calculated_host_listings_count_entire_homes</th>\n",
              "      <th>calculated_host_listings_count_private_rooms</th>\n",
              "      <th>calculated_host_listings_count_shared_rooms</th>\n",
              "      <th>reviews_per_month</th>\n",
              "    </tr>\n",
              "  </thead>\n",
              "  <tbody>\n",
              "    <tr>\n",
              "      <th>0</th>\n",
              "      <td>17878</td>\n",
              "      <td>https://www.airbnb.com/rooms/17878</td>\n",
              "      <td>20211224070558</td>\n",
              "      <td>2021-12-25</td>\n",
              "      <td>Very Nice 2Br in Copacabana w. balcony, fast WiFi</td>\n",
              "      <td>Discounts for long term stays. &lt;br /&gt;- Large b...</td>\n",
              "      <td>This is the one of the bests spots in Rio. Bec...</td>\n",
              "      <td>https://a0.muscache.com/pictures/65320518/3069...</td>\n",
              "      <td>68997</td>\n",
              "      <td>https://www.airbnb.com/users/show/68997</td>\n",
              "      <td>...</td>\n",
              "      <td>4.90</td>\n",
              "      <td>4.76</td>\n",
              "      <td>4.66</td>\n",
              "      <td>NaN</td>\n",
              "      <td>f</td>\n",
              "      <td>1</td>\n",
              "      <td>1</td>\n",
              "      <td>0</td>\n",
              "      <td>0</td>\n",
              "      <td>1.92</td>\n",
              "    </tr>\n",
              "    <tr>\n",
              "      <th>1</th>\n",
              "      <td>24480</td>\n",
              "      <td>https://www.airbnb.com/rooms/24480</td>\n",
              "      <td>20211224070558</td>\n",
              "      <td>2021-12-25</td>\n",
              "      <td>Nice and cozy near Ipanema Beach, w/ home office</td>\n",
              "      <td>My studio is located in the best of Ipanema, t...</td>\n",
              "      <td>The beach, the lagoon, Ipanema is a great loca...</td>\n",
              "      <td>https://a0.muscache.com/pictures/11955612/b28e...</td>\n",
              "      <td>99249</td>\n",
              "      <td>https://www.airbnb.com/users/show/99249</td>\n",
              "      <td>...</td>\n",
              "      <td>4.90</td>\n",
              "      <td>4.97</td>\n",
              "      <td>4.58</td>\n",
              "      <td>NaN</td>\n",
              "      <td>f</td>\n",
              "      <td>1</td>\n",
              "      <td>1</td>\n",
              "      <td>0</td>\n",
              "      <td>0</td>\n",
              "      <td>0.62</td>\n",
              "    </tr>\n",
              "    <tr>\n",
              "      <th>2</th>\n",
              "      <td>25026</td>\n",
              "      <td>https://www.airbnb.com/rooms/25026</td>\n",
              "      <td>20211224070558</td>\n",
              "      <td>2021-12-25</td>\n",
              "      <td>Beautiful Modern Decorated Studio in Copa</td>\n",
              "      <td>Our apartment is a little gem, everyone loves ...</td>\n",
              "      <td>Copacabana is a lively neighborhood and the ap...</td>\n",
              "      <td>https://a0.muscache.com/pictures/3003965/68ebb...</td>\n",
              "      <td>102840</td>\n",
              "      <td>https://www.airbnb.com/users/show/102840</td>\n",
              "      <td>...</td>\n",
              "      <td>4.90</td>\n",
              "      <td>4.81</td>\n",
              "      <td>4.56</td>\n",
              "      <td>NaN</td>\n",
              "      <td>f</td>\n",
              "      <td>1</td>\n",
              "      <td>1</td>\n",
              "      <td>0</td>\n",
              "      <td>0</td>\n",
              "      <td>1.69</td>\n",
              "    </tr>\n",
              "    <tr>\n",
              "      <th>3</th>\n",
              "      <td>35636</td>\n",
              "      <td>https://www.airbnb.com/rooms/35636</td>\n",
              "      <td>20211224070558</td>\n",
              "      <td>2021-12-26</td>\n",
              "      <td>Cosy flat close to Ipanema beach</td>\n",
              "      <td>This cosy apartment  is just a few steps away ...</td>\n",
              "      <td>The  apartment street is very quiet and safe ....</td>\n",
              "      <td>https://a0.muscache.com/pictures/20009355/38b6...</td>\n",
              "      <td>153232</td>\n",
              "      <td>https://www.airbnb.com/users/show/153232</td>\n",
              "      <td>...</td>\n",
              "      <td>4.88</td>\n",
              "      <td>4.90</td>\n",
              "      <td>4.65</td>\n",
              "      <td>NaN</td>\n",
              "      <td>f</td>\n",
              "      <td>1</td>\n",
              "      <td>1</td>\n",
              "      <td>0</td>\n",
              "      <td>0</td>\n",
              "      <td>1.82</td>\n",
              "    </tr>\n",
              "    <tr>\n",
              "      <th>4</th>\n",
              "      <td>35764</td>\n",
              "      <td>https://www.airbnb.com/rooms/35764</td>\n",
              "      <td>20211224070558</td>\n",
              "      <td>2021-12-25</td>\n",
              "      <td>COPACABANA SEA BREEZE  -  RIO - 20 X Superhost</td>\n",
              "      <td>Our newly renovated studio is located in the b...</td>\n",
              "      <td>Our guests will experience living with a local...</td>\n",
              "      <td>https://a0.muscache.com/pictures/23782972/1d3e...</td>\n",
              "      <td>153691</td>\n",
              "      <td>https://www.airbnb.com/users/show/153691</td>\n",
              "      <td>...</td>\n",
              "      <td>4.94</td>\n",
              "      <td>4.94</td>\n",
              "      <td>4.87</td>\n",
              "      <td>NaN</td>\n",
              "      <td>f</td>\n",
              "      <td>1</td>\n",
              "      <td>1</td>\n",
              "      <td>0</td>\n",
              "      <td>0</td>\n",
              "      <td>2.76</td>\n",
              "    </tr>\n",
              "  </tbody>\n",
              "</table>\n",
              "<p>5 rows × 74 columns</p>\n",
              "</div>\n",
              "      <button class=\"colab-df-convert\" onclick=\"convertToInteractive('df-942939c5-0d16-48c8-8da6-a0ca7e5520d4')\"\n",
              "              title=\"Convert this dataframe to an interactive table.\"\n",
              "              style=\"display:none;\">\n",
              "        \n",
              "  <svg xmlns=\"http://www.w3.org/2000/svg\" height=\"24px\"viewBox=\"0 0 24 24\"\n",
              "       width=\"24px\">\n",
              "    <path d=\"M0 0h24v24H0V0z\" fill=\"none\"/>\n",
              "    <path d=\"M18.56 5.44l.94 2.06.94-2.06 2.06-.94-2.06-.94-.94-2.06-.94 2.06-2.06.94zm-11 1L8.5 8.5l.94-2.06 2.06-.94-2.06-.94L8.5 2.5l-.94 2.06-2.06.94zm10 10l.94 2.06.94-2.06 2.06-.94-2.06-.94-.94-2.06-.94 2.06-2.06.94z\"/><path d=\"M17.41 7.96l-1.37-1.37c-.4-.4-.92-.59-1.43-.59-.52 0-1.04.2-1.43.59L10.3 9.45l-7.72 7.72c-.78.78-.78 2.05 0 2.83L4 21.41c.39.39.9.59 1.41.59.51 0 1.02-.2 1.41-.59l7.78-7.78 2.81-2.81c.8-.78.8-2.07 0-2.86zM5.41 20L4 18.59l7.72-7.72 1.47 1.35L5.41 20z\"/>\n",
              "  </svg>\n",
              "      </button>\n",
              "      \n",
              "  <style>\n",
              "    .colab-df-container {\n",
              "      display:flex;\n",
              "      flex-wrap:wrap;\n",
              "      gap: 12px;\n",
              "    }\n",
              "\n",
              "    .colab-df-convert {\n",
              "      background-color: #E8F0FE;\n",
              "      border: none;\n",
              "      border-radius: 50%;\n",
              "      cursor: pointer;\n",
              "      display: none;\n",
              "      fill: #1967D2;\n",
              "      height: 32px;\n",
              "      padding: 0 0 0 0;\n",
              "      width: 32px;\n",
              "    }\n",
              "\n",
              "    .colab-df-convert:hover {\n",
              "      background-color: #E2EBFA;\n",
              "      box-shadow: 0px 1px 2px rgba(60, 64, 67, 0.3), 0px 1px 3px 1px rgba(60, 64, 67, 0.15);\n",
              "      fill: #174EA6;\n",
              "    }\n",
              "\n",
              "    [theme=dark] .colab-df-convert {\n",
              "      background-color: #3B4455;\n",
              "      fill: #D2E3FC;\n",
              "    }\n",
              "\n",
              "    [theme=dark] .colab-df-convert:hover {\n",
              "      background-color: #434B5C;\n",
              "      box-shadow: 0px 1px 3px 1px rgba(0, 0, 0, 0.15);\n",
              "      filter: drop-shadow(0px 1px 2px rgba(0, 0, 0, 0.3));\n",
              "      fill: #FFFFFF;\n",
              "    }\n",
              "  </style>\n",
              "\n",
              "      <script>\n",
              "        const buttonEl =\n",
              "          document.querySelector('#df-942939c5-0d16-48c8-8da6-a0ca7e5520d4 button.colab-df-convert');\n",
              "        buttonEl.style.display =\n",
              "          google.colab.kernel.accessAllowed ? 'block' : 'none';\n",
              "\n",
              "        async function convertToInteractive(key) {\n",
              "          const element = document.querySelector('#df-942939c5-0d16-48c8-8da6-a0ca7e5520d4');\n",
              "          const dataTable =\n",
              "            await google.colab.kernel.invokeFunction('convertToInteractive',\n",
              "                                                     [key], {});\n",
              "          if (!dataTable) return;\n",
              "\n",
              "          const docLinkHtml = 'Like what you see? Visit the ' +\n",
              "            '<a target=\"_blank\" href=https://colab.research.google.com/notebooks/data_table.ipynb>data table notebook</a>'\n",
              "            + ' to learn more about interactive tables.';\n",
              "          element.innerHTML = '';\n",
              "          dataTable['output_type'] = 'display_data';\n",
              "          await google.colab.output.renderOutput(dataTable, element);\n",
              "          const docLink = document.createElement('div');\n",
              "          docLink.innerHTML = docLinkHtml;\n",
              "          element.appendChild(docLink);\n",
              "        }\n",
              "      </script>\n",
              "    </div>\n",
              "  </div>\n",
              "  "
            ]
          },
          "metadata": {},
          "execution_count": 24
        }
      ]
    },
    {
      "cell_type": "code",
      "source": [
        "data.shape"
      ],
      "metadata": {
        "colab": {
          "base_uri": "https://localhost:8080/"
        },
        "id": "fXCZHxFI8mcA",
        "outputId": "fdc49f66-9401-4516-e4de-3b193b12b530"
      },
      "execution_count": 4,
      "outputs": [
        {
          "output_type": "execute_result",
          "data": {
            "text/plain": [
              "(24549, 74)"
            ]
          },
          "metadata": {},
          "execution_count": 4
        }
      ]
    },
    {
      "cell_type": "code",
      "metadata": {
        "id": "sS-TwVw5sDik"
      },
      "source": [
        "data.info()"
      ],
      "execution_count": null,
      "outputs": []
    },
    {
      "cell_type": "code",
      "metadata": {
        "id": "TKfZj-kKv9t9",
        "colab": {
          "base_uri": "https://localhost:8080/",
          "height": 357
        },
        "outputId": "7d3f8186-95ea-4943-8879-bca2b6f837d7"
      },
      "source": [
        "import pandas as pd\n",
        "target_columns = [\"price\",\"host_response_rate\", \"host_acceptance_rate\", \"host_listings_count\",\n",
        "                  \"latitude\",\"longitude\",\"accommodates\",\"neighbourhood\",\n",
        "                  \"room_type\",\"bedrooms\",\"bathrooms\",\"beds\"\n",
        "                  ,\"minimum_nights\",\"maximum_nights\",\"number_of_reviews\"]\n",
        "\n",
        "rio_listings = data[target_columns].copy()\n",
        "rio_listings.head()"
      ],
      "execution_count": 6,
      "outputs": [
        {
          "output_type": "execute_result",
          "data": {
            "text/plain": [
              "     price host_response_rate host_acceptance_rate  host_listings_count  \\\n",
              "0  $350.00               100%                  96%                  2.0   \n",
              "1  $296.00               100%                 100%                  0.0   \n",
              "2  $387.00                80%                  41%                  3.0   \n",
              "3  $172.00               100%                  NaN                  1.0   \n",
              "4  $260.00               100%                  97%                  1.0   \n",
              "\n",
              "   latitude  longitude  accommodates           neighbourhood        room_type  \\\n",
              "0 -22.96599  -43.17940             5  Rio de Janeiro, Brazil  Entire home/apt   \n",
              "1 -22.98405  -43.20189             2  Rio de Janeiro, Brazil  Entire home/apt   \n",
              "2 -22.97735  -43.19105             3  Rio de Janeiro, Brazil  Entire home/apt   \n",
              "3 -22.98839  -43.19232             2  Rio de Janeiro, Brazil  Entire home/apt   \n",
              "4 -22.98107  -43.19136             2  Rio de Janeiro, Brazil  Entire home/apt   \n",
              "\n",
              "   bedrooms  bathrooms  beds  minimum_nights  maximum_nights  \\\n",
              "0       2.0        NaN   2.0               5             180   \n",
              "1       1.0        NaN   1.0               3              90   \n",
              "2       1.0        NaN   1.0               3              90   \n",
              "3       1.0        NaN   1.0               2              89   \n",
              "4       1.0        NaN   1.0               3              15   \n",
              "\n",
              "   number_of_reviews  \n",
              "0                267  \n",
              "1                 85  \n",
              "2                238  \n",
              "3                181  \n",
              "4                378  "
            ],
            "text/html": [
              "\n",
              "  <div id=\"df-490c04fc-823d-443f-97be-a584b5585f1d\">\n",
              "    <div class=\"colab-df-container\">\n",
              "      <div>\n",
              "<style scoped>\n",
              "    .dataframe tbody tr th:only-of-type {\n",
              "        vertical-align: middle;\n",
              "    }\n",
              "\n",
              "    .dataframe tbody tr th {\n",
              "        vertical-align: top;\n",
              "    }\n",
              "\n",
              "    .dataframe thead th {\n",
              "        text-align: right;\n",
              "    }\n",
              "</style>\n",
              "<table border=\"1\" class=\"dataframe\">\n",
              "  <thead>\n",
              "    <tr style=\"text-align: right;\">\n",
              "      <th></th>\n",
              "      <th>price</th>\n",
              "      <th>host_response_rate</th>\n",
              "      <th>host_acceptance_rate</th>\n",
              "      <th>host_listings_count</th>\n",
              "      <th>latitude</th>\n",
              "      <th>longitude</th>\n",
              "      <th>accommodates</th>\n",
              "      <th>neighbourhood</th>\n",
              "      <th>room_type</th>\n",
              "      <th>bedrooms</th>\n",
              "      <th>bathrooms</th>\n",
              "      <th>beds</th>\n",
              "      <th>minimum_nights</th>\n",
              "      <th>maximum_nights</th>\n",
              "      <th>number_of_reviews</th>\n",
              "    </tr>\n",
              "  </thead>\n",
              "  <tbody>\n",
              "    <tr>\n",
              "      <th>0</th>\n",
              "      <td>$350.00</td>\n",
              "      <td>100%</td>\n",
              "      <td>96%</td>\n",
              "      <td>2.0</td>\n",
              "      <td>-22.96599</td>\n",
              "      <td>-43.17940</td>\n",
              "      <td>5</td>\n",
              "      <td>Rio de Janeiro, Brazil</td>\n",
              "      <td>Entire home/apt</td>\n",
              "      <td>2.0</td>\n",
              "      <td>NaN</td>\n",
              "      <td>2.0</td>\n",
              "      <td>5</td>\n",
              "      <td>180</td>\n",
              "      <td>267</td>\n",
              "    </tr>\n",
              "    <tr>\n",
              "      <th>1</th>\n",
              "      <td>$296.00</td>\n",
              "      <td>100%</td>\n",
              "      <td>100%</td>\n",
              "      <td>0.0</td>\n",
              "      <td>-22.98405</td>\n",
              "      <td>-43.20189</td>\n",
              "      <td>2</td>\n",
              "      <td>Rio de Janeiro, Brazil</td>\n",
              "      <td>Entire home/apt</td>\n",
              "      <td>1.0</td>\n",
              "      <td>NaN</td>\n",
              "      <td>1.0</td>\n",
              "      <td>3</td>\n",
              "      <td>90</td>\n",
              "      <td>85</td>\n",
              "    </tr>\n",
              "    <tr>\n",
              "      <th>2</th>\n",
              "      <td>$387.00</td>\n",
              "      <td>80%</td>\n",
              "      <td>41%</td>\n",
              "      <td>3.0</td>\n",
              "      <td>-22.97735</td>\n",
              "      <td>-43.19105</td>\n",
              "      <td>3</td>\n",
              "      <td>Rio de Janeiro, Brazil</td>\n",
              "      <td>Entire home/apt</td>\n",
              "      <td>1.0</td>\n",
              "      <td>NaN</td>\n",
              "      <td>1.0</td>\n",
              "      <td>3</td>\n",
              "      <td>90</td>\n",
              "      <td>238</td>\n",
              "    </tr>\n",
              "    <tr>\n",
              "      <th>3</th>\n",
              "      <td>$172.00</td>\n",
              "      <td>100%</td>\n",
              "      <td>NaN</td>\n",
              "      <td>1.0</td>\n",
              "      <td>-22.98839</td>\n",
              "      <td>-43.19232</td>\n",
              "      <td>2</td>\n",
              "      <td>Rio de Janeiro, Brazil</td>\n",
              "      <td>Entire home/apt</td>\n",
              "      <td>1.0</td>\n",
              "      <td>NaN</td>\n",
              "      <td>1.0</td>\n",
              "      <td>2</td>\n",
              "      <td>89</td>\n",
              "      <td>181</td>\n",
              "    </tr>\n",
              "    <tr>\n",
              "      <th>4</th>\n",
              "      <td>$260.00</td>\n",
              "      <td>100%</td>\n",
              "      <td>97%</td>\n",
              "      <td>1.0</td>\n",
              "      <td>-22.98107</td>\n",
              "      <td>-43.19136</td>\n",
              "      <td>2</td>\n",
              "      <td>Rio de Janeiro, Brazil</td>\n",
              "      <td>Entire home/apt</td>\n",
              "      <td>1.0</td>\n",
              "      <td>NaN</td>\n",
              "      <td>1.0</td>\n",
              "      <td>3</td>\n",
              "      <td>15</td>\n",
              "      <td>378</td>\n",
              "    </tr>\n",
              "  </tbody>\n",
              "</table>\n",
              "</div>\n",
              "      <button class=\"colab-df-convert\" onclick=\"convertToInteractive('df-490c04fc-823d-443f-97be-a584b5585f1d')\"\n",
              "              title=\"Convert this dataframe to an interactive table.\"\n",
              "              style=\"display:none;\">\n",
              "        \n",
              "  <svg xmlns=\"http://www.w3.org/2000/svg\" height=\"24px\"viewBox=\"0 0 24 24\"\n",
              "       width=\"24px\">\n",
              "    <path d=\"M0 0h24v24H0V0z\" fill=\"none\"/>\n",
              "    <path d=\"M18.56 5.44l.94 2.06.94-2.06 2.06-.94-2.06-.94-.94-2.06-.94 2.06-2.06.94zm-11 1L8.5 8.5l.94-2.06 2.06-.94-2.06-.94L8.5 2.5l-.94 2.06-2.06.94zm10 10l.94 2.06.94-2.06 2.06-.94-2.06-.94-.94-2.06-.94 2.06-2.06.94z\"/><path d=\"M17.41 7.96l-1.37-1.37c-.4-.4-.92-.59-1.43-.59-.52 0-1.04.2-1.43.59L10.3 9.45l-7.72 7.72c-.78.78-.78 2.05 0 2.83L4 21.41c.39.39.9.59 1.41.59.51 0 1.02-.2 1.41-.59l7.78-7.78 2.81-2.81c.8-.78.8-2.07 0-2.86zM5.41 20L4 18.59l7.72-7.72 1.47 1.35L5.41 20z\"/>\n",
              "  </svg>\n",
              "      </button>\n",
              "      \n",
              "  <style>\n",
              "    .colab-df-container {\n",
              "      display:flex;\n",
              "      flex-wrap:wrap;\n",
              "      gap: 12px;\n",
              "    }\n",
              "\n",
              "    .colab-df-convert {\n",
              "      background-color: #E8F0FE;\n",
              "      border: none;\n",
              "      border-radius: 50%;\n",
              "      cursor: pointer;\n",
              "      display: none;\n",
              "      fill: #1967D2;\n",
              "      height: 32px;\n",
              "      padding: 0 0 0 0;\n",
              "      width: 32px;\n",
              "    }\n",
              "\n",
              "    .colab-df-convert:hover {\n",
              "      background-color: #E2EBFA;\n",
              "      box-shadow: 0px 1px 2px rgba(60, 64, 67, 0.3), 0px 1px 3px 1px rgba(60, 64, 67, 0.15);\n",
              "      fill: #174EA6;\n",
              "    }\n",
              "\n",
              "    [theme=dark] .colab-df-convert {\n",
              "      background-color: #3B4455;\n",
              "      fill: #D2E3FC;\n",
              "    }\n",
              "\n",
              "    [theme=dark] .colab-df-convert:hover {\n",
              "      background-color: #434B5C;\n",
              "      box-shadow: 0px 1px 3px 1px rgba(0, 0, 0, 0.15);\n",
              "      filter: drop-shadow(0px 1px 2px rgba(0, 0, 0, 0.3));\n",
              "      fill: #FFFFFF;\n",
              "    }\n",
              "  </style>\n",
              "\n",
              "      <script>\n",
              "        const buttonEl =\n",
              "          document.querySelector('#df-490c04fc-823d-443f-97be-a584b5585f1d button.colab-df-convert');\n",
              "        buttonEl.style.display =\n",
              "          google.colab.kernel.accessAllowed ? 'block' : 'none';\n",
              "\n",
              "        async function convertToInteractive(key) {\n",
              "          const element = document.querySelector('#df-490c04fc-823d-443f-97be-a584b5585f1d');\n",
              "          const dataTable =\n",
              "            await google.colab.kernel.invokeFunction('convertToInteractive',\n",
              "                                                     [key], {});\n",
              "          if (!dataTable) return;\n",
              "\n",
              "          const docLinkHtml = 'Like what you see? Visit the ' +\n",
              "            '<a target=\"_blank\" href=https://colab.research.google.com/notebooks/data_table.ipynb>data table notebook</a>'\n",
              "            + ' to learn more about interactive tables.';\n",
              "          element.innerHTML = '';\n",
              "          dataTable['output_type'] = 'display_data';\n",
              "          await google.colab.output.renderOutput(dataTable, element);\n",
              "          const docLink = document.createElement('div');\n",
              "          docLink.innerHTML = docLinkHtml;\n",
              "          element.appendChild(docLink);\n",
              "        }\n",
              "      </script>\n",
              "    </div>\n",
              "  </div>\n",
              "  "
            ]
          },
          "metadata": {},
          "execution_count": 6
        }
      ]
    },
    {
      "cell_type": "code",
      "source": [
        "rio_listings.info()"
      ],
      "metadata": {
        "colab": {
          "base_uri": "https://localhost:8080/"
        },
        "id": "LGMFevKn5U6Y",
        "outputId": "05e5da77-5e1b-42f6-f6a4-622596e8563c"
      },
      "execution_count": 7,
      "outputs": [
        {
          "output_type": "stream",
          "name": "stdout",
          "text": [
            "<class 'pandas.core.frame.DataFrame'>\n",
            "RangeIndex: 24549 entries, 0 to 24548\n",
            "Data columns (total 15 columns):\n",
            " #   Column                Non-Null Count  Dtype  \n",
            "---  ------                --------------  -----  \n",
            " 0   price                 24549 non-null  object \n",
            " 1   host_response_rate    20668 non-null  object \n",
            " 2   host_acceptance_rate  18902 non-null  object \n",
            " 3   host_listings_count   24534 non-null  float64\n",
            " 4   latitude              24549 non-null  float64\n",
            " 5   longitude             24549 non-null  float64\n",
            " 6   accommodates          24549 non-null  int64  \n",
            " 7   neighbourhood         13212 non-null  object \n",
            " 8   room_type             24549 non-null  object \n",
            " 9   bedrooms              23059 non-null  float64\n",
            " 10  bathrooms             0 non-null      float64\n",
            " 11  beds                  24202 non-null  float64\n",
            " 12  minimum_nights        24549 non-null  int64  \n",
            " 13  maximum_nights        24549 non-null  int64  \n",
            " 14  number_of_reviews     24549 non-null  int64  \n",
            "dtypes: float64(6), int64(4), object(5)\n",
            "memory usage: 2.8+ MB\n"
          ]
        }
      ]
    },
    {
      "cell_type": "code",
      "source": [
        "rio_listings.isnull().sum()"
      ],
      "metadata": {
        "colab": {
          "base_uri": "https://localhost:8080/"
        },
        "id": "Y5iES_AU8G4I",
        "outputId": "9325a767-88ec-4dd1-e730-a2c4991d464d"
      },
      "execution_count": 8,
      "outputs": [
        {
          "output_type": "execute_result",
          "data": {
            "text/plain": [
              "price                       0\n",
              "host_response_rate       3881\n",
              "host_acceptance_rate     5647\n",
              "host_listings_count        15\n",
              "latitude                    0\n",
              "longitude                   0\n",
              "accommodates                0\n",
              "neighbourhood           11337\n",
              "room_type                   0\n",
              "bedrooms                 1490\n",
              "bathrooms               24549\n",
              "beds                      347\n",
              "minimum_nights              0\n",
              "maximum_nights              0\n",
              "number_of_reviews           0\n",
              "dtype: int64"
            ]
          },
          "metadata": {},
          "execution_count": 8
        }
      ]
    },
    {
      "cell_type": "markdown",
      "metadata": {
        "id": "Fk8-8iIH_iDy"
      },
      "source": [
        "## 1.3 K-nearest neighbors\n"
      ]
    },
    {
      "cell_type": "markdown",
      "metadata": {
        "id": "6gn_hvm60y1I"
      },
      "source": [
        "\n",
        "\n",
        "Here's the strategy we wanted to use:\n",
        "\n",
        "- Find a few similar listings.\n",
        "- Calculate the average nightly rental price of these listings.\n",
        "- Set the average price as the price for our listing.\n",
        "\n",
        "The k-nearest neighbors algorithm is similar to this strategy. Here's an overview:\n",
        "\n",
        "<img width=\"900\" alt=\"creating a repo\" src=\"https://drive.google.com/uc?export=view&id=1b3uN7WtvbamsIVxYYML1cXbWTXvs6UGb\">\n",
        "\n",
        "\n",
        "There are 2 things we need to unpack in more detail:\n",
        "\n",
        "- the similarity metric\n",
        "- how to choose the **k** value\n",
        "\n",
        "In this section, we'll define what similarity metric we're going to use. Then, we'll implement the **k-nearest neighbors** algorithm and use it to suggest a price for a new, unpriced listing. We'll use a **k** value of 5 in this section. In later sections, we'll learn how to evaluate how good the suggested prices are, how to choose the optimal **k** value, and more.\n"
      ]
    },
    {
      "cell_type": "markdown",
      "metadata": {
        "id": "AtnKXaWZ_iDz"
      },
      "source": [
        "## 1.4 Euclidean distance\n"
      ]
    },
    {
      "cell_type": "markdown",
      "metadata": {
        "id": "vBYFixkn8hzX"
      },
      "source": [
        "\n",
        "\n",
        "The similarity metric works by comparing a fixed set of numerical **features**, another word for attributes, between 2 **observations**, or living spaces in our case. When trying to predict a continuous value, like price, the main similarity metric that's used is **Euclidean distance**. Here's the general formula for Euclidean distance:\n",
        "\n",
        "$\\displaystyle d = \\sqrt{(q_1 - p_1)^2 + (q_2 - p_2)^2 + \\ldots + (q_n - p_n)^2}$\n",
        "\n",
        "where $q_1$ to $q_n$ represent the feature values for one observation and $p_1$ to $p_n$ represent the feature values for the other observation. Here's a diagram that breaks down the Euclidean distance between the first 2 observations in the dataset using only the **host_listings_count**, **accommodates**, **bedrooms**, **bathrooms**, and **beds** columns:\n",
        "\n",
        "\n",
        "<img width=\"900\" alt=\"creating a repo\" src=\"https://drive.google.com/uc?export=view&id=15wH6nSdX74TEKIFeBqNrMceiwoCk5j3s\">\n",
        "\n",
        "In this mission, we'll use just one feature in this mission to keep things simple as you become familiar with the machine learning workflow. Since we're only using one feature, this is known as the **univariate case**. Here's how the formula looks like for the univariate case:\n",
        "\n",
        "$\\displaystyle d = \\sqrt{(q_1 - p_1)^2}$\n",
        "\n",
        "The square root and the squared power cancel and the formula simplifies to:\n",
        "\n",
        "$ \\displaystyle d = \\left | q_1 - p_1 \\right |$\n",
        "\n",
        "The living space that we want to rent can accommodate 3 people. Let's first calculate the distance, using just the **accommodates** feature, between the first living space in the dataset and our own.\n",
        "\n",
        "\n",
        "**Exercise Start**\n",
        "\n",
        "<left><img width=\"100\" alt=\"creating a repo\" src=\"https://drive.google.com/uc?export=view&id=1E8tR7B9YYUXsU_rddJAyq0FrM0MSelxZ\"></left>\n",
        "\n",
        "\n",
        "\n",
        "1. Calculate the Euclidean distance between our living space, which can accommodate 3 people, and the first living space in the **rio_listings** Dataframe. For the sake of understanding, use only the column \"accommodates\".\n",
        "2. Assign the result to **first_distance** and display the value using the **print** function."
      ]
    },
    {
      "cell_type": "code",
      "metadata": {
        "id": "ebUrbW_Z96Qp"
      },
      "source": [
        "# put your code here"
      ],
      "execution_count": null,
      "outputs": []
    },
    {
      "cell_type": "code",
      "source": [
        "import numpy as np\n",
        "our_acc_value = 3\n",
        "first_living_space_value = rio_listings.iloc[0]['accommodates']\n",
        "first_distance = np.abs(first_living_space_value - our_acc_value)\n",
        "print(first_distance)"
      ],
      "metadata": {
        "colab": {
          "base_uri": "https://localhost:8080/"
        },
        "id": "xXXPryBVgGzQ",
        "outputId": "c43e191f-a31a-4301-dd81-3b7929539840"
      },
      "execution_count": 33,
      "outputs": [
        {
          "output_type": "stream",
          "name": "stdout",
          "text": [
            "2\n"
          ]
        }
      ]
    },
    {
      "cell_type": "markdown",
      "metadata": {
        "id": "E4HoOhDH_iD0"
      },
      "source": [
        "## 1.5 Calculate distance for all observations\n"
      ]
    },
    {
      "cell_type": "markdown",
      "metadata": {
        "id": "lys4UsVp-d2I"
      },
      "source": [
        "\n",
        "\n",
        "The Euclidean distance between the first row in the **rio_listings** Dataframe and our own living space is 1. How do we know if this is high or low? If you look at the Euclidean distance equation itself, the lowest value you can achieve is 0. This happens when the value for the feature is exactly the same for both observations you're comparing. If $p_1=q_1$, then $ \\displaystyle d = \\left | q_1 - p_1 \\right |$ which results in $d=0$. The closer to 0 the distance the more similar the living spaces are.\n",
        "\n",
        "If we wanted to calculate the Euclidean distance between each living space in the dataset and a living space that accommodates **8** people, here's a preview of what that would look like.\n",
        "\n",
        "<img width=\"300\" alt=\"creating a repo\" src=\"https://drive.google.com/uc?export=view&id=12TKiPkP5qDDAcXnB8bpjWNeAkDJKW0GB\">\n",
        "\n",
        "Then, we can rank the existing living spaces by ascending distance values, the proxy for similarity.\n",
        "\n",
        "\n",
        "**Exercise Start**\n",
        "\n",
        "<left><img width=\"100\" alt=\"creating a repo\" src=\"https://drive.google.com/uc?export=view&id=1E8tR7B9YYUXsU_rddJAyq0FrM0MSelxZ\"></left>\n",
        "\n",
        "\n",
        "\n",
        "\n",
        "1. Calculate the distance between each value in the **accommodates** column from **rio_listings** and the value **3**, which is the number of people our listing accommodates:\n",
        "    - Use the [apply](https://pandas.pydata.org/pandas-docs/stable/generated/pandas.DataFrame.apply.html) method to calculate the absolute value between each value in **accommodates** and **3** and return a new Series containing the distance values.\n",
        "2. Assign the distance values to the **distance** column.\n",
        "3. Use the Series method **value_counts** and the **print** function to display the unique value counts for the **distance** column."
      ]
    },
    {
      "cell_type": "code",
      "metadata": {
        "id": "JsGX1QQ1Atll"
      },
      "source": [
        "# put your code here"
      ],
      "execution_count": null,
      "outputs": []
    },
    {
      "cell_type": "code",
      "source": [
        "new_listing = 3\n",
        "rio_listings['distance'] = rio_listings['accommodates'].apply(lambda x: np.abs(x - new_listing))\n",
        "print(rio_listings['distance'].value_counts())"
      ],
      "metadata": {
        "colab": {
          "base_uri": "https://localhost:8080/"
        },
        "id": "ZjbQ5whsgq3v",
        "outputId": "e4bf161c-304b-4092-aa51-8e606bdc0380"
      },
      "execution_count": 34,
      "outputs": [
        {
          "output_type": "stream",
          "name": "stdout",
          "text": [
            "1     12930\n",
            "2      3167\n",
            "3      3056\n",
            "0      2669\n",
            "5       974\n",
            "4       541\n",
            "7       462\n",
            "13      201\n",
            "9       199\n",
            "6       162\n",
            "11       60\n",
            "12       57\n",
            "8        37\n",
            "10       34\n",
            "Name: distance, dtype: int64\n"
          ]
        }
      ]
    },
    {
      "cell_type": "markdown",
      "metadata": {
        "id": "gaePLCMj_iD0"
      },
      "source": [
        "## 1.6 Randomizing, and sorting\n"
      ]
    },
    {
      "cell_type": "markdown",
      "metadata": {
        "id": "4tbf-vrFncV4"
      },
      "source": [
        "\n",
        "\n",
        "It looks like there are quite a few, 2669 to be precise, living spaces that can accommodate 3 people just like ours. This means the 5 \"nearest neighbors\" we select after sorting all will have a distance value of 0. If we sort by the **distance** column and then just select the first 5 living spaces, we would be **biasing** the result to the ordering of the dataset.\n",
        "\n",
        "```python\n",
        "rio_listings[rio_listings[\"distance\"] == 0][\"accommodates\"]\n",
        "26      3\n",
        "34      3\n",
        "36      3\n",
        "40      3\n",
        "44      3\n",
        "45      3\n",
        "48      3\n",
        "65      3\n",
        "66      3\n",
        "71      3\n",
        "75      3\n",
        "86      3\n",
        "...\n",
        "```\n",
        "\n",
        "Let's instead randomize the ordering of the dataset and then sort the Dataframe by the **distance** column. This way, all of the living spaces with the same number of bedrooms will still be at the top of the Dataframe but will be in random order across the first 2669 rows. We've already done the first step of setting the random seed, so we can perform answer checking on our end.\n",
        "\n",
        "**Exercise Start**\n",
        "\n",
        "<left><img width=\"100\" alt=\"creating a repo\" src=\"https://drive.google.com/uc?export=view&id=1E8tR7B9YYUXsU_rddJAyq0FrM0MSelxZ\"></left>\n",
        "\n",
        "\n",
        "\n",
        "1. Randomize the order of the rows in **rio_listings**:\n",
        "    - Use the **np.random.permutation()** function to return a NumPy array of shuffled index values.\n",
        "    - Use the Dataframe method **loc[]** to return a new Dataframe containing the shuffled order.\n",
        "    - Assign the new Dataframe back to **rio_listings**.\n",
        "2. After randomization, sort **rio_listings** by the **distance** column.\n",
        "3. Display the first 10 values in the **price** column using the **print** function."
      ]
    },
    {
      "cell_type": "code",
      "metadata": {
        "id": "ekW6ePVr_iD1"
      },
      "source": [
        "# put your code here\n",
        "import numpy as np\n",
        "np.random.seed(1)"
      ],
      "execution_count": null,
      "outputs": []
    },
    {
      "cell_type": "code",
      "source": [
        "import numpy as np\n",
        "# what happen if you change the value of seed? And if this value not change?\n",
        "np.random.seed(1)\n",
        "rio_listings = rio_listings.loc[np.random.permutation(len(rio_listings))]\n",
        "rio_listings = rio_listings.sort_values('distance')\n",
        "print(rio_listings.iloc[0:10]['price'])"
      ],
      "metadata": {
        "colab": {
          "base_uri": "https://localhost:8080/"
        },
        "id": "OQp-79CZhehT",
        "outputId": "3e64db22-6fa4-438c-9e5a-9c045edd5022"
      },
      "execution_count": 35,
      "outputs": [
        {
          "output_type": "stream",
          "name": "stdout",
          "text": [
            "13660    $571.00\n",
            "11755    $543.00\n",
            "16191    $160.00\n",
            "8320     $150.00\n",
            "18090    $100.00\n",
            "14389    $179.00\n",
            "1301      $87.00\n",
            "20934    $850.00\n",
            "8966     $420.00\n",
            "20585    $150.00\n",
            "Name: price, dtype: object\n"
          ]
        }
      ]
    },
    {
      "cell_type": "markdown",
      "metadata": {
        "id": "23Q2awTs_iD4"
      },
      "source": [
        "## 1.7 Average price\n"
      ]
    },
    {
      "cell_type": "markdown",
      "metadata": {
        "id": "cXJKMZjSSh2W"
      },
      "source": [
        "\n",
        "\n",
        "Before we can select the 5 most similar living spaces and compute the average price, we need to clean the **price** column. Right now, the **price** column contains comma characters (**,**) and dollar sign characters and is formatted as a text column instead of a numeric one. We need to remove these values and convert the entire column to the float datatype. Then, we can calculate the average price.\n",
        "\n",
        "**Exercise Start**\n",
        "\n",
        "<left><img width=\"100\" alt=\"creating a repo\" src=\"https://drive.google.com/uc?export=view&id=1E8tR7B9YYUXsU_rddJAyq0FrM0MSelxZ\"></left>\n",
        "\n",
        "\n",
        "\n",
        "1. Remove the commas (,) and dollar sign characters (\\\\$) from the **price** column:\n",
        "    - Use the **str** accessor so we can apply string methods to each value in the column followed by the string method replace to replace all comma characters with the empty character: **stripped_commas = rio_listings['price'].str.replace(',', '')**\n",
        "    - Repeat to remove the dollar sign characters as well.\n",
        "2. Convert the new Series object containing the cleaned values to the **float** datatype and assign back to the **price** column in **rio_listings**.\n",
        "3. Calculate the mean of the first 5 values in the **price** column and assign to **mean_price**.\n",
        "4. Use the **print** function to display **mean_price**"
      ]
    },
    {
      "cell_type": "code",
      "metadata": {
        "id": "B8shEFEJTvLP"
      },
      "source": [
        "# put your code here"
      ],
      "execution_count": null,
      "outputs": []
    },
    {
      "cell_type": "code",
      "source": [
        "stripped_commas = rio_listings['price'].str.replace(',', '', regex=False)\n",
        "stripped_dollars = stripped_commas.str.replace('$', '',regex=False)\n",
        "rio_listings['price'] = stripped_dollars.astype('float')\n",
        "mean_price = rio_listings.iloc[0:5]['price'].mean()\n",
        "print(mean_price)"
      ],
      "metadata": {
        "colab": {
          "base_uri": "https://localhost:8080/"
        },
        "id": "bvnLHMSrjfnO",
        "outputId": "bd1b4881-7047-4234-eec5-87924b83a8e1"
      },
      "execution_count": 36,
      "outputs": [
        {
          "output_type": "stream",
          "name": "stdout",
          "text": [
            "304.8\n"
          ]
        }
      ]
    },
    {
      "cell_type": "markdown",
      "metadata": {
        "id": "jVJxA-wk_iD5"
      },
      "source": [
        "## 1.8 Function to make predictions\n"
      ]
    },
    {
      "cell_type": "markdown",
      "metadata": {
        "id": "-hD4OHD4Uc9R"
      },
      "source": [
        "\n",
        "Congrats! You've just made your first prediction! Based on the average price of other listings that accommdate 3 people, we should charge **351.19** dollars per night for a guest to stay at our living space. In the next section, we'll dive into evaluating how good of a prediction this is.\n",
        "\n",
        "Let's write a more general function that can suggest the optimal price for other values of the **accommodates** column. The **rio_listings** Dataframe has information specific to our living space, e.g. the **distance** column. To save you time, we've reset the **rio_listings** Dataframe to a clean state and only kept the data cleaning and randomization we did since those weren't unique to the prediction we were making for our living space.\n",
        "\n",
        "\n",
        "**Exercise Start**\n",
        "\n",
        "<left><img width=\"100\" alt=\"creating a repo\" src=\"https://drive.google.com/uc?export=view&id=1E8tR7B9YYUXsU_rddJAyq0FrM0MSelxZ\"></left>\n",
        "\n",
        "\n",
        "1. Write a function named **predict_price** that can use the **k-nearest neighbors machine learning** technique to calculate the suggested price for any value for **accomodates**. This function should:\n",
        "    - Take in a single parameter, **new_listing**, that describes the **number of accomodates**.\n",
        "    - Assign **rio_listings** to a new Dataframe named **temp_df** so we aren't constantly modifying the original dataset each time we call the function.\n",
        "    - Calculate the distance between each value in the **accomodates** column and the **new_listing** value that was passed in. Assign the resulting Series object to the **distance** column in **temp_df**.\n",
        "    - Sort **temp_df** by the **distance** column and select the first 5 values in the **price** column. Don't randomize the ordering of **temp_df**.\n",
        "    - Calculate the mean of these 5 values and use that as the return value for the entire **predict_price** function.\n",
        "2. Use the **predict_price** function to suggest a price for a living space that:\n",
        "    - accommodates 1 person, assign the suggested price to **acc_one**.\n",
        "    - accommodates 2 people, assign the suggested price to **acc_two**.\n",
        "    - accommodates 4 people, assign the suggested price to **acc_four**."
      ]
    },
    {
      "cell_type": "code",
      "metadata": {
        "id": "3gEl2Mmr_iD6"
      },
      "source": [
        "# Brought along the changes we made to the 'rio_listings' Dataframe.\n",
        "target_columns = [\"host_response_rate\", \"host_acceptance_rate\", \"host_listings_count\",\n",
        "                  \"latitude\",\"longitude\",\"accommodates\",\"neighbourhood\",\n",
        "                  \"room_type\",\"bedrooms\",\"bathrooms\",\"beds\",\"price\"\n",
        "                  ,\"minimum_nights\",\"maximum_nights\",\"number_of_reviews\"]\n",
        "\n",
        "rio_listings = pd.read_csv(\"listings.csv\",usecols=target_columns)\n",
        "\n",
        "stripped_commas = rio_listings['price'].str.replace(',', '',regex=False)\n",
        "stripped_dollars = stripped_commas.str.replace('$', '',regex=False)\n",
        "rio_listings['price'] = stripped_dollars.astype('float')\n",
        "rio_listings = rio_listings.loc[np.random.permutation(len(rio_listings))]\n",
        "\n",
        "def predict_price(new_listing):\n",
        "    ## Complete the function.\n",
        "    ## Put your code here\n",
        "    #\n",
        "    #\n",
        "    return(new_listing)\n",
        "\n",
        "acc_one = predict_price(1)\n",
        "acc_two = predict_price(2)\n",
        "acc_four = predict_price(4)"
      ],
      "execution_count": 37,
      "outputs": []
    },
    {
      "cell_type": "code",
      "source": [
        "# Brought along the changes we made to the `rio_listings` Dataframe.\n",
        "rio_listings = pd.read_csv('listings.csv')\n",
        "stripped_commas = rio_listings['price'].str.replace(',', '',regex=False)\n",
        "stripped_dollars = stripped_commas.str.replace('$', '',regex=False)\n",
        "rio_listings['price'] = stripped_dollars.astype('float')\n",
        "rio_listings = rio_listings.loc[np.random.permutation(len(rio_listings))]\n",
        "\n",
        "def predict_price(new_listing):\n",
        "    temp_df = rio_listings.copy()\n",
        "    temp_df['distance'] = temp_df['accommodates'].apply(lambda x: np.abs(x - new_listing))\n",
        "    temp_df = temp_df.sort_values('distance')\n",
        "    nearest_neighbors = temp_df.iloc[0:5]['price']\n",
        "    predicted_price = nearest_neighbors.mean()\n",
        "    return(predicted_price)\n",
        "\n",
        "acc_one = predict_price(1)\n",
        "acc_two = predict_price(2)\n",
        "acc_four = predict_price(4)\n",
        "print(acc_one)\n",
        "print(acc_two)\n",
        "print(acc_four)"
      ],
      "metadata": {
        "colab": {
          "base_uri": "https://localhost:8080/"
        },
        "id": "fr0jR6wBkRTX",
        "outputId": "875280a8-9791-42a3-9f34-b8b85298e431"
      },
      "execution_count": 38,
      "outputs": [
        {
          "output_type": "stream",
          "name": "stdout",
          "text": [
            "275.6\n",
            "1276.2\n",
            "628.6\n"
          ]
        }
      ]
    },
    {
      "cell_type": "markdown",
      "metadata": {
        "id": "mcJp4JUT_iD9"
      },
      "source": [
        "## 1.9 Next steps\n"
      ]
    },
    {
      "cell_type": "markdown",
      "metadata": {
        "id": "fhG6VfdGi5Ka"
      },
      "source": [
        "\n",
        "\n",
        "In this section, we explored the problem of predicting the optimal price to list an AirBnB rental for based on the price of similar listings on the site. We stepped through the entire machine learning workflow, from selecting a feature to testing the model. To explore the basics of machine learning, we limited ourselves to only using one feature (the univariate case) and a fixed **k** value.\n",
        "\n",
        "In the next section, we'll learn how to evaluate a model's performance."
      ]
    },
    {
      "cell_type": "markdown",
      "metadata": {
        "id": "7SeblUeJjIZO",
        "toc-hr-collapsed": true
      },
      "source": [
        "# 2.0 Evaluating Model Performance"
      ]
    },
    {
      "cell_type": "markdown",
      "metadata": {
        "id": "OpXKHwKWkPFe"
      },
      "source": [
        "## 2.1 Testing quality of predictions\n",
        "\n"
      ]
    },
    {
      "cell_type": "markdown",
      "metadata": {
        "id": "hcgc64IHy10x"
      },
      "source": [
        "\n",
        "\n",
        "We now have a function that can predict the price for any living space we want to list as long as we know the number of people it can accommodate. The function we wrote represents a **machine learning model**, which means that it outputs a prediction based on the input to the model.\n",
        "\n",
        "A simple way to test the quality of your model is to:\n",
        "\n",
        "- split the dataset into 2 partitions:\n",
        "    - the **training set**: contains the majority of the rows (75%)\n",
        "    - the **test set**: contains the remaining minority of the rows (25%)\n",
        "- use the rows in the training set to predict the **price** value for the rows in the test set\n",
        "    - add new column named **predicted_price** to the test set\n",
        "- compare the **predicted_price** values with the actual  **price** values in the test set to see how accurate the predicted values were.\n",
        "\n",
        "This validation process, where we use the training set to make predictions and the test set to predict values for, is known as **train/test validation**. Whenever you're performing machine learning, you want to perform validation of some kind to ensure that your machine learning model can make good predictions on new data. While train/test validation isn't perfect, we'll use it to understand the validation process, to select an error metric, and then we'll dive into a more robust validation process later in this lesson.\n",
        "\n",
        "Let's modify the **predicted_price** function to use only the rows in the training set, instead of the full dataset, to find the nearest neighbors, average the **price** values for those rows, and return the predicted price value. Then, we'll use this function to predict the price for just the rows in the test set. Once we have the predicted price values, we can compare with the true price values and start to understand the model's effectiveness in the next subsection.\n",
        "\n",
        "To start, we've gone ahead and assigned the first 75% of the rows in **rio_listings** to **train_df** and the last 25% of the rows to **test_df**. Here's a diagram explaining the split:\n",
        "\n",
        "<img width=\"600\" alt=\"creating a repo\" src=\"https://drive.google.com/uc?export=view&id=1UiS7Rhp1zv7WGUsDF34FBkRbc7Rpu037\">\n",
        "\n",
        "**Exercise Start**\n",
        "\n",
        "<left><img width=\"100\" alt=\"creating a repo\" src=\"https://drive.google.com/uc?export=view&id=1E8tR7B9YYUXsU_rddJAyq0FrM0MSelxZ\"></left>\n",
        " \n",
        "\n",
        "1. Within the **predict_price** function, change the Dataframe that **temp_df** is assigned to. Change it from **rio_listings** to **train_df**, so only the training set is used.\n",
        "2. Use the Series method **apply** to pass all of the values in the **accommodates** column from **test_df** through the **predict_price** function.\n",
        "3. Assign the resulting Series object to the **predict_price** column in **test_df**."
      ]
    },
    {
      "cell_type": "code",
      "metadata": {
        "id": "TVoRXGv6kPFf"
      },
      "source": [
        "# importing packages\n",
        "import pandas as pd\n",
        "import numpy as np\n",
        "\n",
        "# Brought along the changes we made to the 'rio_listings' Dataframe.\n",
        "target_columns = [\"price\",\"host_response_rate\", \"host_acceptance_rate\", \"host_listings_count\",\n",
        "                  \"latitude\",\"longitude\",\"accommodates\",\"neighbourhood\",\n",
        "                  \"room_type\",\"bedrooms\",\"bathrooms\",\"beds\"\n",
        "                  ,\"minimum_nights\",\"maximum_nights\",\"number_of_reviews\"]\n",
        "\n",
        "rio_listings = pd.read_csv(\"listings.csv\",usecols=target_columns)\n",
        "\n",
        "# cleaning & preparing\n",
        "stripped_commas = rio_listings['price'].str.replace(',', '',regex=False)\n",
        "stripped_dollars = stripped_commas.str.replace('$', '',regex=False)\n",
        "rio_listings['price'] = stripped_dollars.astype('float')\n",
        "\n",
        "# separte data into train and test (75%/25%)\n",
        "train_df = rio_listings.iloc[0:int(rio_listings.shape[0]*0.75)].copy()\n",
        "test_df = rio_listings.iloc[int(rio_listings.shape[0]*0.75):].copy()\n",
        "\n",
        "def predict_price(new_listing):\n",
        "    temp_df = rio_listings.copy()\n",
        "    temp_df['distance'] = temp_df['accommodates'].apply(lambda x: np.abs(x - new_listing))\n",
        "    temp_df = temp_df.sort_values('distance')\n",
        "    nearest_neighbor_prices = temp_df.iloc[0:5]['price']\n",
        "    predicted_price = nearest_neighbor_prices.mean()\n",
        "    return(predicted_price)\n",
        "  \n",
        "# put your code here"
      ],
      "execution_count": null,
      "outputs": []
    },
    {
      "cell_type": "code",
      "source": [
        "# importing packages\n",
        "import pandas as pd\n",
        "import numpy as np\n",
        "\n",
        "# Brought along the changes we made to the 'rio_listings' Dataframe.\n",
        "target_columns = [\"price\",\"host_response_rate\", \"host_acceptance_rate\", \"host_listings_count\",\n",
        "                  \"latitude\",\"longitude\",\"accommodates\",\"neighbourhood\",\n",
        "                  \"room_type\",\"bedrooms\",\"bathrooms\",\"beds\"\n",
        "                  ,\"minimum_nights\",\"maximum_nights\",\"number_of_reviews\"]\n",
        "\n",
        "rio_listings = pd.read_csv(\"listings.csv\",usecols=target_columns)\n",
        "\n",
        "# cleaning & preparing\n",
        "stripped_commas = rio_listings['price'].str.replace(',', '',regex=False)\n",
        "stripped_dollars = stripped_commas.str.replace('$', '',regex=False)\n",
        "rio_listings['price'] = stripped_dollars.astype('float')\n",
        "\n",
        "# separte data into train and test (75%/25%)\n",
        "train_df = rio_listings.iloc[0:int(rio_listings.shape[0]*0.75)].copy()\n",
        "test_df = rio_listings.iloc[int(rio_listings.shape[0]*0.75):].copy()\n",
        "\n",
        "def predict_price(new_listing):\n",
        "    temp_df = train_df.copy()\n",
        "    temp_df['distance'] = temp_df['accommodates'].apply(lambda x: np.abs(x - new_listing))\n",
        "    temp_df = temp_df.sort_values('distance')\n",
        "    nearest_neighbor_prices = temp_df.iloc[0:5]['price']\n",
        "    predicted_price = nearest_neighbor_prices.mean()\n",
        "    return(predicted_price)\n",
        "\n",
        "test_df['predicted_price'] = test_df['accommodates'].apply(predict_price)"
      ],
      "metadata": {
        "id": "gE_S2dYvX9DC"
      },
      "execution_count": 79,
      "outputs": []
    },
    {
      "cell_type": "code",
      "source": [
        "train_df.shape"
      ],
      "metadata": {
        "colab": {
          "base_uri": "https://localhost:8080/"
        },
        "id": "xQYit4YuaPPF",
        "outputId": "bf7d31d8-5906-48b7-a683-a3b6d4fcdb4d"
      },
      "execution_count": 80,
      "outputs": [
        {
          "output_type": "execute_result",
          "data": {
            "text/plain": [
              "(18411, 15)"
            ]
          },
          "metadata": {},
          "execution_count": 80
        }
      ]
    },
    {
      "cell_type": "code",
      "source": [
        "test_df.shape"
      ],
      "metadata": {
        "colab": {
          "base_uri": "https://localhost:8080/"
        },
        "id": "rwlww4wpaRdR",
        "outputId": "08398b52-ad0c-492f-d16b-16892021a04b"
      },
      "execution_count": 81,
      "outputs": [
        {
          "output_type": "execute_result",
          "data": {
            "text/plain": [
              "(6138, 16)"
            ]
          },
          "metadata": {},
          "execution_count": 81
        }
      ]
    },
    {
      "cell_type": "markdown",
      "metadata": {
        "id": "6EwvZvPckPFj"
      },
      "source": [
        "## 2.2 Error Metrics\n"
      ]
    },
    {
      "cell_type": "markdown",
      "metadata": {
        "id": "ltbNGVK-AVVL"
      },
      "source": [
        "\n",
        "\n",
        "We now need a metric that quantifies how good the predictions were on the test set. This class of metrics is called an **error metric**. As the name suggests, an error metric quantifies how inaccurate our predictions were from the actual values. In our case, the error metric tells us how off our predicted price values were from the actual price values for the living spaces in the test dataset.\n",
        "\n",
        "We could start by calculating the difference between each predicted and actual value and then averaging these differences. This is referred to as **mean error** but isn't an effective error metric for most cases. Mean error treats a positive difference differently than a negative difference, but we're really interested in how far off the prediction is in either the positive or negative direction. If the true price was 200 dollars and the model predicted 210 or 190 it's off by 10 dollars either way.\n",
        "\n",
        "We can instead use the **mean absolute error**, where we compute the absolute value of each error before we average all the errors.\n",
        "\n",
        "$\\displaystyle MAE = \\frac{\\left | actual_1 - predicted_1 \\right | + \\left | actual_2 - predicted_2 \\right | + \\\n",
        "\\ldots + \\left | actual_n - predicted_n \\right | }{n}$\n",
        "\n",
        "**Exercise Start**\n",
        "\n",
        "<left><img width=\"100\" alt=\"creating a repo\" src=\"https://drive.google.com/uc?export=view&id=1E8tR7B9YYUXsU_rddJAyq0FrM0MSelxZ\"></left> \n",
        "\n",
        "1. Use **np.absolute()** to calculate the mean absolute error between **predicted_price** and **price**.\n",
        "2. Assign the MAE to **mae**."
      ]
    },
    {
      "cell_type": "code",
      "metadata": {
        "id": "3wleEsD9CZau"
      },
      "source": [
        "# put your code here"
      ],
      "execution_count": null,
      "outputs": []
    },
    {
      "cell_type": "code",
      "source": [
        "import numpy as np\n",
        "test_df.loc[:,'error'] = np.absolute(test_df.loc[:,'predicted_price'] - test_df.loc[:,'price'])\n",
        "mae = test_df.loc[:,'error'].mean()\n",
        "print(mae)"
      ],
      "metadata": {
        "colab": {
          "base_uri": "https://localhost:8080/"
        },
        "id": "9Dr9MND1srJJ",
        "outputId": "87fc41e5-b8bb-4b23-9791-89c8a2aa7abc"
      },
      "execution_count": 82,
      "outputs": [
        {
          "output_type": "stream",
          "name": "stdout",
          "text": [
            "703.6751710654729\n"
          ]
        }
      ]
    },
    {
      "cell_type": "markdown",
      "metadata": {
        "id": "-1HV9LOukPFk"
      },
      "source": [
        "## 2.3 Mean Squared Error\n"
      ]
    },
    {
      "cell_type": "markdown",
      "metadata": {
        "id": "QTt-ZueWA5yY"
      },
      "source": [
        "\n",
        "\n",
        "For many prediction tasks, we want to penalize predicted values that are further away from the actual value much more than those that are closer to the actual value.\n",
        "\n",
        "We can instead take the mean of the squared error values, which is called the **mean squared error** or MSE for short. The MSE makes the gap between the predicted and actual values more clear. A prediction that's off by 100 dollars will have an error (of 10,000) that's 100 times more than a prediction that's off by only 10 dollars (which will have an error of 100).\n",
        "\n",
        "Here's the formula for MSE:\n",
        "\n",
        "$\\displaystyle MSE = \\frac{(actual_1 - predicted_1)^2 + (actual_2 - predicted_2)^2 + \\\n",
        "\\ldots + (actual_n - predicted_n)^2 }{n}$\n",
        "\n",
        "where **n** represents the number of rows in the test set. Let's calculate the MSE value for the predictions we made on the test set.\n",
        "\n",
        "**Exercise Start**\n",
        "\n",
        "<left><img width=\"100\" alt=\"creating a repo\" src=\"https://drive.google.com/uc?export=view&id=1E8tR7B9YYUXsU_rddJAyq0FrM0MSelxZ\"></left> \n",
        "\n",
        "1. Calculate the MSE value between the **predicted_price** and **price** columns and assign to **mse**."
      ]
    },
    {
      "cell_type": "code",
      "metadata": {
        "id": "EoFisr0TCAdT"
      },
      "source": [
        "# put your code here"
      ],
      "execution_count": null,
      "outputs": []
    },
    {
      "cell_type": "code",
      "source": [
        "test_df.loc[:,'squared_error'] = (test_df.loc[:,'predicted_price'] - test_df.loc[:,'price'])**(2)\n",
        "mse = test_df.loc[:,'squared_error'].mean()\n",
        "print(mse)"
      ],
      "metadata": {
        "colab": {
          "base_uri": "https://localhost:8080/"
        },
        "id": "ShjkwZEcAnHB",
        "outputId": "1a984ce8-cb84-4f61-9ff0-cc308ef693ef"
      },
      "execution_count": 83,
      "outputs": [
        {
          "output_type": "stream",
          "name": "stdout",
          "text": [
            "8791646.037008844\n"
          ]
        }
      ]
    },
    {
      "cell_type": "markdown",
      "metadata": {
        "id": "g0Cp8YWakPFk"
      },
      "source": [
        "## 2.4 Training another model\n",
        "\n",
        "The model we trained achieved a mean squared error of around **8791646**. Is this a high or a low mean squared error value? What does this tell us about the quality of the predictions and the model? By itself, the mean squared error value for a single model isn't all that useful.\n",
        "\n",
        "The units of mean squared error in our case is dollars squared (not dollars), which makes it hard to reason about intuitively as well. We can, however, train another model and then compare the mean squared error values to see which model performs better on a relative basis. Recall that a low error metric means that the gap between the predicted list price and actual list price values is low while a high error metric means the gap is high.\n",
        "\n",
        "Let's train another model, this time using the **beds** column, and compare MSE values.\n"
      ]
    },
    {
      "cell_type": "code",
      "source": [
        "# separte data into train and test (75%/25%)\n",
        "train_df = rio_listings.iloc[0:int(rio_listings.shape[0]*0.75)].copy()\n",
        "test_df = rio_listings.iloc[int(rio_listings.shape[0]*0.75):].copy()"
      ],
      "metadata": {
        "id": "j5-hXh4_JCll"
      },
      "execution_count": 84,
      "outputs": []
    },
    {
      "cell_type": "code",
      "source": [
        "from sklearn.impute import SimpleImputer\n",
        "imp_mean = SimpleImputer(strategy='mean')\n",
        "imp_mean.fit(np.array(train_df.beds).reshape(-1,1))\n",
        "train_df.loc[:,\"beds\"] = imp_mean.transform(np.array(train_df.beds).reshape(-1,1))\n",
        "test_df.loc[:,\"beds\"] = imp_mean.transform(np.array(test_df.beds).reshape(-1,1))"
      ],
      "metadata": {
        "id": "2mbQg-pOJVc9"
      },
      "execution_count": 85,
      "outputs": []
    },
    {
      "cell_type": "code",
      "source": [
        "train_df.beds.isnull().sum()"
      ],
      "metadata": {
        "colab": {
          "base_uri": "https://localhost:8080/"
        },
        "id": "7wIbGv3eK6Mj",
        "outputId": "023d5aad-c3b2-4b42-fe01-f226cdb0fc3c"
      },
      "execution_count": 86,
      "outputs": [
        {
          "output_type": "execute_result",
          "data": {
            "text/plain": [
              "0"
            ]
          },
          "metadata": {},
          "execution_count": 86
        }
      ]
    },
    {
      "cell_type": "code",
      "source": [
        "test_df.beds.isnull().sum()"
      ],
      "metadata": {
        "colab": {
          "base_uri": "https://localhost:8080/"
        },
        "id": "WQNpSvZaK-X5",
        "outputId": "9aad2377-9acb-4398-ec8c-9fab9b4327ca"
      },
      "execution_count": 87,
      "outputs": [
        {
          "output_type": "execute_result",
          "data": {
            "text/plain": [
              "0"
            ]
          },
          "metadata": {},
          "execution_count": 87
        }
      ]
    },
    {
      "cell_type": "markdown",
      "source": [
        "\n",
        "**Exercise Start**\n",
        "\n",
        "<left><img width=\"100\" alt=\"creating a repo\" src=\"https://drive.google.com/uc?export=view&id=1E8tR7B9YYUXsU_rddJAyq0FrM0MSelxZ\"></left> \n",
        "\n",
        "\n",
        "1. Modify the **predict_price** function below to use the **beds** column instead of the **accommodates** column to make predictions.\n",
        "2. Apply the function to **test_df** and assign the resulting Series object containing the predicted price values to the **predicted_price** column in **test_df**.\n",
        "3. Calculate the squared error between the price and **predicted_price** columns in **test_df** and assign the resulting Series object to the **squared_error** column in **test_df**.\n",
        "4. Calculate the mean of the **squared_error** column in **test_df** and assign to **mse**."
      ],
      "metadata": {
        "id": "Gv5O5NfqJB76"
      }
    },
    {
      "cell_type": "code",
      "metadata": {
        "id": "jaAapmBTkPFl"
      },
      "source": [
        "def predict_price(new_listing):\n",
        "    temp_df = train_df.copy()\n",
        "    temp_df.loc[:,'distance'] = temp_df.loc[:,'accommodates'].apply(lambda x: np.abs(x - new_listing))\n",
        "    temp_df = temp_df.sort_values('distance')\n",
        "    nearest_neighbors_prices = temp_df.iloc[0:5]['price']\n",
        "    predicted_price = nearest_neighbors_prices.mean()\n",
        "    return(predicted_price)\n",
        "  \n",
        "# put your code here"
      ],
      "execution_count": 88,
      "outputs": []
    },
    {
      "cell_type": "code",
      "source": [
        "# separte data into train and test (75%/25%)\n",
        "train_df = rio_listings.iloc[0:int(rio_listings.shape[0]*0.75)].copy()\n",
        "test_df = rio_listings.iloc[int(rio_listings.shape[0]*0.75):].copy()\n",
        "\n",
        "def predict_price(new_listing):\n",
        "    temp_df = train_df.copy()\n",
        "    temp_df.loc[:,'distance'] = temp_df.loc[:,'beds'].apply(lambda x: np.abs(x - new_listing))\n",
        "    temp_df = temp_df.sort_values('distance')\n",
        "    nearest_neighbors_prices = temp_df.iloc[0:5]['price']\n",
        "    predicted_price = nearest_neighbors_prices.mean()\n",
        "    return(predicted_price)\n",
        "\n",
        "test_df.loc[:,'predicted_price'] = test_df.loc[:,'beds'].apply(lambda x: predict_price(x))\n",
        "test_df.loc[:,'squared_error'] = (test_df.loc[:,'predicted_price'] - test_df.loc[:,'price'])**(2)\n",
        "mse = test_df.loc[:,'squared_error'].mean()\n",
        "print(mse)"
      ],
      "metadata": {
        "colab": {
          "base_uri": "https://localhost:8080/"
        },
        "id": "jqhB341VA9dM",
        "outputId": "642affdd-6a87-4562-d90b-74d45045877a"
      },
      "execution_count": 89,
      "outputs": [
        {
          "output_type": "stream",
          "name": "stdout",
          "text": [
            "9272897.950485418\n"
          ]
        }
      ]
    },
    {
      "cell_type": "markdown",
      "metadata": {
        "id": "smAy-ySjkPFp"
      },
      "source": [
        "## 2.5 Root Mean Squared Error\n"
      ]
    },
    {
      "cell_type": "markdown",
      "metadata": {
        "id": "N-wSXNibRL77"
      },
      "source": [
        "\n",
        "\n",
        "While comparing MSE values helps us identify which model performs better on a relative basis, it doesn't help us understand if the performance is good enough in general. This is because the units of the MSE metric are squared (in this case, dollars squared). An MSE value of **9198553** dollars squared doesn't give us an intuitive sense of how far off the model's predictions are systematically off from the true price value in dollars.\n",
        "\n",
        "**Root mean squared error** is an error metric whose units are the base unit (in our case, dollars). RMSE for short, this error metric is calculated by taking the square root of the MSE value:\n",
        "\n",
        "$\\displaystyle RMSE=\\sqrt{MSE}$\n",
        "\n",
        "Since the RMSE value uses the same units as the target column, we can understand how far off in real dollars we can expect the model to perform. For example, if a model achieves an RMSE value of greater than 100, we can expect the predicted price value to be off by 100 dollars on average.\n",
        "\n",
        "Let's calculate the RMSE value of the model we trained using the **beds** column.\n",
        "\n",
        "**Exercise Start**\n",
        "\n",
        "<left><img width=\"100\" alt=\"creating a repo\" src=\"https://drive.google.com/uc?export=view&id=1E8tR7B9YYUXsU_rddJAyq0FrM0MSelxZ\"></left> \n",
        "\n",
        "\n",
        "\n",
        "1. Calculate the RMSE value of the model we trained using the **beds** column and assign it to **rmse**.\n"
      ]
    },
    {
      "cell_type": "code",
      "metadata": {
        "id": "lJh970BBRl4I"
      },
      "source": [
        "# put your code here"
      ],
      "execution_count": null,
      "outputs": []
    },
    {
      "cell_type": "code",
      "source": [
        "def predict_price(new_listing):\n",
        "    temp_df = train_df.copy()\n",
        "    temp_df.loc[:,'distance'] = temp_df.loc[:,'beds'].apply(lambda x: np.abs(x - new_listing))\n",
        "    temp_df = temp_df.sort_values('distance')\n",
        "    nearest_neighbors_prices = temp_df.iloc[0:5]['price']\n",
        "    predicted_price = nearest_neighbors_prices.mean()\n",
        "    return(predicted_price)\n",
        "\n",
        "test_df.loc[:,'predicted_price'] = test_df.loc[:,'beds'].apply(lambda x: predict_price(x))\n",
        "test_df.loc[:,'squared_error'] = (test_df.loc[:,'predicted_price'] - test_df['price'])**(2)\n",
        "mse = test_df['squared_error'].mean()\n",
        "rmse = mse ** (1/2)\n",
        "print(rmse)"
      ],
      "metadata": {
        "colab": {
          "base_uri": "https://localhost:8080/"
        },
        "id": "Gk-ZJYYLGFhi",
        "outputId": "f1540e21-dba2-42e7-ef40-fa98e6b0e1d5"
      },
      "execution_count": 90,
      "outputs": [
        {
          "output_type": "stream",
          "name": "stdout",
          "text": [
            "3045.143338249518\n"
          ]
        }
      ]
    },
    {
      "cell_type": "markdown",
      "metadata": {
        "id": "8p8M0vRrZgAJ",
        "toc-hr-collapsed": true
      },
      "source": [
        "# 3.0 Multivariate K-Nearest Neighbors"
      ]
    },
    {
      "cell_type": "markdown",
      "metadata": {
        "id": "9pTqcY7MZNaz"
      },
      "source": [
        "## 3.1 Recap\n"
      ]
    },
    {
      "cell_type": "markdown",
      "metadata": {
        "id": "EOEkNkGDiMKJ"
      },
      "source": [
        "\n",
        "\n",
        "In the last two sections, we explored how to use a simple k-nearest neighbors machine learning model that used just one feature, or attribute, of the listing to predict the rent price. We first relied on the **accommodates** column, which describes the number of people a living space can comfortably accommodate. Then, we switched to the **beds** column and observed an deacrease in accuracy. \n",
        "\n",
        "While these were good features to become familiar with the basics of machine learning, it's clear that using just a single feature to compare listings doesn't reflect the reality of the market. An apartment that can accommodate 4 guests in a popular part of **Rio de Janeiro**. will rent for much higher than one that can accommodate 4 guests in a crime ridden area.\n",
        "\n",
        "There are **2 ways** we can tweak the model to try **to improve the accuracy** (decrease the RMSE during validation):\n",
        "\n",
        "- **increase the number of attributes** the model uses to calculate similarity when ranking the closest neighbors\n",
        "- **increase k**, the number of nearby neighbors the model uses when computing the prediction\n",
        "\n",
        "\n",
        "In this section, we'll focus on increasing the number of attributes the model uses. When selecting more attributes to use in the model, we need to watch out for columns that don't work well with the distance equation. This includes columns containing:\n",
        "\n",
        "- **non-numerical values** (e.g. city or state)\n",
        "    - Euclidean distance equation expects numerical values\n",
        "- **missing values**\n",
        "    - distance equation expects a value for each observation and attribute\n",
        "- **non-ordinal values** (e.g. latitude or longitude)\n",
        "    - ranking by Euclidean distance doesn't make sense if all attributes aren't ordinal\n",
        "    \n",
        "In the following code screen, we've read the **listings.csv** dataset from the last section into pandas and brought over the data cleaning changes we made. Let's first look at the first row's values to identify any columns containing non-numerical or non-ordinal values. In the next screen, we'll drop those columns and then look for missing values in each of the remaining columns.\n",
        "\n",
        "**Exercise Start**\n",
        "\n",
        "<left><img width=\"100\" alt=\"creating a repo\" src=\"https://drive.google.com/uc?export=view&id=1E8tR7B9YYUXsU_rddJAyq0FrM0MSelxZ\"></left> \n",
        "\n",
        "\n",
        "1. Use the **DataFrame.info()** method to return the number of non-null values in each column.\n",
        "\n"
      ]
    },
    {
      "cell_type": "code",
      "metadata": {
        "id": "5VWSVHnVZNa0"
      },
      "source": [
        "# importing packages\n",
        "import pandas as pd\n",
        "import numpy as np\n",
        "np.random.seed(1)\n",
        "\n",
        "# Brought along the changes we made to the 'rio_listings' Dataframe.\n",
        "target_columns = [\"price\",\"host_response_rate\", \"host_acceptance_rate\", \"host_listings_count\",\n",
        "                  \"latitude\",\"longitude\",\"accommodates\",\"neighbourhood\",\n",
        "                  \"room_type\",\"bedrooms\",\"bathrooms\",\"beds\"\n",
        "                  ,\"minimum_nights\",\"maximum_nights\",\"number_of_reviews\"]\n",
        "\n",
        "rio_listings = pd.read_csv(\"listings.csv\",usecols=target_columns)\n",
        "\n",
        "rio_listings = rio_listings.loc[np.random.permutation(len(rio_listings))]\n",
        "stripped_commas = rio_listings.loc[:,'price'].str.replace(',', '',regex=False)\n",
        "stripped_dollars = stripped_commas.str.replace('$', '',regex=False)\n",
        "rio_listings.loc[:,'price'] = stripped_dollars.astype('float')\n",
        "\n",
        "# put your code here"
      ],
      "execution_count": 60,
      "outputs": []
    },
    {
      "cell_type": "code",
      "source": [
        "rio_listings.info()"
      ],
      "metadata": {
        "colab": {
          "base_uri": "https://localhost:8080/"
        },
        "id": "kTQtIG1tfhWv",
        "outputId": "a1ed435d-8b89-480f-9797-c5ee3ebe76e5"
      },
      "execution_count": 61,
      "outputs": [
        {
          "output_type": "stream",
          "name": "stdout",
          "text": [
            "<class 'pandas.core.frame.DataFrame'>\n",
            "Int64Index: 24549 entries, 3757 to 235\n",
            "Data columns (total 15 columns):\n",
            " #   Column                Non-Null Count  Dtype  \n",
            "---  ------                --------------  -----  \n",
            " 0   host_response_rate    20668 non-null  object \n",
            " 1   host_acceptance_rate  18902 non-null  object \n",
            " 2   host_listings_count   24534 non-null  float64\n",
            " 3   neighbourhood         13212 non-null  object \n",
            " 4   latitude              24549 non-null  float64\n",
            " 5   longitude             24549 non-null  float64\n",
            " 6   room_type             24549 non-null  object \n",
            " 7   accommodates          24549 non-null  int64  \n",
            " 8   bathrooms             0 non-null      float64\n",
            " 9   bedrooms              23059 non-null  float64\n",
            " 10  beds                  24202 non-null  float64\n",
            " 11  price                 24549 non-null  float64\n",
            " 12  minimum_nights        24549 non-null  int64  \n",
            " 13  maximum_nights        24549 non-null  int64  \n",
            " 14  number_of_reviews     24549 non-null  int64  \n",
            "dtypes: float64(7), int64(4), object(4)\n",
            "memory usage: 3.0+ MB\n"
          ]
        }
      ]
    },
    {
      "cell_type": "code",
      "source": [
        "rio_listings.isnull().sum()"
      ],
      "metadata": {
        "colab": {
          "base_uri": "https://localhost:8080/"
        },
        "id": "FPgVk2tWfnvx",
        "outputId": "c2453735-83b7-433c-ccd8-6680a796bb36"
      },
      "execution_count": 62,
      "outputs": [
        {
          "output_type": "execute_result",
          "data": {
            "text/plain": [
              "host_response_rate       3881\n",
              "host_acceptance_rate     5647\n",
              "host_listings_count        15\n",
              "neighbourhood           11337\n",
              "latitude                    0\n",
              "longitude                   0\n",
              "room_type                   0\n",
              "accommodates                0\n",
              "bathrooms               24549\n",
              "bedrooms                 1490\n",
              "beds                      347\n",
              "price                       0\n",
              "minimum_nights              0\n",
              "maximum_nights              0\n",
              "number_of_reviews           0\n",
              "dtype: int64"
            ]
          },
          "metadata": {},
          "execution_count": 62
        }
      ]
    },
    {
      "cell_type": "code",
      "source": [
        "rio_listings.head()"
      ],
      "metadata": {
        "colab": {
          "base_uri": "https://localhost:8080/",
          "height": 357
        },
        "id": "DVbYGlcghv4Z",
        "outputId": "2ea84146-2b8b-4304-abd8-9e6992052ff1"
      },
      "execution_count": 63,
      "outputs": [
        {
          "output_type": "execute_result",
          "data": {
            "text/plain": [
              "      host_response_rate host_acceptance_rate  host_listings_count  \\\n",
              "3757                100%                 100%                  4.0   \n",
              "15234               100%                 100%                  1.0   \n",
              "18723               100%                  86%                  2.0   \n",
              "20524                 0%                  20%                  0.0   \n",
              "12620               100%                  73%                  3.0   \n",
              "\n",
              "                            neighbourhood  latitude  longitude  \\\n",
              "3757                                  NaN -22.94613  -43.18182   \n",
              "15234                                 NaN -22.97502  -43.18756   \n",
              "18723                                 NaN -22.96965  -43.38803   \n",
              "20524  Copacabana, Rio de Janeiro, Brazil -22.96822  -43.18333   \n",
              "12620              Rio de Janeiro, Brazil -22.98209  -43.20406   \n",
              "\n",
              "             room_type  accommodates  bathrooms  bedrooms  beds   price  \\\n",
              "3757   Entire home/apt             4        NaN       1.0   1.0   280.0   \n",
              "15234  Entire home/apt             6        NaN       3.0   5.0  1000.0   \n",
              "18723  Entire home/apt             2        NaN       NaN   1.0   244.0   \n",
              "20524  Entire home/apt             6        NaN       2.0   3.0   180.0   \n",
              "12620  Entire home/apt             4        NaN       2.0   3.0   943.0   \n",
              "\n",
              "       minimum_nights  maximum_nights  number_of_reviews  \n",
              "3757                2              30                  8  \n",
              "15234               5              30                 17  \n",
              "18723               3             365                  2  \n",
              "20524               2              30                  0  \n",
              "12620               6            1125                  8  "
            ],
            "text/html": [
              "\n",
              "  <div id=\"df-f92b25d2-b286-43db-8259-b4f3863c1c57\">\n",
              "    <div class=\"colab-df-container\">\n",
              "      <div>\n",
              "<style scoped>\n",
              "    .dataframe tbody tr th:only-of-type {\n",
              "        vertical-align: middle;\n",
              "    }\n",
              "\n",
              "    .dataframe tbody tr th {\n",
              "        vertical-align: top;\n",
              "    }\n",
              "\n",
              "    .dataframe thead th {\n",
              "        text-align: right;\n",
              "    }\n",
              "</style>\n",
              "<table border=\"1\" class=\"dataframe\">\n",
              "  <thead>\n",
              "    <tr style=\"text-align: right;\">\n",
              "      <th></th>\n",
              "      <th>host_response_rate</th>\n",
              "      <th>host_acceptance_rate</th>\n",
              "      <th>host_listings_count</th>\n",
              "      <th>neighbourhood</th>\n",
              "      <th>latitude</th>\n",
              "      <th>longitude</th>\n",
              "      <th>room_type</th>\n",
              "      <th>accommodates</th>\n",
              "      <th>bathrooms</th>\n",
              "      <th>bedrooms</th>\n",
              "      <th>beds</th>\n",
              "      <th>price</th>\n",
              "      <th>minimum_nights</th>\n",
              "      <th>maximum_nights</th>\n",
              "      <th>number_of_reviews</th>\n",
              "    </tr>\n",
              "  </thead>\n",
              "  <tbody>\n",
              "    <tr>\n",
              "      <th>3757</th>\n",
              "      <td>100%</td>\n",
              "      <td>100%</td>\n",
              "      <td>4.0</td>\n",
              "      <td>NaN</td>\n",
              "      <td>-22.94613</td>\n",
              "      <td>-43.18182</td>\n",
              "      <td>Entire home/apt</td>\n",
              "      <td>4</td>\n",
              "      <td>NaN</td>\n",
              "      <td>1.0</td>\n",
              "      <td>1.0</td>\n",
              "      <td>280.0</td>\n",
              "      <td>2</td>\n",
              "      <td>30</td>\n",
              "      <td>8</td>\n",
              "    </tr>\n",
              "    <tr>\n",
              "      <th>15234</th>\n",
              "      <td>100%</td>\n",
              "      <td>100%</td>\n",
              "      <td>1.0</td>\n",
              "      <td>NaN</td>\n",
              "      <td>-22.97502</td>\n",
              "      <td>-43.18756</td>\n",
              "      <td>Entire home/apt</td>\n",
              "      <td>6</td>\n",
              "      <td>NaN</td>\n",
              "      <td>3.0</td>\n",
              "      <td>5.0</td>\n",
              "      <td>1000.0</td>\n",
              "      <td>5</td>\n",
              "      <td>30</td>\n",
              "      <td>17</td>\n",
              "    </tr>\n",
              "    <tr>\n",
              "      <th>18723</th>\n",
              "      <td>100%</td>\n",
              "      <td>86%</td>\n",
              "      <td>2.0</td>\n",
              "      <td>NaN</td>\n",
              "      <td>-22.96965</td>\n",
              "      <td>-43.38803</td>\n",
              "      <td>Entire home/apt</td>\n",
              "      <td>2</td>\n",
              "      <td>NaN</td>\n",
              "      <td>NaN</td>\n",
              "      <td>1.0</td>\n",
              "      <td>244.0</td>\n",
              "      <td>3</td>\n",
              "      <td>365</td>\n",
              "      <td>2</td>\n",
              "    </tr>\n",
              "    <tr>\n",
              "      <th>20524</th>\n",
              "      <td>0%</td>\n",
              "      <td>20%</td>\n",
              "      <td>0.0</td>\n",
              "      <td>Copacabana, Rio de Janeiro, Brazil</td>\n",
              "      <td>-22.96822</td>\n",
              "      <td>-43.18333</td>\n",
              "      <td>Entire home/apt</td>\n",
              "      <td>6</td>\n",
              "      <td>NaN</td>\n",
              "      <td>2.0</td>\n",
              "      <td>3.0</td>\n",
              "      <td>180.0</td>\n",
              "      <td>2</td>\n",
              "      <td>30</td>\n",
              "      <td>0</td>\n",
              "    </tr>\n",
              "    <tr>\n",
              "      <th>12620</th>\n",
              "      <td>100%</td>\n",
              "      <td>73%</td>\n",
              "      <td>3.0</td>\n",
              "      <td>Rio de Janeiro, Brazil</td>\n",
              "      <td>-22.98209</td>\n",
              "      <td>-43.20406</td>\n",
              "      <td>Entire home/apt</td>\n",
              "      <td>4</td>\n",
              "      <td>NaN</td>\n",
              "      <td>2.0</td>\n",
              "      <td>3.0</td>\n",
              "      <td>943.0</td>\n",
              "      <td>6</td>\n",
              "      <td>1125</td>\n",
              "      <td>8</td>\n",
              "    </tr>\n",
              "  </tbody>\n",
              "</table>\n",
              "</div>\n",
              "      <button class=\"colab-df-convert\" onclick=\"convertToInteractive('df-f92b25d2-b286-43db-8259-b4f3863c1c57')\"\n",
              "              title=\"Convert this dataframe to an interactive table.\"\n",
              "              style=\"display:none;\">\n",
              "        \n",
              "  <svg xmlns=\"http://www.w3.org/2000/svg\" height=\"24px\"viewBox=\"0 0 24 24\"\n",
              "       width=\"24px\">\n",
              "    <path d=\"M0 0h24v24H0V0z\" fill=\"none\"/>\n",
              "    <path d=\"M18.56 5.44l.94 2.06.94-2.06 2.06-.94-2.06-.94-.94-2.06-.94 2.06-2.06.94zm-11 1L8.5 8.5l.94-2.06 2.06-.94-2.06-.94L8.5 2.5l-.94 2.06-2.06.94zm10 10l.94 2.06.94-2.06 2.06-.94-2.06-.94-.94-2.06-.94 2.06-2.06.94z\"/><path d=\"M17.41 7.96l-1.37-1.37c-.4-.4-.92-.59-1.43-.59-.52 0-1.04.2-1.43.59L10.3 9.45l-7.72 7.72c-.78.78-.78 2.05 0 2.83L4 21.41c.39.39.9.59 1.41.59.51 0 1.02-.2 1.41-.59l7.78-7.78 2.81-2.81c.8-.78.8-2.07 0-2.86zM5.41 20L4 18.59l7.72-7.72 1.47 1.35L5.41 20z\"/>\n",
              "  </svg>\n",
              "      </button>\n",
              "      \n",
              "  <style>\n",
              "    .colab-df-container {\n",
              "      display:flex;\n",
              "      flex-wrap:wrap;\n",
              "      gap: 12px;\n",
              "    }\n",
              "\n",
              "    .colab-df-convert {\n",
              "      background-color: #E8F0FE;\n",
              "      border: none;\n",
              "      border-radius: 50%;\n",
              "      cursor: pointer;\n",
              "      display: none;\n",
              "      fill: #1967D2;\n",
              "      height: 32px;\n",
              "      padding: 0 0 0 0;\n",
              "      width: 32px;\n",
              "    }\n",
              "\n",
              "    .colab-df-convert:hover {\n",
              "      background-color: #E2EBFA;\n",
              "      box-shadow: 0px 1px 2px rgba(60, 64, 67, 0.3), 0px 1px 3px 1px rgba(60, 64, 67, 0.15);\n",
              "      fill: #174EA6;\n",
              "    }\n",
              "\n",
              "    [theme=dark] .colab-df-convert {\n",
              "      background-color: #3B4455;\n",
              "      fill: #D2E3FC;\n",
              "    }\n",
              "\n",
              "    [theme=dark] .colab-df-convert:hover {\n",
              "      background-color: #434B5C;\n",
              "      box-shadow: 0px 1px 3px 1px rgba(0, 0, 0, 0.15);\n",
              "      filter: drop-shadow(0px 1px 2px rgba(0, 0, 0, 0.3));\n",
              "      fill: #FFFFFF;\n",
              "    }\n",
              "  </style>\n",
              "\n",
              "      <script>\n",
              "        const buttonEl =\n",
              "          document.querySelector('#df-f92b25d2-b286-43db-8259-b4f3863c1c57 button.colab-df-convert');\n",
              "        buttonEl.style.display =\n",
              "          google.colab.kernel.accessAllowed ? 'block' : 'none';\n",
              "\n",
              "        async function convertToInteractive(key) {\n",
              "          const element = document.querySelector('#df-f92b25d2-b286-43db-8259-b4f3863c1c57');\n",
              "          const dataTable =\n",
              "            await google.colab.kernel.invokeFunction('convertToInteractive',\n",
              "                                                     [key], {});\n",
              "          if (!dataTable) return;\n",
              "\n",
              "          const docLinkHtml = 'Like what you see? Visit the ' +\n",
              "            '<a target=\"_blank\" href=https://colab.research.google.com/notebooks/data_table.ipynb>data table notebook</a>'\n",
              "            + ' to learn more about interactive tables.';\n",
              "          element.innerHTML = '';\n",
              "          dataTable['output_type'] = 'display_data';\n",
              "          await google.colab.output.renderOutput(dataTable, element);\n",
              "          const docLink = document.createElement('div');\n",
              "          docLink.innerHTML = docLinkHtml;\n",
              "          element.appendChild(docLink);\n",
              "        }\n",
              "      </script>\n",
              "    </div>\n",
              "  </div>\n",
              "  "
            ]
          },
          "metadata": {},
          "execution_count": 63
        }
      ]
    },
    {
      "cell_type": "markdown",
      "metadata": {
        "id": "vxp5QS1BZNa3"
      },
      "source": [
        "## 3.2 Removing features\n"
      ]
    },
    {
      "cell_type": "markdown",
      "metadata": {
        "id": "BYpZfziqkXJH"
      },
      "source": [
        "\n",
        "\n",
        "The following columns contain non-numerical values:\n",
        "\n",
        "- **room_type**: e.g. **Private room**\n",
        "- **neighbourhood**: e.g. **Copacabana**\n",
        "\n",
        "while these columns contain numerical but non-ordinal values:\n",
        "\n",
        "- **latitude**: e.g. **-22.92**\n",
        "- **longitude**: e.g. **-43.23**\n",
        "\n",
        "\n",
        "Geographic values like these aren't ordinal, because a smaller numerical value doesn't directly correspond to a smaller value in a meaningful way. For example, latitude and longitude value pairs describe a point on a geographic coordinate system and different equations are used in those cases (e.g. [haversine](https://en.wikipedia.org/wiki/Haversine_formula)).\n",
        "\n",
        "While we could convert the **host_response_rate** and **host_acceptance_rate** columns to be numerical (right now they're object data types and contain the **%** sign), these columns describe the host and not the living space itself. Since a host could have many living spaces and we don't have enough information to uniquely group living spaces to the hosts themselves, let's avoid using any columns that don't directly describe the living space or the listing itself:\n",
        "\n",
        "- **host_response_rate**\n",
        "- **host_acceptance_rate**\n",
        "- **host_listings_count**\n",
        "\n",
        "Let's remove these 7 columns from the Dataframe\n",
        "\n",
        "**Exercise Start**\n",
        "\n",
        "<left><img width=\"100\" alt=\"creating a repo\" src=\"https://drive.google.com/uc?export=view&id=1E8tR7B9YYUXsU_rddJAyq0FrM0MSelxZ\"></left> \n",
        "\n",
        "1. Remove the 7 columns we discussed above from **rio_listings**:\n",
        "    - 2 containing non-numerical values\n",
        "    - 2 containing numerical but non-ordinal values\n",
        "    - 3 describing the host instead of the living space itself\n",
        "2. Verify the number of null values of each remain columns\n",
        "\n"
      ]
    },
    {
      "cell_type": "code",
      "metadata": {
        "id": "0d-Goy5XlM0P"
      },
      "source": [
        "# put your code here"
      ],
      "execution_count": null,
      "outputs": []
    },
    {
      "cell_type": "code",
      "source": [
        "drop_columns = ['room_type', 'neighbourhood', \n",
        "                'latitude','longitude', \n",
        "                'host_response_rate', \n",
        "                'host_acceptance_rate',\n",
        "                'host_listings_count']\n",
        "rio_listings = rio_listings.drop(drop_columns, axis=1)\n",
        "rio_listings.isnull().sum()"
      ],
      "metadata": {
        "colab": {
          "base_uri": "https://localhost:8080/"
        },
        "id": "zWfY3YrOm_Ni",
        "outputId": "a7d04a19-fbf4-4c10-8a3d-0a34df9d5511"
      },
      "execution_count": 64,
      "outputs": [
        {
          "output_type": "execute_result",
          "data": {
            "text/plain": [
              "accommodates             0\n",
              "bathrooms            24549\n",
              "bedrooms              1490\n",
              "beds                   347\n",
              "price                    0\n",
              "minimum_nights           0\n",
              "maximum_nights           0\n",
              "number_of_reviews        0\n",
              "dtype: int64"
            ]
          },
          "metadata": {},
          "execution_count": 64
        }
      ]
    },
    {
      "cell_type": "code",
      "source": [
        "rio_listings.isnull().sum()/rio_listings.shape[0]"
      ],
      "metadata": {
        "colab": {
          "base_uri": "https://localhost:8080/"
        },
        "id": "DqBYumytnm59",
        "outputId": "27d51cda-9176-475c-ab10-8bdec155bf58"
      },
      "execution_count": 65,
      "outputs": [
        {
          "output_type": "execute_result",
          "data": {
            "text/plain": [
              "accommodates         0.000000\n",
              "bathrooms            1.000000\n",
              "bedrooms             0.060695\n",
              "beds                 0.014135\n",
              "price                0.000000\n",
              "minimum_nights       0.000000\n",
              "maximum_nights       0.000000\n",
              "number_of_reviews    0.000000\n",
              "dtype: float64"
            ]
          },
          "metadata": {},
          "execution_count": 65
        }
      ]
    },
    {
      "cell_type": "markdown",
      "metadata": {
        "id": "8V1be1QLZNa4"
      },
      "source": [
        "## 3.3 Handling missing values\n"
      ]
    },
    {
      "cell_type": "markdown",
      "metadata": {
        "id": "Ix-X5iZnsxzF"
      },
      "source": [
        "\n",
        "Of the remaining columns, 3 columns have missing values:\n",
        "\n",
        "- **bedrooms**\n",
        "- **bathrooms**\n",
        "- **beds**\n",
        "\n",
        "Since the number of rows containing missing values for two of these 3 columns is low, we can select and remove those rows without losing much information. However, bathrooms column has a large number of missing values and we can't handle these easily. We can't just remove the rows containing missing values for the bathrooms column because we'd miss out on the majority of the observations in the dataset. Instead, let's remove this column entirely from consideration.\n",
        "\n",
        "**Exercise Start**\n",
        "\n",
        "<left><img width=\"100\" alt=\"creating a repo\" src=\"https://drive.google.com/uc?export=view&id=1E8tR7B9YYUXsU_rddJAyq0FrM0MSelxZ\"></left> \n",
        "\n",
        "1. Drop the **bathrooms** column from **rio_listings**.\n",
        "2. Then, remove all rows that contain a missing value for the **bedrooms** or **beds** column from **rio_listings**.\n",
        "    - You can accomplish this by using the [Dataframe method dropna()](http://pandas.pydata.org/pandas-docs/stable/generated/pandas.DataFrame.dropna.html) and setting the **axis** parameter to **0**.\n",
        "    - Since only the **bedrooms**, **bathrooms** and **beds** columns contain any missing values, rows containing missing values in these columns will be removed.\n",
        "3. Display the null value counts for the updated **rio_listings** Dataframe to confirm that there are no missing values left."
      ]
    },
    {
      "cell_type": "code",
      "metadata": {
        "id": "0ZS1f7LmweoC"
      },
      "source": [
        "# put your code here"
      ],
      "execution_count": null,
      "outputs": []
    },
    {
      "cell_type": "code",
      "source": [
        "rio_listings = rio_listings.drop(['bathrooms'], axis=1)\n",
        "rio_listings = rio_listings.dropna(axis=0)\n",
        "rio_listings.isnull().sum()"
      ],
      "metadata": {
        "colab": {
          "base_uri": "https://localhost:8080/"
        },
        "id": "eSBz0yMdoo44",
        "outputId": "5f0ed4b0-edb2-4fd6-814b-21de55e4bcfa"
      },
      "execution_count": 66,
      "outputs": [
        {
          "output_type": "execute_result",
          "data": {
            "text/plain": [
              "accommodates         0\n",
              "bedrooms             0\n",
              "beds                 0\n",
              "price                0\n",
              "minimum_nights       0\n",
              "maximum_nights       0\n",
              "number_of_reviews    0\n",
              "dtype: int64"
            ]
          },
          "metadata": {},
          "execution_count": 66
        }
      ]
    },
    {
      "cell_type": "code",
      "source": [
        "rio_listings.shape"
      ],
      "metadata": {
        "colab": {
          "base_uri": "https://localhost:8080/"
        },
        "id": "2oVHwxDHo7w9",
        "outputId": "fc9a2127-b068-4f01-e031-402ac2ac06ec"
      },
      "execution_count": 67,
      "outputs": [
        {
          "output_type": "execute_result",
          "data": {
            "text/plain": [
              "(22757, 7)"
            ]
          },
          "metadata": {},
          "execution_count": 67
        }
      ]
    },
    {
      "cell_type": "code",
      "source": [
        "rio_listings.head()"
      ],
      "metadata": {
        "colab": {
          "base_uri": "https://localhost:8080/",
          "height": 206
        },
        "id": "V9ERwuGXri5J",
        "outputId": "1c2723f1-42f8-44dc-9ba8-b197f41258e2"
      },
      "execution_count": 68,
      "outputs": [
        {
          "output_type": "execute_result",
          "data": {
            "text/plain": [
              "       accommodates  bedrooms  beds   price  minimum_nights  maximum_nights  \\\n",
              "3757              4       1.0   1.0   280.0               2              30   \n",
              "15234             6       3.0   5.0  1000.0               5              30   \n",
              "20524             6       2.0   3.0   180.0               2              30   \n",
              "12620             4       2.0   3.0   943.0               6            1125   \n",
              "4527              4       1.0   3.0   227.0               1            1125   \n",
              "\n",
              "       number_of_reviews  \n",
              "3757                   8  \n",
              "15234                 17  \n",
              "20524                  0  \n",
              "12620                  8  \n",
              "4527                   0  "
            ],
            "text/html": [
              "\n",
              "  <div id=\"df-e09bf1d2-c992-4f7c-a45f-fe286a3c312d\">\n",
              "    <div class=\"colab-df-container\">\n",
              "      <div>\n",
              "<style scoped>\n",
              "    .dataframe tbody tr th:only-of-type {\n",
              "        vertical-align: middle;\n",
              "    }\n",
              "\n",
              "    .dataframe tbody tr th {\n",
              "        vertical-align: top;\n",
              "    }\n",
              "\n",
              "    .dataframe thead th {\n",
              "        text-align: right;\n",
              "    }\n",
              "</style>\n",
              "<table border=\"1\" class=\"dataframe\">\n",
              "  <thead>\n",
              "    <tr style=\"text-align: right;\">\n",
              "      <th></th>\n",
              "      <th>accommodates</th>\n",
              "      <th>bedrooms</th>\n",
              "      <th>beds</th>\n",
              "      <th>price</th>\n",
              "      <th>minimum_nights</th>\n",
              "      <th>maximum_nights</th>\n",
              "      <th>number_of_reviews</th>\n",
              "    </tr>\n",
              "  </thead>\n",
              "  <tbody>\n",
              "    <tr>\n",
              "      <th>3757</th>\n",
              "      <td>4</td>\n",
              "      <td>1.0</td>\n",
              "      <td>1.0</td>\n",
              "      <td>280.0</td>\n",
              "      <td>2</td>\n",
              "      <td>30</td>\n",
              "      <td>8</td>\n",
              "    </tr>\n",
              "    <tr>\n",
              "      <th>15234</th>\n",
              "      <td>6</td>\n",
              "      <td>3.0</td>\n",
              "      <td>5.0</td>\n",
              "      <td>1000.0</td>\n",
              "      <td>5</td>\n",
              "      <td>30</td>\n",
              "      <td>17</td>\n",
              "    </tr>\n",
              "    <tr>\n",
              "      <th>20524</th>\n",
              "      <td>6</td>\n",
              "      <td>2.0</td>\n",
              "      <td>3.0</td>\n",
              "      <td>180.0</td>\n",
              "      <td>2</td>\n",
              "      <td>30</td>\n",
              "      <td>0</td>\n",
              "    </tr>\n",
              "    <tr>\n",
              "      <th>12620</th>\n",
              "      <td>4</td>\n",
              "      <td>2.0</td>\n",
              "      <td>3.0</td>\n",
              "      <td>943.0</td>\n",
              "      <td>6</td>\n",
              "      <td>1125</td>\n",
              "      <td>8</td>\n",
              "    </tr>\n",
              "    <tr>\n",
              "      <th>4527</th>\n",
              "      <td>4</td>\n",
              "      <td>1.0</td>\n",
              "      <td>3.0</td>\n",
              "      <td>227.0</td>\n",
              "      <td>1</td>\n",
              "      <td>1125</td>\n",
              "      <td>0</td>\n",
              "    </tr>\n",
              "  </tbody>\n",
              "</table>\n",
              "</div>\n",
              "      <button class=\"colab-df-convert\" onclick=\"convertToInteractive('df-e09bf1d2-c992-4f7c-a45f-fe286a3c312d')\"\n",
              "              title=\"Convert this dataframe to an interactive table.\"\n",
              "              style=\"display:none;\">\n",
              "        \n",
              "  <svg xmlns=\"http://www.w3.org/2000/svg\" height=\"24px\"viewBox=\"0 0 24 24\"\n",
              "       width=\"24px\">\n",
              "    <path d=\"M0 0h24v24H0V0z\" fill=\"none\"/>\n",
              "    <path d=\"M18.56 5.44l.94 2.06.94-2.06 2.06-.94-2.06-.94-.94-2.06-.94 2.06-2.06.94zm-11 1L8.5 8.5l.94-2.06 2.06-.94-2.06-.94L8.5 2.5l-.94 2.06-2.06.94zm10 10l.94 2.06.94-2.06 2.06-.94-2.06-.94-.94-2.06-.94 2.06-2.06.94z\"/><path d=\"M17.41 7.96l-1.37-1.37c-.4-.4-.92-.59-1.43-.59-.52 0-1.04.2-1.43.59L10.3 9.45l-7.72 7.72c-.78.78-.78 2.05 0 2.83L4 21.41c.39.39.9.59 1.41.59.51 0 1.02-.2 1.41-.59l7.78-7.78 2.81-2.81c.8-.78.8-2.07 0-2.86zM5.41 20L4 18.59l7.72-7.72 1.47 1.35L5.41 20z\"/>\n",
              "  </svg>\n",
              "      </button>\n",
              "      \n",
              "  <style>\n",
              "    .colab-df-container {\n",
              "      display:flex;\n",
              "      flex-wrap:wrap;\n",
              "      gap: 12px;\n",
              "    }\n",
              "\n",
              "    .colab-df-convert {\n",
              "      background-color: #E8F0FE;\n",
              "      border: none;\n",
              "      border-radius: 50%;\n",
              "      cursor: pointer;\n",
              "      display: none;\n",
              "      fill: #1967D2;\n",
              "      height: 32px;\n",
              "      padding: 0 0 0 0;\n",
              "      width: 32px;\n",
              "    }\n",
              "\n",
              "    .colab-df-convert:hover {\n",
              "      background-color: #E2EBFA;\n",
              "      box-shadow: 0px 1px 2px rgba(60, 64, 67, 0.3), 0px 1px 3px 1px rgba(60, 64, 67, 0.15);\n",
              "      fill: #174EA6;\n",
              "    }\n",
              "\n",
              "    [theme=dark] .colab-df-convert {\n",
              "      background-color: #3B4455;\n",
              "      fill: #D2E3FC;\n",
              "    }\n",
              "\n",
              "    [theme=dark] .colab-df-convert:hover {\n",
              "      background-color: #434B5C;\n",
              "      box-shadow: 0px 1px 3px 1px rgba(0, 0, 0, 0.15);\n",
              "      filter: drop-shadow(0px 1px 2px rgba(0, 0, 0, 0.3));\n",
              "      fill: #FFFFFF;\n",
              "    }\n",
              "  </style>\n",
              "\n",
              "      <script>\n",
              "        const buttonEl =\n",
              "          document.querySelector('#df-e09bf1d2-c992-4f7c-a45f-fe286a3c312d button.colab-df-convert');\n",
              "        buttonEl.style.display =\n",
              "          google.colab.kernel.accessAllowed ? 'block' : 'none';\n",
              "\n",
              "        async function convertToInteractive(key) {\n",
              "          const element = document.querySelector('#df-e09bf1d2-c992-4f7c-a45f-fe286a3c312d');\n",
              "          const dataTable =\n",
              "            await google.colab.kernel.invokeFunction('convertToInteractive',\n",
              "                                                     [key], {});\n",
              "          if (!dataTable) return;\n",
              "\n",
              "          const docLinkHtml = 'Like what you see? Visit the ' +\n",
              "            '<a target=\"_blank\" href=https://colab.research.google.com/notebooks/data_table.ipynb>data table notebook</a>'\n",
              "            + ' to learn more about interactive tables.';\n",
              "          element.innerHTML = '';\n",
              "          dataTable['output_type'] = 'display_data';\n",
              "          await google.colab.output.renderOutput(dataTable, element);\n",
              "          const docLink = document.createElement('div');\n",
              "          docLink.innerHTML = docLinkHtml;\n",
              "          element.appendChild(docLink);\n",
              "        }\n",
              "      </script>\n",
              "    </div>\n",
              "  </div>\n",
              "  "
            ]
          },
          "metadata": {},
          "execution_count": 68
        }
      ]
    },
    {
      "cell_type": "markdown",
      "metadata": {
        "id": "wyUZLEQeZNa5"
      },
      "source": [
        "## 3.4 Normalize columns\n"
      ]
    },
    {
      "cell_type": "markdown",
      "metadata": {
        "id": "JCRHHpK6w2Vo"
      },
      "source": [
        "\n",
        "\n",
        "Here's how the **rio_listings** Dataframe looks like after all the changes we made:\n",
        "\n",
        "| | accommodates | bedrooms | beds | price | minimum_nights | maximum_nights | number_of_reviews |    \n",
        "|--------------|----------|------|-------|----------------|----------------|-------------------|----|\n",
        "| 3757         | 4        | 1.0  | 1.0   | 280.0          | 2              | 30                | 8  |\n",
        "| 15234        | 6        | 3.0  | 5.0   | 1000.0         | 5              | 30                | 17 |\n",
        "| 20524        | 6        | 2.0  | 3.0   | 180.0          | 2              | 30                | 0  |\n",
        "| 12620        | 4        | 2.0  | 3.0   | 943.0          | 6              | 1125              | 8  |\n",
        "| 4527         | 4        | 1.0  | 3.0   | 227.0          | 1              | 1125              | 0  |\n",
        "\n",
        "You may have noticed that while the **accommodates**, **bedrooms**, **beds**, and **minimum_nights** columns hover between 1 and 6 (at least in the first few rows), the values in the **maximum_nights** and **number_of_reviews** columns span much larger ranges. For example, the **maximum_nights** column has values as low as 30 and high as 1125, in the first few rows itself. If we use these 2 columns as part of a k-nearest neighbors model, these attributes could end up having an outsized effect on the distance calculations because of the largeness of the values.\n",
        "\n",
        "For example, 2 living spaces could be identical across every attribute but be vastly different just on the **maximum_nights** column. If one listing had a **maximum_nights** value of 1125 and the other a **maximum_nights** value of 30, because of the way Euclidean distance is calculated, these listings would be considered very far apart because of the outsized effect the largeness of the values had on the overall Euclidean distance. To prevent any single column from having too much of an impact on the distance, we can **normalize** all of the columns to have a mean of 0 and a standard deviation of 1.\n",
        "\n",
        "Normalizing the values in each columns to the [standard normal distribution](https://en.wikipedia.org/wiki/Normal_distribution#Standard_normal_distribution) (mean of 0, standard deviation of 1) preserves the distribution of the values in each column while aligning the scales. To normalize the values in a column to the standard normal distribution, you need to:\n",
        "\n",
        "- from each value, subtract the mean of the column\n",
        "- divide each value by the standard deviation of the column\n",
        "\n",
        "Here's the mathematical formula describing the transformation that needs to be applied for all values in a column:\n",
        "\n",
        "$\\displaystyle z= \\frac{x − \\mu}{\\sigma}$\n",
        "\n",
        "where x is a value in a specific column, $\\mu$ is the mean of all the values in the column, and $\\sigma$ is the standard deviation of all the values in the column. Here's what the corresponding code, using pandas, looks like:\n",
        "\n",
        "```python\n",
        "# Subtract each value in the column by the mean.\n",
        "first_transform = rio_listings['maximum_nights'] - rio_listings['maximum_nights'].mean()\n",
        "# Divide each value in the column by the standard deviation.\n",
        "normalized_col = first_transform / rio_listings['maximum_nights'].std()\n",
        "```\n",
        "\n",
        "To apply this transformation across all of the columns in a Dataframe, you can use the corresponding Dataframe methods mean() and std():\n",
        "\n",
        "```python\n",
        "normalized_listings = (rio_listings - rio_listings.mean()) / (rio_listings.std())\n",
        "```\n",
        "\n",
        "These methods were written with mass column transformation in mind and when you call **mean()** or **std()**, the appropriate column means and column standard deviations are used for each value in the Dataframe. Let's now normalize all of the feature columns in **rio_listings**.\n",
        "\n",
        "**Exercise Start**\n",
        "\n",
        "<left><img width=\"100\" alt=\"creating a repo\" src=\"https://drive.google.com/uc?export=view&id=1E8tR7B9YYUXsU_rddJAyq0FrM0MSelxZ\"></left> \n",
        "\n",
        "1. Normalize all of the feature columns in **rio_listings** and assign the new Dataframe containing just the normalized feature columns to **normalized_listings**.\n",
        "2. Add the price column from **rio_listings** to **normalized_listings**.\n",
        "3. Display the first 3 rows in **normalized_listings**.\n",
        "4. Use the function **describe** to see min and max values in **normalized_listings**.\n",
        "5. Don't forget to eliminate outliers under **normalized_listings**. (note: this can be a little bit more difficult than previous exercises)"
      ]
    },
    {
      "cell_type": "code",
      "metadata": {
        "id": "h7sQr0K2z299"
      },
      "source": [
        "# put your code here"
      ],
      "execution_count": null,
      "outputs": []
    },
    {
      "cell_type": "code",
      "source": [
        "normalized_listings = (rio_listings - rio_listings.mean())/(rio_listings.std())\n",
        "normalized_listings.loc[:,'price'] = rio_listings.loc[:,'price']\n",
        "normalized_listings.head(5)"
      ],
      "metadata": {
        "colab": {
          "base_uri": "https://localhost:8080/",
          "height": 206
        },
        "id": "iHo9neMawOeB",
        "outputId": "d38db165-9f31-4aba-a5e2-3dc466a60ec4"
      },
      "execution_count": 70,
      "outputs": [
        {
          "output_type": "execute_result",
          "data": {
            "text/plain": [
              "       accommodates  bedrooms      beds   price  minimum_nights  \\\n",
              "3757      -0.101490 -0.647043 -0.728645   280.0       -0.144334   \n",
              "15234      0.697541  1.151181  1.004717  1000.0       -0.004319   \n",
              "20524      0.697541  0.252069  0.138036   180.0       -0.144334   \n",
              "12620     -0.101490  0.252069  0.138036   943.0        0.042353   \n",
              "4527      -0.101490 -0.647043  0.138036   227.0       -0.191006   \n",
              "\n",
              "       maximum_nights  number_of_reviews  \n",
              "3757        -0.909669          -0.180958  \n",
              "15234       -0.909669           0.086595  \n",
              "20524       -0.909669          -0.418783  \n",
              "12620        0.834585          -0.180958  \n",
              "4527         0.834585          -0.418783  "
            ],
            "text/html": [
              "\n",
              "  <div id=\"df-4ec03068-a81a-4fa7-a408-b8dbbf6ff17b\">\n",
              "    <div class=\"colab-df-container\">\n",
              "      <div>\n",
              "<style scoped>\n",
              "    .dataframe tbody tr th:only-of-type {\n",
              "        vertical-align: middle;\n",
              "    }\n",
              "\n",
              "    .dataframe tbody tr th {\n",
              "        vertical-align: top;\n",
              "    }\n",
              "\n",
              "    .dataframe thead th {\n",
              "        text-align: right;\n",
              "    }\n",
              "</style>\n",
              "<table border=\"1\" class=\"dataframe\">\n",
              "  <thead>\n",
              "    <tr style=\"text-align: right;\">\n",
              "      <th></th>\n",
              "      <th>accommodates</th>\n",
              "      <th>bedrooms</th>\n",
              "      <th>beds</th>\n",
              "      <th>price</th>\n",
              "      <th>minimum_nights</th>\n",
              "      <th>maximum_nights</th>\n",
              "      <th>number_of_reviews</th>\n",
              "    </tr>\n",
              "  </thead>\n",
              "  <tbody>\n",
              "    <tr>\n",
              "      <th>3757</th>\n",
              "      <td>-0.101490</td>\n",
              "      <td>-0.647043</td>\n",
              "      <td>-0.728645</td>\n",
              "      <td>280.0</td>\n",
              "      <td>-0.144334</td>\n",
              "      <td>-0.909669</td>\n",
              "      <td>-0.180958</td>\n",
              "    </tr>\n",
              "    <tr>\n",
              "      <th>15234</th>\n",
              "      <td>0.697541</td>\n",
              "      <td>1.151181</td>\n",
              "      <td>1.004717</td>\n",
              "      <td>1000.0</td>\n",
              "      <td>-0.004319</td>\n",
              "      <td>-0.909669</td>\n",
              "      <td>0.086595</td>\n",
              "    </tr>\n",
              "    <tr>\n",
              "      <th>20524</th>\n",
              "      <td>0.697541</td>\n",
              "      <td>0.252069</td>\n",
              "      <td>0.138036</td>\n",
              "      <td>180.0</td>\n",
              "      <td>-0.144334</td>\n",
              "      <td>-0.909669</td>\n",
              "      <td>-0.418783</td>\n",
              "    </tr>\n",
              "    <tr>\n",
              "      <th>12620</th>\n",
              "      <td>-0.101490</td>\n",
              "      <td>0.252069</td>\n",
              "      <td>0.138036</td>\n",
              "      <td>943.0</td>\n",
              "      <td>0.042353</td>\n",
              "      <td>0.834585</td>\n",
              "      <td>-0.180958</td>\n",
              "    </tr>\n",
              "    <tr>\n",
              "      <th>4527</th>\n",
              "      <td>-0.101490</td>\n",
              "      <td>-0.647043</td>\n",
              "      <td>0.138036</td>\n",
              "      <td>227.0</td>\n",
              "      <td>-0.191006</td>\n",
              "      <td>0.834585</td>\n",
              "      <td>-0.418783</td>\n",
              "    </tr>\n",
              "  </tbody>\n",
              "</table>\n",
              "</div>\n",
              "      <button class=\"colab-df-convert\" onclick=\"convertToInteractive('df-4ec03068-a81a-4fa7-a408-b8dbbf6ff17b')\"\n",
              "              title=\"Convert this dataframe to an interactive table.\"\n",
              "              style=\"display:none;\">\n",
              "        \n",
              "  <svg xmlns=\"http://www.w3.org/2000/svg\" height=\"24px\"viewBox=\"0 0 24 24\"\n",
              "       width=\"24px\">\n",
              "    <path d=\"M0 0h24v24H0V0z\" fill=\"none\"/>\n",
              "    <path d=\"M18.56 5.44l.94 2.06.94-2.06 2.06-.94-2.06-.94-.94-2.06-.94 2.06-2.06.94zm-11 1L8.5 8.5l.94-2.06 2.06-.94-2.06-.94L8.5 2.5l-.94 2.06-2.06.94zm10 10l.94 2.06.94-2.06 2.06-.94-2.06-.94-.94-2.06-.94 2.06-2.06.94z\"/><path d=\"M17.41 7.96l-1.37-1.37c-.4-.4-.92-.59-1.43-.59-.52 0-1.04.2-1.43.59L10.3 9.45l-7.72 7.72c-.78.78-.78 2.05 0 2.83L4 21.41c.39.39.9.59 1.41.59.51 0 1.02-.2 1.41-.59l7.78-7.78 2.81-2.81c.8-.78.8-2.07 0-2.86zM5.41 20L4 18.59l7.72-7.72 1.47 1.35L5.41 20z\"/>\n",
              "  </svg>\n",
              "      </button>\n",
              "      \n",
              "  <style>\n",
              "    .colab-df-container {\n",
              "      display:flex;\n",
              "      flex-wrap:wrap;\n",
              "      gap: 12px;\n",
              "    }\n",
              "\n",
              "    .colab-df-convert {\n",
              "      background-color: #E8F0FE;\n",
              "      border: none;\n",
              "      border-radius: 50%;\n",
              "      cursor: pointer;\n",
              "      display: none;\n",
              "      fill: #1967D2;\n",
              "      height: 32px;\n",
              "      padding: 0 0 0 0;\n",
              "      width: 32px;\n",
              "    }\n",
              "\n",
              "    .colab-df-convert:hover {\n",
              "      background-color: #E2EBFA;\n",
              "      box-shadow: 0px 1px 2px rgba(60, 64, 67, 0.3), 0px 1px 3px 1px rgba(60, 64, 67, 0.15);\n",
              "      fill: #174EA6;\n",
              "    }\n",
              "\n",
              "    [theme=dark] .colab-df-convert {\n",
              "      background-color: #3B4455;\n",
              "      fill: #D2E3FC;\n",
              "    }\n",
              "\n",
              "    [theme=dark] .colab-df-convert:hover {\n",
              "      background-color: #434B5C;\n",
              "      box-shadow: 0px 1px 3px 1px rgba(0, 0, 0, 0.15);\n",
              "      filter: drop-shadow(0px 1px 2px rgba(0, 0, 0, 0.3));\n",
              "      fill: #FFFFFF;\n",
              "    }\n",
              "  </style>\n",
              "\n",
              "      <script>\n",
              "        const buttonEl =\n",
              "          document.querySelector('#df-4ec03068-a81a-4fa7-a408-b8dbbf6ff17b button.colab-df-convert');\n",
              "        buttonEl.style.display =\n",
              "          google.colab.kernel.accessAllowed ? 'block' : 'none';\n",
              "\n",
              "        async function convertToInteractive(key) {\n",
              "          const element = document.querySelector('#df-4ec03068-a81a-4fa7-a408-b8dbbf6ff17b');\n",
              "          const dataTable =\n",
              "            await google.colab.kernel.invokeFunction('convertToInteractive',\n",
              "                                                     [key], {});\n",
              "          if (!dataTable) return;\n",
              "\n",
              "          const docLinkHtml = 'Like what you see? Visit the ' +\n",
              "            '<a target=\"_blank\" href=https://colab.research.google.com/notebooks/data_table.ipynb>data table notebook</a>'\n",
              "            + ' to learn more about interactive tables.';\n",
              "          element.innerHTML = '';\n",
              "          dataTable['output_type'] = 'display_data';\n",
              "          await google.colab.output.renderOutput(dataTable, element);\n",
              "          const docLink = document.createElement('div');\n",
              "          docLink.innerHTML = docLinkHtml;\n",
              "          element.appendChild(docLink);\n",
              "        }\n",
              "      </script>\n",
              "    </div>\n",
              "  </div>\n",
              "  "
            ]
          },
          "metadata": {},
          "execution_count": 70
        }
      ]
    },
    {
      "cell_type": "markdown",
      "metadata": {
        "id": "UniSmnEhZNa7"
      },
      "source": [
        "## 3.5 Euclidean distance for multivariate case\n"
      ]
    },
    {
      "cell_type": "markdown",
      "metadata": {
        "id": "3iUZeFvA11SH"
      },
      "source": [
        "\n",
        "\n",
        "In the last section, we trained 2 univariate k-nearest neighbors models. The first one used the **accommodates** attribute while the second one used the **bathrooms** attribute. Let's now train a model that uses **both** attributes when determining how similar 2 living spaces are. Let's refer to the Euclidean distance equation again to see what the distance calculation using 2 attributes would look like:\n",
        "\n",
        "$\\displaystyle d = \\sqrt{(q_1 - p_1)^2 + (q_2 - p_2)^2 + \\ldots + (q_n - p_n)^2}$\n",
        "\n",
        "Since we're using 2 attributes, the distance calculation would look like:\n",
        "\n",
        "$\\displaystyle d = \\sqrt{(accommodates_1 - accomodates_2)^2 + (bathrooms_1 - bathrooms_2)^2}$\n",
        "\n",
        "\n",
        "To find the distance between 2 living spaces, we need to calculate the squared difference between both **accommodates** values, the squared difference between both **bathrooms** values, add them together, and then take the square root of the resulting sum. Here's what the Euclidean distance between the first 2 rows in **normalized_listings** looks like:\n",
        "\n",
        "<img width=\"600\" alt=\"creating a repo\" src=\"https://drive.google.com/uc?export=view&id=15uoTMT1rzRLx9T8kIbsOWw7HaTmdBP0o\">\n",
        "\n",
        "\n",
        "So far, we've been calculating Euclidean distance ourselves by writing the logic for the equation ourselves. We can instead use the [distance.euclidean()](http://docs.scipy.org/doc/scipy-0.14.0/reference/generated/scipy.spatial.distance.euclidean.html) function from **scipy.spatial**, which takes in 2 vectors as the parameters and calculates the Euclidean distance between them. The **euclidean()** function expects:\n",
        "\n",
        "- both of the vectors to be represented using a **list-like** object (Python list, NumPy array, or pandas Series)\n",
        "- both of the vectors must be 1-dimensional and have the same number of elements\n",
        "\n",
        "Here's a simple example:\n",
        "\n",
        "```python\n",
        "from scipy.spatial import distance\n",
        "first_listing = [-0.596544, -0.439151]\n",
        "second_listing = [-0.596544, 0.412923]\n",
        "dist = distance.euclidean(first_listing, second_listing)\n",
        "```\n",
        "\n",
        "Let's use the **euclidean()** function to calculate the Euclidean distance between 2 rows in our dataset to practice.\n",
        "\n",
        "**Exercise Start**\n",
        "\n",
        "<left><img width=\"100\" alt=\"creating a repo\" src=\"https://drive.google.com/uc?export=view&id=1E8tR7B9YYUXsU_rddJAyq0FrM0MSelxZ\"></left>\n",
        "\n",
        "1. Calculate the Euclidean distance using only the **accommodates** and **bathrooms** features between the first row and fifth row in **normalized_listings** using the **distance.euclidean()** function.\n",
        "2. Assign the distance value to **first_fifth_distance** and display using the **print** function.\n"
      ]
    },
    {
      "cell_type": "code",
      "metadata": {
        "id": "bcczgNiV3Dwf"
      },
      "source": [
        "# put your code here"
      ],
      "execution_count": null,
      "outputs": []
    },
    {
      "cell_type": "code",
      "source": [
        "from scipy.spatial import distance\n",
        "first_listing = normalized_listings.iloc[0][['accommodates', 'beds']]\n",
        "fifth_listing = normalized_listings.iloc[4][['accommodates', 'beds']]\n",
        "first_fifth_distance = distance.euclidean(first_listing, fifth_listing)\n",
        "first_fifth_distance"
      ],
      "metadata": {
        "colab": {
          "base_uri": "https://localhost:8080/"
        },
        "id": "PY4au3NJqiw8",
        "outputId": "aad99707-379a-4819-f2f1-b08cbb4d7784"
      },
      "execution_count": 96,
      "outputs": [
        {
          "output_type": "execute_result",
          "data": {
            "text/plain": [
              "0.8666805788053152"
            ]
          },
          "metadata": {},
          "execution_count": 96
        }
      ]
    },
    {
      "cell_type": "markdown",
      "metadata": {
        "id": "MARVt0PcZNa8"
      },
      "source": [
        "## 3.6 Introduction to scikit-learn\n"
      ]
    },
    {
      "cell_type": "markdown",
      "metadata": {
        "id": "8OkTas2b37iJ"
      },
      "source": [
        "\n",
        "\n",
        "So far, we've been writing functions from scratch to train the **k-nearest neighbor models**. While this is helpful deliberate practice to understand how the mechanics work, you can be more productive and iterate quicker by using a library that handles most of the implementation. In this subsection, we'll learn about the [scikit-learn library](http://scikit-learn.org/), which is the most popular machine learning in Python. Scikit-learn contains functions for all of the major machine learning algorithms and a simple, unified workflow. Both of these properties allow data scientists to be incredibly productive when training and testing different models on a new dataset.\n",
        "\n",
        "The scikit-learn workflow consists of 4 main steps:\n",
        "\n",
        "- instantiate the specific machine learning model you want to use\n",
        "- fit the model to the training data\n",
        "- use the model to make predictions\n",
        "- evaluate the accuracy of the predictions\n",
        "\n",
        "\n",
        "We'll focus on the first 3 steps in this section. Each model in scikit-learn is implemented as a [separate class](http://scikit-learn.org/dev/modules/classes.html) and the first step is to identify the class we want to create an instance of. In our case, we want to use the [KNeighborsRegressor class](http://scikit-learn.org/stable/modules/generated/sklearn.neighbors.KNeighborsRegressor.html#sklearn.neighbors.KNeighborsRegressor).\n",
        "Any model that helps us predict numerical values, like listing price in our case, is known as a **regression** model. The other main class of machine learning models is called classification, where we're trying to predict a label from a fixed set of labels (e.g. blood type or gender). The word **regressor** from the class name **KNeighborsRegressor** refers to the regression model class that we just discussed.\n",
        "\n",
        "Scikit-learn uses a similar object-oriented style to Matplotlib and you need to instantiate an empty model first by calling the constructor:\n",
        "\n",
        "```python\n",
        "from sklearn.neighbors import KNeighborsRegressor\n",
        "knn = KNeighborsRegressor()\n",
        "```\n",
        "\n",
        "If you refer to the [documentation](http://scikit-learn.org/stable/modules/generated/sklearn.neighbors.KNeighborsRegressor.html#sklearn.neighbors.KNeighborsRegressor), you'll notice that by default:\n",
        "\n",
        "- **n_neighbors:**  the number of neighbors, is set to **5**\n",
        "- **algorithm:** for computing nearest neighbors, is set to **auto**\n",
        "- **p:** set to **2**, corresponding to Euclidean distance\n",
        "\n",
        "Let's set the **algorithm** parameter to **brute** and leave the **n_neighbors** value as 5, which matches the implementation we wrote in the last mission. If we leave the **algorithm** parameter set to the default value of **auto**, scikit-learn will try to use tree-based optimizations to improve performance (which are outside of the scope of this lesson):\n",
        "\n",
        "```python\n",
        "knn = KNeighborsRegressor(algorithm='brute')\n",
        "```\n"
      ]
    },
    {
      "cell_type": "markdown",
      "metadata": {
        "id": "HjiPj2x9ZNa9"
      },
      "source": [
        "## 3.7 Fitting a model and making predictions\n"
      ]
    },
    {
      "cell_type": "markdown",
      "metadata": {
        "id": "RWNIHM_T_jPl"
      },
      "source": [
        "\n",
        "\n",
        "Now, we can fit the model to the data using the [fit method](http://scikit-learn.org/stable/modules/generated/sklearn.neighbors.KNeighborsRegressor.html#sklearn.neighbors.KNeighborsRegressor.fit). For all models, the **fit** method takes in 2 required parameters:\n",
        "\n",
        "- matrix-like object, containing the feature columns we want to use from the training set.\n",
        "- list-like object, containing correct target values.\n",
        "\n",
        "Matrix-like object means that the method is flexible in the input and either a Dataframe or a NumPy 2D array of values is accepted. This means you can select the columns you want to use from the Dataframe and use that as the first parameter to the **fit** method.\n",
        "\n",
        "If you recall from earlier in the mission, all of the following are acceptable list-like objects:\n",
        "\n",
        "- NumPy array\n",
        "- Python list\n",
        "- pandas Series object (e.g. when selecting a column)\n",
        "\n",
        "You can select the target column from the Dataframe and use that as the second parameter to the **fit** method:\n",
        "\n",
        "\n",
        "```python\n",
        "# Split full dataset into train and test sets.\n",
        "train_df = normalized_listings.iloc[0:int(normalized_listings.shape[0]*0.75)]\n",
        "test_df = normalized_listings.iloc[int(normalized_listings.shape[0]*0.75):]\n",
        "# Matrix-like object, containing just the 2 columns of interest from training set.\n",
        "train_features = train_df[['accommodates', 'beds']]\n",
        "# List-like object, containing just the target column, `price`.\n",
        "train_target = normalized_listings['price']\n",
        "# Pass everything into the fit method.\n",
        "knn.fit(train_features, train_target)\n",
        "```\n",
        "\n",
        "\n",
        "When the **fit** method is called, scikit-learn stores the training data we specified within the KNearestNeighbors instance (**knn**). If you try passing in data containing missing values or non-numerical values into the **fit** method, scikit-learn will return an error. Scikit-learn contains many such features that help prevent us from making common mistakes.\n",
        "\n",
        "Now that we specified the training data we want used to make predictions, we can use the [predict method](http://scikit-learn.org/stable/modules/generated/sklearn.neighbors.KNeighborsRegressor.html#sklearn.neighbors.KNeighborsRegressor.predict) to make predictions on the test set. The **predict** method has only one required parameter:\n",
        "\n",
        "- matrix-like object, containing the feature columns from the dataset we want to make predictions on\n",
        "\n",
        "The number of feature columns you use during both training and testing need to match or scikit-learn will return an error:\n",
        "\n",
        "```python\n",
        "predictions = knn.predict(test_df[['accommodates', 'beds']])\n",
        "```\n",
        "\n",
        "The **predict()** method returns a NumPy array containing the predicted **price** values for the test set. You now have everything you need to practice the entire scikit-learn workflow.\n",
        "\n",
        "**Exercise Start**\n",
        "\n",
        "<left><img width=\"100\" alt=\"creating a repo\" src=\"https://drive.google.com/uc?export=view&id=1E8tR7B9YYUXsU_rddJAyq0FrM0MSelxZ\"></left>\n",
        "1. Create an instance of the [KNeighborsRegressor](http://scikit-learn.org/stable/modules/generated/sklearn.neighbors.KNeighborsRegressor.html#sklearn.neighbors.KNeighborsRegressor) class with the following parameters:\n",
        "    - **n_neighbors**: 5\n",
        "    - **algorithm**: brute\n",
        "2. Use the **fit** method to specify the data we want the k-nearest neighbor model to use. Use the following parameters:\n",
        "    - training data, feature columns: just the **accommodates** and **beds** columns, in that order, from **train_df**.\n",
        "    - training data, target column: the **price** column from **train_df**.\n",
        "3. Call the **predict** method to make predictions on:\n",
        "    - the **accommodates** and **beds** columns from **test_df**\n",
        "    - assign the resulting NumPy array of predicted price values to **predictions**."
      ]
    },
    {
      "cell_type": "code",
      "metadata": {
        "id": "kXSu8QoGZNa9"
      },
      "source": [
        "from sklearn.neighbors import KNeighborsRegressor\n",
        "\n",
        "# Split full dataset into train and test sets.\n",
        "train_df = normalized_listings.iloc[0:int(normalized_listings.shape[0]*0.75)].copy()\n",
        "test_df = normalized_listings.iloc[int(normalized_listings.shape[0]*0.75):].copy()\n",
        "\n",
        "# put your code here"
      ],
      "execution_count": null,
      "outputs": []
    },
    {
      "cell_type": "code",
      "source": [
        "from sklearn.neighbors import KNeighborsRegressor\n",
        "\n",
        "train_df = normalized_listings.iloc[0:int(normalized_listings.shape[0]*0.75)].copy()\n",
        "test_df = normalized_listings.iloc[int(normalized_listings.shape[0]*0.75):].copy()\n",
        "train_columns = ['accommodates', 'beds']\n",
        "\n",
        "# Instantiate ML model.\n",
        "knn = KNeighborsRegressor(n_neighbors=5, algorithm='brute')\n",
        "\n",
        "# Fit model to data.\n",
        "knn.fit(train_df[train_columns], train_df['price'])\n",
        "\n",
        "# Use model to make predictions.\n",
        "predictions = knn.predict(test_df[train_columns])"
      ],
      "metadata": {
        "id": "ff3li7Qct9af"
      },
      "execution_count": 97,
      "outputs": []
    },
    {
      "cell_type": "code",
      "source": [
        "predictions"
      ],
      "metadata": {
        "colab": {
          "base_uri": "https://localhost:8080/"
        },
        "id": "OaJ5Xy0v0let",
        "outputId": "60c87b35-82a3-4858-bff4-a419a2074a15"
      },
      "execution_count": 98,
      "outputs": [
        {
          "output_type": "execute_result",
          "data": {
            "text/plain": [
              "array([799.2, 799.2, 501.4, ..., 307.4, 492. , 834.8])"
            ]
          },
          "metadata": {},
          "execution_count": 98
        }
      ]
    },
    {
      "cell_type": "markdown",
      "metadata": {
        "id": "oLKowdxzZNbA"
      },
      "source": [
        "## 3.8 Calculating MSE using Scikit-Learn\n",
        "\n"
      ]
    },
    {
      "cell_type": "markdown",
      "metadata": {
        "id": "pYFgbObLC4K8"
      },
      "source": [
        "\n",
        "\n",
        "Earlier in this mission, we calculated the MSE and RMSE values using the pandas arithmetic operators to compare each predicted value with the actual value from the **price** column of our test set. Alternatively, we can instead use the [sklearn.metrics.mean_squared_error function()](http://scikit-learn.org/stable/modules/generated/sklearn.metrics.mean_squared_error.html#sklearn.metrics.mean_squared_error). Once you become familiar with the different machine learning concepts, unifying your workflow using scikit-learn helps save you a lot of time and avoid mistakes.\n",
        "\n",
        "The **mean_squared_error()** function takes in 2 inputs:\n",
        "\n",
        "- list-like object, representing the true values\n",
        "- list-like object, representing the predicted values using the model\n",
        "\n",
        "For this function, we won't show any sample code and will leave it to you to understand the function from the [documentation](http://scikit-learn.org/stable/modules/generated/sklearn.metrics.mean_squared_error.html#sklearn.metrics.mean_squared_error) itself to calculate the MSE and RMSE values for the predictions we just made.\n",
        "\n",
        "\n",
        "**Exercise Start**\n",
        "\n",
        "<left><img width=\"100\" alt=\"creating a repo\" src=\"https://drive.google.com/uc?export=view&id=1E8tR7B9YYUXsU_rddJAyq0FrM0MSelxZ\"></left>\n",
        "\n",
        "1. Use the **mean_squared_error** function to calculate the MSE value for the predictions we made in the previous exercise.\n",
        "2. Assign the MSE value to **two_features_mse**.\n",
        "3. Calculate the RMSE value by taking the square root of the MSE value and assign to **two_features_rmse**.\n",
        "4. Display both of these error scores using the **print** function.\n",
        "5. Using more features and compare the results."
      ]
    },
    {
      "cell_type": "code",
      "metadata": {
        "id": "0K359qjkZNbB"
      },
      "source": [
        "from sklearn.metrics import mean_squared_error\n",
        "\n",
        "# features\n",
        "train_columns = ['accommodates', 'beds']\n",
        "\n",
        "# instantiate a knn object\n",
        "knn = KNeighborsRegressor(n_neighbors=5, algorithm='brute', metric='euclidean')\n",
        "\n",
        "# train the model\n",
        "knn.fit(train_df[train_columns], train_df['price'])\n",
        "\n",
        "# predict\n",
        "predictions = knn.predict(test_df[train_columns])\n",
        "\n",
        "# put your code here"
      ],
      "execution_count": null,
      "outputs": []
    },
    {
      "cell_type": "code",
      "source": [
        "from sklearn.metrics import mean_squared_error\n",
        "\n",
        "train_columns = ['accommodates', 'beds']\n",
        "knn = KNeighborsRegressor(n_neighbors=5, algorithm='brute', metric='euclidean')\n",
        "knn.fit(train_df[train_columns], train_df['price'])\n",
        "predictions = knn.predict(test_df[train_columns])\n",
        "\n",
        "two_features_mse = mean_squared_error(test_df['price'], predictions)\n",
        "two_features_rmse = two_features_mse ** (1/2)\n",
        "print(two_features_mse)\n",
        "print(two_features_rmse)"
      ],
      "metadata": {
        "colab": {
          "base_uri": "https://localhost:8080/"
        },
        "id": "tsBEDo1X1MmS",
        "outputId": "a17e8e90-49a2-44d2-d0d0-7c43be71f403"
      },
      "execution_count": 99,
      "outputs": [
        {
          "output_type": "stream",
          "name": "stdout",
          "text": [
            "10217287.341405975\n",
            "3196.4491770409827\n"
          ]
        }
      ]
    },
    {
      "cell_type": "markdown",
      "metadata": {
        "id": "ZZF3VaXoUkm2",
        "toc-hr-collapsed": true
      },
      "source": [
        "# 4.0 Hyperparameter Optimization"
      ]
    },
    {
      "cell_type": "markdown",
      "metadata": {
        "id": "pqHvG-2kUl8K"
      },
      "source": [
        "## 4.1 Recap"
      ]
    },
    {
      "cell_type": "markdown",
      "metadata": {
        "id": "CYK97otjWEhs"
      },
      "source": [
        "In the last section, we focused on increasing the number of attributes the model uses. We saw how, in general, adding more attributes generally lowered the error of the model. This is because the model is able to do a better job identifying the living spaces from the training set that are the most similar to the ones from the test set. However, we also observed how using all of the available features didn't actually improve the model's accuracy automatically and that some of the features were probably not relevant for similarity ranking. We learned that selecting relevant features was the right lever when improving a model's accuracy, not just increasing the features used in the absolute.\n",
        "\n",
        "In this section, we'll focus on the impact of increasing **k**, the number of nearby neighbors the model uses to make predictions. \n"
      ]
    },
    {
      "cell_type": "code",
      "metadata": {
        "id": "z9ElhdYCYdf5"
      },
      "source": [
        "# Split full dataset into train and test sets.\n",
        "train_df = normalized_listings.iloc[0:int(normalized_listings.shape[0]*0.75)].copy()\n",
        "test_df = normalized_listings.iloc[int(normalized_listings.shape[0]*0.75):].copy()"
      ],
      "execution_count": 102,
      "outputs": []
    },
    {
      "cell_type": "markdown",
      "metadata": {
        "id": "_EXp7NSmsUya"
      },
      "source": [
        "## 4.2 Hyperparameters"
      ]
    },
    {
      "cell_type": "markdown",
      "metadata": {
        "id": "yfDZI_yzsaSi"
      },
      "source": [
        "When we vary the features that are used in the model, we're affecting the data that the model uses. On the other hand, varying the k value affects the behavior of the model independently of the actual data that's used when making predictions. In other words, we're impacting how the model performs without trying to change the data that's used.\n",
        "\n",
        "Values that affect the behavior and performance of a model that are unrelated to the data that's used are referred to as **hyperparameters**. The process of finding the optimal hyperparameter value is known as **hyperparameter optimization**. A simple but common [hyperparameter optimization](https://en.wikipedia.org/wiki/Hyperparameter_optimization) technique is known as [grid search](https://en.wikipedia.org/wiki/Hyperparameter_optimization#Grid_search), which involves:\n",
        "\n",
        "- selecting a subset of the possible hyperparameter values,\n",
        "- training a model using each of these hyperparameter values,\n",
        "- evaluating each model's performance,\n",
        "- selecting the hyperparameter value that resulted in the lowest error value.\n",
        "\n",
        "Grid search essentially boils down to evaluating the model performance at different k values and selecting the k value that resulted in the lowest error. While grid search can take a long time when working with large datasets, the data we're working with in this section is small and this process is relatively quick.\n",
        "\n",
        "Let's confirm that grid search will work quickly for the dataset we're working with by first observing how the model performance changes as we increase the k value from 1 to 5. If you recall, we set 5 as the k value for the last 2 sections. Let's use the features from the last mission:\n",
        "\n",
        "- **accommodates**\n",
        "- **bedrooms**\n",
        "- **beds**\n",
        "- **number_of_reviews**\n",
        "\n",
        "\n",
        "**Exercise Start**\n",
        "\n",
        "<left><img width=\"100\" alt=\"creating a repo\" src=\"https://drive.google.com/uc?export=view&id=1E8tR7B9YYUXsU_rddJAyq0FrM0MSelxZ\"></left> \n",
        "\n",
        "1. Create a list containing the integer values **1, 2, 3, $\\ldots$, 20**, in that order, and assign to **hyper_params**.\n",
        "2. Create an empty list and assign to **mse_values**.\n",
        "3. Use a **for loop** to iterate over **hyper_params** and in each iteration:\n",
        "    - Instantiate a **KNeighborsRegressor** object with the following parameters:\n",
        "        - **n_neighbors**: the current value for the iterator variable,\n",
        "        - **algorithm**: brute\n",
        "    - Fit the instantiated k-nearest neighbors model to the following columns from **train_df**:\n",
        "        - **accommodates**\n",
        "        - **bedrooms**\n",
        "        - **beds**\n",
        "        - **number_of_reviews**\n",
        "    - Use the trained model to make predictions on the same columns from **test_df** and assign to **predictions**.\n",
        "    - Use the **mean_squared_error** function to calculate the MSE value between **predictions** and the **price** column from **test_df**.\n",
        "    - Append the MSE value to **mse_values**.\n",
        "4. Display **mse_values** using the **print()** function.\n",
        "5. Calculate the **rmse** from **mse_values**. Use **print()** function to display **rmse**. \n",
        "6. Use the seaborn to generate a scatter plot with:\n",
        "    - **hyper_params** on the x-axis,\n",
        "    - **mse_values** on the y-axis.\n",
        "7. Use plt.show() to display the scatter plot.\n",
        "8. Try to find a combination of features which reach the best results."
      ]
    },
    {
      "cell_type": "code",
      "metadata": {
        "id": "TEgoeY0FtcJF"
      },
      "source": [
        "# put your code here"
      ],
      "execution_count": null,
      "outputs": []
    },
    {
      "cell_type": "code",
      "source": [
        "from sklearn.neighbors import KNeighborsRegressor\n",
        "from sklearn.metrics import mean_squared_error\n",
        "features = ['accommodates', 'bedrooms', 'beds', 'number_of_reviews']\n",
        "hyper_params = range(1,20)\n",
        "mse_values = list()\n",
        "\n",
        "for hp in hyper_params:\n",
        "    knn = KNeighborsRegressor(n_neighbors=hp, algorithm='brute')\n",
        "    knn.fit(train_df[features], train_df['price'])\n",
        "    predictions = knn.predict(test_df[features])\n",
        "    mse = mean_squared_error(test_df['price'], predictions)\n",
        "    mse_values.append(mse)\n",
        "\n",
        "print(mse_values)"
      ],
      "metadata": {
        "colab": {
          "base_uri": "https://localhost:8080/"
        },
        "id": "9n1yEGzgA3KP",
        "outputId": "d3732c30-e5f4-4dbf-e855-cfdd1fc34660"
      },
      "execution_count": 104,
      "outputs": [
        {
          "output_type": "stream",
          "name": "stdout",
          "text": [
            "[12542575.145869948, 11647645.667091388, 10680405.921480179, 14865248.745683216, 12868588.092337433, 11985440.87591779, 11352597.274921989, 10988487.31973583, 10753506.824643623, 10666324.842435854, 10992333.977748407, 10848303.306920035, 10592558.070971599, 10421544.725650083, 10330680.2791033, 10995888.213304592, 10839131.138407696, 10717144.575382954, 11142751.905350788]\n"
          ]
        }
      ]
    },
    {
      "cell_type": "markdown",
      "metadata": {
        "id": "HpvNmqHt46sT",
        "toc-hr-collapsed": true
      },
      "source": [
        "# 5.0 Cross-Validation"
      ]
    },
    {
      "cell_type": "markdown",
      "metadata": {
        "id": "fn6KIEUx7fyt"
      },
      "source": [
        "## 5.1 Introduction"
      ]
    },
    {
      "cell_type": "markdown",
      "metadata": {
        "id": "2YtCPPoq7smj"
      },
      "source": [
        "\n",
        "In an earlier sections, we learned about train/test validation, a simple technique for testing a machine learning model's accuracy on new data that the model wasn't trained on. In this section, we'll focus on more robust techniques.\n",
        "\n",
        "To start, we'll focus on the **holdout validation** technique, which involves:\n",
        "\n",
        "- splitting the full dataset into 2 partitions:\n",
        "    - a training set\n",
        "    - a test set\n",
        "- training the model on the training set,\n",
        "- using the trained model to predict values on the test set,\n",
        "- computing an error metric to understand the model's effectiveness,\n",
        "- switch the training and test sets and repeat,\n",
        "- average the errors.\n",
        "\n",
        "In holdout validation, we usually use a 50/50 split instead of the 75/25 split from train/test validation. This way, we remove number of observations as a potential source of variation in our model performance.\n",
        "\n",
        "<img width=\"400\" alt=\"creating a repo\" src=\"https://drive.google.com/uc?export=view&id=1Nwq2puuGhziyQ82eukrPctHQ8UGJ93Vt\">\n",
        "\n",
        "Let's start by splitting the data set into 2 nearly equivalent halves.\n"
      ]
    },
    {
      "cell_type": "code",
      "metadata": {
        "id": "WNt7jfUd9yNl"
      },
      "source": [
        "# Split full dataset into two splits dataset\n",
        "split_one_df = normalized_listings.iloc[0:int(normalized_listings.shape[0]*0.5)].copy()\n",
        "split_two_df = normalized_listings.iloc[int(normalized_listings.shape[0]*0.5):].copy()"
      ],
      "execution_count": 105,
      "outputs": []
    },
    {
      "cell_type": "markdown",
      "metadata": {
        "id": "DVkrBZx1-9hc"
      },
      "source": [
        "## 5.2 Holdout Validation\n"
      ]
    },
    {
      "cell_type": "markdown",
      "metadata": {
        "id": "p29KJ4TPDw4s"
      },
      "source": [
        "\n",
        "\n",
        "Now that we've split our data set into 2 dataframes, let's:\n",
        "\n",
        "- train a k-nearest neighbors model on the first half,\n",
        "- test this model on the second half,\n",
        "- train a k-nearest neighbors model on the second half,\n",
        "- test this model on the first half.\n",
        "\n",
        "\n",
        "**Exercise Start**\n",
        "\n",
        "<left><img width=\"100\" alt=\"creating a repo\" src=\"https://drive.google.com/uc?export=view&id=1E8tR7B9YYUXsU_rddJAyq0FrM0MSelxZ\"></left>\n",
        "\n",
        "- Train a k-nearest neighbors model using the default algorithm (**auto**) and the default number of neighbors (**5**) that:\n",
        "    - Uses the **accommodates** column from **train_one_df** for training and\n",
        "    - Tests it on  **test_one_df**.\n",
        "- Assign the resulting RMSE value to **iteration_one_rmse**.\n",
        "- Train a k-nearest neighbors model using the default algorithm (**auto**) and the default number of neighbors (**5**) that:\n",
        "    - Uses the **accommodates** column from **train_two_df** for training and\n",
        "    - Tests it on  **test_two_df**.\n",
        "- Assign the resulting RMSE value to **iteration_two_rmse**.\n",
        "- Use **numpy.mean()** to calculate the average of the 2 RMSE values and assign to **avg_rmse**."
      ]
    },
    {
      "cell_type": "code",
      "metadata": {
        "id": "aHmkRNHtFGj1"
      },
      "source": [
        "# put your code here"
      ],
      "execution_count": null,
      "outputs": []
    },
    {
      "cell_type": "code",
      "source": [
        "from sklearn.neighbors import KNeighborsRegressor\n",
        "from sklearn.metrics import mean_squared_error\n",
        "\n",
        "train_one = split_one_df\n",
        "test_one = split_two_df\n",
        "train_two = split_two_df\n",
        "test_two = split_one_df\n",
        "# First half\n",
        "model = KNeighborsRegressor()\n",
        "model.fit(train_one[[\"accommodates\"]], train_one[\"price\"])\n",
        "test_one[\"predicted_price\"] = model.predict(test_one[[\"accommodates\"]])\n",
        "iteration_one_rmse = mean_squared_error(test_one[\"price\"], test_one[\"predicted_price\"])**(1/2)\n",
        "\n",
        "# Second half\n",
        "model.fit(train_two[[\"accommodates\"]], train_two[\"price\"])\n",
        "test_two[\"predicted_price\"] = model.predict(test_two[[\"accommodates\"]])\n",
        "iteration_two_rmse = mean_squared_error(test_two[\"price\"], test_two[\"predicted_price\"])**(1/2)\n",
        "\n",
        "avg_rmse = np.mean([iteration_two_rmse, iteration_one_rmse])\n",
        "\n",
        "print(iteration_one_rmse, iteration_two_rmse, avg_rmse)"
      ],
      "metadata": {
        "colab": {
          "base_uri": "https://localhost:8080/"
        },
        "id": "zqniOe_VCqwN",
        "outputId": "430a07a8-5a20-49d3-91d7-f864f872c8b6"
      },
      "execution_count": 106,
      "outputs": [
        {
          "output_type": "stream",
          "name": "stdout",
          "text": [
            "6841.075355340429 4050.9802525182527 5446.027803929341\n"
          ]
        }
      ]
    },
    {
      "cell_type": "markdown",
      "metadata": {
        "id": "W2gRYcU16k0S"
      },
      "source": [
        "## 5.3 K-Fold Cross Validation\n"
      ]
    },
    {
      "cell_type": "markdown",
      "metadata": {
        "id": "fNkucLj8G4Vf"
      },
      "source": [
        "\n",
        "**Holdout validation** is actually a specific example of a larger class of validation techniques called **k-fold cross-validation**. While holdout validation is better than train/test validation because the model isn't repeatedly biased towards a specific subset of the data, both models that are trained only use half the available data. K-fold cross validation, on the other hand, takes advantage of a larger proportion of the data during training while still rotating through different subsets of the data to avoid the issues of train/test validation.\n",
        "\n",
        "Here's the algorithm from k-fold cross validation:\n",
        "\n",
        "- splitting the full dataset into **k** equal length partitions,\n",
        "    - selecting **k-1** partitions as the training set and\n",
        "    - selecting the remaining partition as the test set\n",
        "- training the model on the training set,\n",
        "- using the trained model to predict labels on the test fold,\n",
        "- computing the test fold's error metric,\n",
        "- repeating all of the above steps **k-1** times, until each partition has been used as the test set for an iteration,\n",
        "- calculating the mean of the **k** error values.\n",
        "\n",
        "Holdout validation is essentially a version of k-fold cross validation when k is equal to 2. Generally, 5 or 10 folds is used for k-fold cross-validation. Here's a diagram describing each iteration of 5-fold cross validation:\n",
        "\n",
        "<img width=\"600\" alt=\"creating a repo\" src=\"https://drive.google.com/uc?export=view&id=1i9sScUbJqDLeCtd3InrBbaeHXI7vkAyQ\">\n",
        "\n",
        "\n",
        "As you increase the number the folds, the number of observations in each fold decreases and the variance of the fold-by-fold errors increases. "
      ]
    },
    {
      "cell_type": "markdown",
      "metadata": {
        "id": "X-sD-kyI6k0a"
      },
      "source": [
        "## 5.4 Performing K-Fold Cross Validation Using Scikit-Learn\n"
      ]
    },
    {
      "cell_type": "markdown",
      "metadata": {
        "id": "i5oklMw3IXEr"
      },
      "source": [
        "In machine learning, we're interested in building a good model and accurately understand how well it will perform. To build a better k-nearest neighbors model, we can change the features it uses or tweak the number of neighbors (a hyperparameter). To accurately understand a model's performance, we can perform k-fold cross validation and select the proper number of folds. We've learned how scikit-learn makes it easy for us to quickly experiment with these different knobs when it comes to building a better model. Let's now dive into how we can use scikit-learn to handle cross-validation as well.\n",
        "\n",
        "\n",
        "First, we instantiate an instance of the [KFold class](http://scikit-learn.org/stable/modules/generated/sklearn.model_selection.KFold.html#sklearn.model_selection.KFold) from  **sklearn.model_selection**:\n",
        "\n",
        "```python\n",
        "from sklearn.model_selection import KFold\n",
        "kf = KFold(n_folds, shuffle=False, random_state=None)\n",
        "```\n",
        "\n",
        "where:\n",
        "\n",
        "- **n_folds** is the number of folds you want to use,\n",
        "- **shuffle** is used to toggle shuffling of the ordering of the observations in the dataset,\n",
        "- **random_state** is used to specify the random seed value if **shuffle** is set to **True**.\n",
        "\n",
        "\n",
        "You'll notice here that no parameters depend on the data set at all. This is because the KFold class returns an iterator object which we use in conjunction with the [cross_val_score()](http://scikit-learn.org/stable/modules/generated/sklearn.model_selection.cross_val_score.html) function, also from **sklearn.model_selection**. Together, these 2 functions allow us to compactly train and test using k-fold cross validation:\n",
        "\n",
        "Here are the relevant parameters for the **cross_val_score** function:\n",
        "\n",
        "```python\n",
        "from sklearn.model_selection import cross_val_score\n",
        "cross_val_score(estimator, X, Y, scoring=None, cv=None)\n",
        "```\n",
        "\n",
        "where:\n",
        "\n",
        "- **estimator** is a sklearn model that implements the **fit** method (e.g. instance of **KNeighborsRegressor**),\n",
        "-  **X** is the list or 2D array containing the features you want to train on,\n",
        "- **Y** is a list containing the values you want to predict (target column),\n",
        "- **scoring** is a string describing the scoring criteria (list of accepted values [here](http://scikit-learn.org/stable/modules/model_evaluation.html#common-cases-predefined-values)).\n",
        "    - Some evaluation metrics (like mean squared error) are naturally descending scores (the smallest score is best) and as such are reported as negative by the  **cross_val_score()** function. This is important to note, because some scores will be reported as negative that by definition can never be negative.\n",
        "- **cv** describes the number of folds. Here are some examples of accepted values:\n",
        "    - an instance of the **KFold** class,\n",
        "    - an integer representing the number of folds.\n",
        "    \n",
        "Depending on the scoring criteria you specify, either a single total value is returned one value for each fold. Here's the general workflow for performing k-fold cross-validation using the classes we just described:\n",
        "\n",
        "- instantiate the scikit-learn model class you want to fit,\n",
        "- instantiate the **KFold** class and using the parameters to specify the k-fold cross-validation attributes you want,\n",
        "- use the **cross_val_score()** function to return the scoring metric you're interested in.\n",
        "\n",
        "**Guided Exercise**\n",
        "\n",
        "<left><img width=\"100\" alt=\"creating a repo\" src=\"https://drive.google.com/uc?export=view&id=1E8tR7B9YYUXsU_rddJAyq0FrM0MSelxZ\"></left>\n"
      ]
    },
    {
      "cell_type": "code",
      "metadata": {
        "id": "H0Wn0_kXKM6t",
        "colab": {
          "base_uri": "https://localhost:8080/"
        },
        "outputId": "f7114c8b-83d4-4319-92a8-6463b2726f0e"
      },
      "source": [
        "from sklearn.model_selection import cross_val_score, KFold\n",
        "\n",
        "# kfold instance\n",
        "kf = KFold(5, shuffle=True, random_state=1)\n",
        "\n",
        "# knn model\n",
        "model = KNeighborsRegressor()\n",
        "\n",
        "# cross validation (knn,x,y,scoring,kfold)\n",
        "mses = cross_val_score(model, \n",
        "                       normalized_listings[[\"accommodates\"]], \n",
        "                       normalized_listings[\"price\"], \n",
        "                       scoring=\"neg_mean_squared_error\", \n",
        "                       cv=kf)\n",
        "\n",
        "# root mean squared error\n",
        "rmses = np.sqrt(np.absolute(mses))\n",
        "\n",
        "# average error\n",
        "avg_rmse = np.mean(rmses)\n",
        "\n",
        "print(rmses)\n",
        "print(avg_rmse)"
      ],
      "execution_count": 107,
      "outputs": [
        {
          "output_type": "stream",
          "name": "stdout",
          "text": [
            "[10166.40476622  3845.96656612  3735.46970741  2862.45030037\n",
            "  3829.44837424]\n",
            "4887.94794287297\n"
          ]
        }
      ]
    },
    {
      "cell_type": "markdown",
      "metadata": {
        "id": "5_Nk-qN_6k0g"
      },
      "source": [
        "## 5.5 Exploring Different K Values\n"
      ]
    },
    {
      "cell_type": "markdown",
      "metadata": {
        "id": "0FeuHjwLK9D4"
      },
      "source": [
        "\n",
        "\n",
        "Choosing the right k value when performing k-fold cross validation is **more of an art and less of a science**. As we discussed earlier in the lesson, a k value of 2 is really just holdout validation. On the other end, setting k equal to n (the number of observations in the data set) is known as **leave-one-out cross validation**, or **LOOCV** for short. Through lots of trial and error, data scientists have converged on **10** as the standard k value.\n",
        "\n",
        "In the following code block, we display the results of varying k from 3 to 23. For each k value, we calculate and display the average RMSE value across all of the folds and the standard deviation of the RMSE values. \n",
        "\n",
        "**Guided Exercise**\n",
        "\n",
        "<left><img width=\"100\" alt=\"creating a repo\" src=\"https://drive.google.com/uc?export=view&id=1E8tR7B9YYUXsU_rddJAyq0FrM0MSelxZ\"></left> \n"
      ]
    },
    {
      "cell_type": "code",
      "metadata": {
        "id": "CT6KFKzLL2V4",
        "colab": {
          "base_uri": "https://localhost:8080/"
        },
        "outputId": "7642f999-684b-4812-84a4-3b78c943a7ec"
      },
      "source": [
        "from sklearn.model_selection import cross_val_score, KFold\n",
        "import numpy as np\n",
        "\n",
        "num_folds = [3, 5, 7, 9, 10, 11, 13, 15, 17, 19, 21, 23]\n",
        "\n",
        "for fold in num_folds:\n",
        "    kf = KFold(fold, shuffle=True, random_state=1)\n",
        "    model = KNeighborsRegressor()\n",
        "    mses = cross_val_score(model, normalized_listings[[\"accommodates\"]],\n",
        "                           normalized_listings[\"price\"], scoring=\"neg_mean_squared_error\", cv=kf)\n",
        "    rmses = np.sqrt(np.absolute(mses))\n",
        "    avg_rmse = np.mean(rmses)\n",
        "    std_rmse = np.std(rmses)\n",
        "    print(str(fold), \"folds: \", \"avg RMSE: \", str(avg_rmse), \"std RMSE: \", str(std_rmse))"
      ],
      "execution_count": 108,
      "outputs": [
        {
          "output_type": "stream",
          "name": "stdout",
          "text": [
            "3 folds:  avg RMSE:  5120.865650441997 std RMSE:  2241.096396431179\n",
            "5 folds:  avg RMSE:  4887.94794287297 std RMSE:  2664.5487327225524\n",
            "7 folds:  avg RMSE:  4672.977208943739 std RMSE:  3020.732085459408\n",
            "9 folds:  avg RMSE:  4478.934954831186 std RMSE:  3299.5023444997364\n",
            "10 folds:  avg RMSE:  4395.93773848974 std RMSE:  3445.0589125586976\n",
            "11 folds:  avg RMSE:  4386.3102247725155 std RMSE:  3421.7858198796926\n",
            "13 folds:  avg RMSE:  4365.844372969753 std RMSE:  3463.7681942879135\n",
            "15 folds:  avg RMSE:  4273.619850211486 std RMSE:  3584.8720853202612\n",
            "17 folds:  avg RMSE:  4170.542208871208 std RMSE:  3702.9459382090913\n",
            "19 folds:  avg RMSE:  4158.458737157879 std RMSE:  3729.87002420887\n",
            "21 folds:  avg RMSE:  4094.5005641670814 std RMSE:  3771.8233584407717\n",
            "23 folds:  avg RMSE:  4041.183523642666 std RMSE:  3826.257653048305\n"
          ]
        }
      ]
    },
    {
      "cell_type": "markdown",
      "metadata": {
        "id": "wOGdrk0tNC4i"
      },
      "source": [
        "## 5.6 Bias-Variance Tradeoff\n"
      ]
    },
    {
      "cell_type": "markdown",
      "metadata": {
        "id": "cnra64RlNN22"
      },
      "source": [
        "\n",
        "\n",
        "So far, we've been working under the assumption that a lower RMSE always means that a model is more accurate. This isn't the complete picture, unfortunately. \n",
        "A model has two sources of error:\n",
        "\n",
        "- **bias**\n",
        "- **variance**.\n",
        "\n",
        "**Bias** describes error that results in bad assumptions about the learning algorithm. For example, assuming that only one feature, like a car's weight, relates to a car's fuel efficiency will lead you to fit a simple, univariate regression model that will result in high bias. The error rate will be high since a car's fuel efficiency is affected by many other factors besides just its weight.\n",
        "\n",
        "**Variance** describes error that occurs because of the variability of a model's predicted values. If we were given a dataset with 1000 features on each car and used every single feature to train an incredibly complicated multivariate regression model, we will have low bias but high variance. In an ideal world, we want low bias and low variance but in reality, there's always a tradeoff.\n",
        "\n",
        "The standard deviation of the RMSE values can be a proxy for a model's **variance** while the average RMSE is a proxy for a model's **bias**. Bias and variance are the 2 observable sources of error in a model that we can indirectly control.\n",
        "\n",
        "<img width=\"500\" alt=\"creating a repo\" src=\"https://drive.google.com/uc?export=view&id=1HHIrhAPERrQlzslS1dn3PTy78MaAERhu\">\n",
        "\n",
        "\n",
        "While k-nearest negihbors can make predictions, it isn't a mathematical model. A mathematical model is usually an equation that can exist without the original data, which isn't true with k-nearest neighbors. In the next classes, we'll learn about a mathematical model called linear regression. We'll explore the bias-variance tradeoff in greater depth in these next lesson."
      ]
    },
    {
      "cell_type": "markdown",
      "metadata": {
        "id": "3C3S-FPxiMNn"
      },
      "source": [
        "# 6.0 End-to-End Project"
      ]
    },
    {
      "cell_type": "markdown",
      "metadata": {
        "id": "lbOYFIeAiVUd"
      },
      "source": [
        "## 6.1 Get Data"
      ]
    },
    {
      "cell_type": "code",
      "metadata": {
        "id": "w2_4E8JziR5c"
      },
      "source": [
        "# importing packages\n",
        "import pandas as pd\n",
        "import numpy as np\n",
        "\n",
        "# Brought along the changes we made to the 'rio_listings' Dataframe.\n",
        "target_columns = [\"accommodates\", \"bedrooms\",\n",
        "                  \"beds\",\"minimum_nights\",\n",
        "                  \"maximum_nights\",\"number_of_reviews\",\"price\"]\n",
        "          \n",
        "rio_listings = pd.read_csv(\"listings.csv\",usecols=target_columns)"
      ],
      "execution_count": 155,
      "outputs": []
    },
    {
      "cell_type": "markdown",
      "metadata": {
        "id": "uOZoh-q0i1HP"
      },
      "source": [
        "## 6.2 Clean, Prepare & Manipulate Data"
      ]
    },
    {
      "cell_type": "code",
      "metadata": {
        "id": "Y504zijtjkxg",
        "colab": {
          "base_uri": "https://localhost:8080/",
          "height": 206
        },
        "outputId": "9a99636e-4ea9-4da5-9834-1e8cefdf2241"
      },
      "source": [
        "# Exploratory Data Analyzis (EDA)\n",
        "rio_listings.sample(5)"
      ],
      "execution_count": 156,
      "outputs": [
        {
          "output_type": "execute_result",
          "data": {
            "text/plain": [
              "       accommodates  bedrooms  beds      price  minimum_nights  \\\n",
              "13519             2       1.0   1.0    $468.00               2   \n",
              "22140             6       3.0   6.0  $1,269.00               1   \n",
              "8111              5       2.0   4.0  $1,986.00               1   \n",
              "18300             2       1.0   1.0    $270.00               2   \n",
              "5378              2       1.0   1.0    $200.00               1   \n",
              "\n",
              "       maximum_nights  number_of_reviews  \n",
              "13519              25                  9  \n",
              "22140             365                  4  \n",
              "8111             1125                  0  \n",
              "18300            1125                  0  \n",
              "5378             1125                  0  "
            ],
            "text/html": [
              "\n",
              "  <div id=\"df-2f8ff41a-34be-4c08-9a7f-305aee009c1a\">\n",
              "    <div class=\"colab-df-container\">\n",
              "      <div>\n",
              "<style scoped>\n",
              "    .dataframe tbody tr th:only-of-type {\n",
              "        vertical-align: middle;\n",
              "    }\n",
              "\n",
              "    .dataframe tbody tr th {\n",
              "        vertical-align: top;\n",
              "    }\n",
              "\n",
              "    .dataframe thead th {\n",
              "        text-align: right;\n",
              "    }\n",
              "</style>\n",
              "<table border=\"1\" class=\"dataframe\">\n",
              "  <thead>\n",
              "    <tr style=\"text-align: right;\">\n",
              "      <th></th>\n",
              "      <th>accommodates</th>\n",
              "      <th>bedrooms</th>\n",
              "      <th>beds</th>\n",
              "      <th>price</th>\n",
              "      <th>minimum_nights</th>\n",
              "      <th>maximum_nights</th>\n",
              "      <th>number_of_reviews</th>\n",
              "    </tr>\n",
              "  </thead>\n",
              "  <tbody>\n",
              "    <tr>\n",
              "      <th>13519</th>\n",
              "      <td>2</td>\n",
              "      <td>1.0</td>\n",
              "      <td>1.0</td>\n",
              "      <td>$468.00</td>\n",
              "      <td>2</td>\n",
              "      <td>25</td>\n",
              "      <td>9</td>\n",
              "    </tr>\n",
              "    <tr>\n",
              "      <th>22140</th>\n",
              "      <td>6</td>\n",
              "      <td>3.0</td>\n",
              "      <td>6.0</td>\n",
              "      <td>$1,269.00</td>\n",
              "      <td>1</td>\n",
              "      <td>365</td>\n",
              "      <td>4</td>\n",
              "    </tr>\n",
              "    <tr>\n",
              "      <th>8111</th>\n",
              "      <td>5</td>\n",
              "      <td>2.0</td>\n",
              "      <td>4.0</td>\n",
              "      <td>$1,986.00</td>\n",
              "      <td>1</td>\n",
              "      <td>1125</td>\n",
              "      <td>0</td>\n",
              "    </tr>\n",
              "    <tr>\n",
              "      <th>18300</th>\n",
              "      <td>2</td>\n",
              "      <td>1.0</td>\n",
              "      <td>1.0</td>\n",
              "      <td>$270.00</td>\n",
              "      <td>2</td>\n",
              "      <td>1125</td>\n",
              "      <td>0</td>\n",
              "    </tr>\n",
              "    <tr>\n",
              "      <th>5378</th>\n",
              "      <td>2</td>\n",
              "      <td>1.0</td>\n",
              "      <td>1.0</td>\n",
              "      <td>$200.00</td>\n",
              "      <td>1</td>\n",
              "      <td>1125</td>\n",
              "      <td>0</td>\n",
              "    </tr>\n",
              "  </tbody>\n",
              "</table>\n",
              "</div>\n",
              "      <button class=\"colab-df-convert\" onclick=\"convertToInteractive('df-2f8ff41a-34be-4c08-9a7f-305aee009c1a')\"\n",
              "              title=\"Convert this dataframe to an interactive table.\"\n",
              "              style=\"display:none;\">\n",
              "        \n",
              "  <svg xmlns=\"http://www.w3.org/2000/svg\" height=\"24px\"viewBox=\"0 0 24 24\"\n",
              "       width=\"24px\">\n",
              "    <path d=\"M0 0h24v24H0V0z\" fill=\"none\"/>\n",
              "    <path d=\"M18.56 5.44l.94 2.06.94-2.06 2.06-.94-2.06-.94-.94-2.06-.94 2.06-2.06.94zm-11 1L8.5 8.5l.94-2.06 2.06-.94-2.06-.94L8.5 2.5l-.94 2.06-2.06.94zm10 10l.94 2.06.94-2.06 2.06-.94-2.06-.94-.94-2.06-.94 2.06-2.06.94z\"/><path d=\"M17.41 7.96l-1.37-1.37c-.4-.4-.92-.59-1.43-.59-.52 0-1.04.2-1.43.59L10.3 9.45l-7.72 7.72c-.78.78-.78 2.05 0 2.83L4 21.41c.39.39.9.59 1.41.59.51 0 1.02-.2 1.41-.59l7.78-7.78 2.81-2.81c.8-.78.8-2.07 0-2.86zM5.41 20L4 18.59l7.72-7.72 1.47 1.35L5.41 20z\"/>\n",
              "  </svg>\n",
              "      </button>\n",
              "      \n",
              "  <style>\n",
              "    .colab-df-container {\n",
              "      display:flex;\n",
              "      flex-wrap:wrap;\n",
              "      gap: 12px;\n",
              "    }\n",
              "\n",
              "    .colab-df-convert {\n",
              "      background-color: #E8F0FE;\n",
              "      border: none;\n",
              "      border-radius: 50%;\n",
              "      cursor: pointer;\n",
              "      display: none;\n",
              "      fill: #1967D2;\n",
              "      height: 32px;\n",
              "      padding: 0 0 0 0;\n",
              "      width: 32px;\n",
              "    }\n",
              "\n",
              "    .colab-df-convert:hover {\n",
              "      background-color: #E2EBFA;\n",
              "      box-shadow: 0px 1px 2px rgba(60, 64, 67, 0.3), 0px 1px 3px 1px rgba(60, 64, 67, 0.15);\n",
              "      fill: #174EA6;\n",
              "    }\n",
              "\n",
              "    [theme=dark] .colab-df-convert {\n",
              "      background-color: #3B4455;\n",
              "      fill: #D2E3FC;\n",
              "    }\n",
              "\n",
              "    [theme=dark] .colab-df-convert:hover {\n",
              "      background-color: #434B5C;\n",
              "      box-shadow: 0px 1px 3px 1px rgba(0, 0, 0, 0.15);\n",
              "      filter: drop-shadow(0px 1px 2px rgba(0, 0, 0, 0.3));\n",
              "      fill: #FFFFFF;\n",
              "    }\n",
              "  </style>\n",
              "\n",
              "      <script>\n",
              "        const buttonEl =\n",
              "          document.querySelector('#df-2f8ff41a-34be-4c08-9a7f-305aee009c1a button.colab-df-convert');\n",
              "        buttonEl.style.display =\n",
              "          google.colab.kernel.accessAllowed ? 'block' : 'none';\n",
              "\n",
              "        async function convertToInteractive(key) {\n",
              "          const element = document.querySelector('#df-2f8ff41a-34be-4c08-9a7f-305aee009c1a');\n",
              "          const dataTable =\n",
              "            await google.colab.kernel.invokeFunction('convertToInteractive',\n",
              "                                                     [key], {});\n",
              "          if (!dataTable) return;\n",
              "\n",
              "          const docLinkHtml = 'Like what you see? Visit the ' +\n",
              "            '<a target=\"_blank\" href=https://colab.research.google.com/notebooks/data_table.ipynb>data table notebook</a>'\n",
              "            + ' to learn more about interactive tables.';\n",
              "          element.innerHTML = '';\n",
              "          dataTable['output_type'] = 'display_data';\n",
              "          await google.colab.output.renderOutput(dataTable, element);\n",
              "          const docLink = document.createElement('div');\n",
              "          docLink.innerHTML = docLinkHtml;\n",
              "          element.appendChild(docLink);\n",
              "        }\n",
              "      </script>\n",
              "    </div>\n",
              "  </div>\n",
              "  "
            ]
          },
          "metadata": {},
          "execution_count": 156
        }
      ]
    },
    {
      "cell_type": "code",
      "metadata": {
        "id": "qd2LbjvWi0Vn"
      },
      "source": [
        "# Data preparation\n",
        "stripped_commas = rio_listings['price'].str.replace(',', '',regex=False)\n",
        "stripped_dollars = stripped_commas.str.replace('$', '',regex=False)\n",
        "rio_listings['price'] = stripped_dollars.astype('float')"
      ],
      "execution_count": 157,
      "outputs": []
    },
    {
      "cell_type": "code",
      "metadata": {
        "id": "b-0v-61NjOPB",
        "colab": {
          "base_uri": "https://localhost:8080/"
        },
        "outputId": "94a9d5d1-4f86-49c7-96dc-0d2d2ae21346"
      },
      "source": [
        "# Exploratory Data Analyzis (EDA)\n",
        "rio_listings.info()"
      ],
      "execution_count": 158,
      "outputs": [
        {
          "output_type": "stream",
          "name": "stdout",
          "text": [
            "<class 'pandas.core.frame.DataFrame'>\n",
            "RangeIndex: 24549 entries, 0 to 24548\n",
            "Data columns (total 7 columns):\n",
            " #   Column             Non-Null Count  Dtype  \n",
            "---  ------             --------------  -----  \n",
            " 0   accommodates       24549 non-null  int64  \n",
            " 1   bedrooms           23059 non-null  float64\n",
            " 2   beds               24202 non-null  float64\n",
            " 3   price              24549 non-null  float64\n",
            " 4   minimum_nights     24549 non-null  int64  \n",
            " 5   maximum_nights     24549 non-null  int64  \n",
            " 6   number_of_reviews  24549 non-null  int64  \n",
            "dtypes: float64(3), int64(4)\n",
            "memory usage: 1.3 MB\n"
          ]
        }
      ]
    },
    {
      "cell_type": "code",
      "metadata": {
        "id": "z6CRAl1ikth0",
        "colab": {
          "base_uri": "https://localhost:8080/"
        },
        "outputId": "0a85df1a-506b-4b83-a3b3-dd9aa1c0c04a"
      },
      "source": [
        "# clean missing values\n",
        "rio_listings.dropna(axis=0,inplace=True)\n",
        "rio_listings.info()"
      ],
      "execution_count": 159,
      "outputs": [
        {
          "output_type": "stream",
          "name": "stdout",
          "text": [
            "<class 'pandas.core.frame.DataFrame'>\n",
            "Int64Index: 22757 entries, 0 to 24548\n",
            "Data columns (total 7 columns):\n",
            " #   Column             Non-Null Count  Dtype  \n",
            "---  ------             --------------  -----  \n",
            " 0   accommodates       22757 non-null  int64  \n",
            " 1   bedrooms           22757 non-null  float64\n",
            " 2   beds               22757 non-null  float64\n",
            " 3   price              22757 non-null  float64\n",
            " 4   minimum_nights     22757 non-null  int64  \n",
            " 5   maximum_nights     22757 non-null  int64  \n",
            " 6   number_of_reviews  22757 non-null  int64  \n",
            "dtypes: float64(3), int64(4)\n",
            "memory usage: 1.4 MB\n"
          ]
        }
      ]
    },
    {
      "cell_type": "code",
      "metadata": {
        "id": "epKCXQ2XlVG_",
        "colab": {
          "base_uri": "https://localhost:8080/",
          "height": 585
        },
        "outputId": "35ad5c65-ae2d-4133-fe29-1c451f83a2bc"
      },
      "source": [
        "# Exploratory Data Analysis\n",
        "# Identfy the KDE shape for all columns (gaussian distribution?)\n",
        "import matplotlib.pyplot as plt\n",
        "rio_listings[target_columns].plot(kind='kde',\n",
        "                        layout=(4,2),\n",
        "                        subplots=True,\n",
        "                        figsize=(10,8),\n",
        "                        sharex=False)\n",
        "plt.tight_layout()\n",
        "plt.show()"
      ],
      "execution_count": 160,
      "outputs": [
        {
          "output_type": "display_data",
          "data": {
            "text/plain": [
              "<Figure size 720x576 with 8 Axes>"
            ],
            "image/png": "[encoded data removed]"
          },
          "metadata": {
            "needs_background": "light"
          }
        }
      ]
    },
    {
      "cell_type": "code",
      "metadata": {
        "id": "xJg_SJF0l_VH",
        "colab": {
          "base_uri": "https://localhost:8080/",
          "height": 585
        },
        "outputId": "be3cdfcf-abe4-4dde-ee37-434ac324ff9c"
      },
      "source": [
        "# Exploratory Data Analysis\n",
        "# the number of outliers is big\n",
        "import matplotlib.pyplot as plt\n",
        "rio_listings[target_columns].plot(kind='box',\n",
        "                        layout=(4,2),\n",
        "                        subplots=True,\n",
        "                        figsize=(8,8),\n",
        "                        sharex=False)\n",
        "plt.tight_layout()\n",
        "plt.show()"
      ],
      "execution_count": 118,
      "outputs": [
        {
          "output_type": "display_data",
          "data": {
            "text/plain": [
              "<Figure size 576x576 with 8 Axes>"
            ],
            "image/png": "[encoded data removed]"
          },
          "metadata": {
            "needs_background": "light"
          }
        }
      ]
    },
    {
      "cell_type": "markdown",
      "metadata": {
        "id": "tIQ8flXOix52"
      },
      "source": [
        "### 6.2.1 Outlier Removal (Z-Score)\n",
        "\n",
        "\n"
      ]
    },
    {
      "cell_type": "code",
      "metadata": {
        "id": "lY42YD5BqMjc",
        "colab": {
          "base_uri": "https://localhost:8080/",
          "height": 206
        },
        "outputId": "efbfc642-ecf0-4953-bbce-c60f97da9725"
      },
      "source": [
        "# Remove Outliers - option 1 (z-score)\n",
        "from sklearn.preprocessing import StandardScaler\n",
        "\n",
        "# apply z-score (mean=0, std=1)\n",
        "rio_z_scored = pd.DataFrame(StandardScaler().fit_transform(rio_listings),\n",
        "                            columns=target_columns,\n",
        "                            index=rio_listings.index)\n",
        "rio_z_scored.head()"
      ],
      "execution_count": 161,
      "outputs": [
        {
          "output_type": "execute_result",
          "data": {
            "text/plain": [
              "   accommodates  bedrooms      beds  minimum_nights  maximum_nights  \\\n",
              "0      0.298032  0.252075 -0.295311       -0.127844       -0.004319   \n",
              "1     -0.900540 -0.647057 -0.728661       -0.137511       -0.097665   \n",
              "2     -0.501016 -0.647057 -0.728661       -0.121221       -0.097665   \n",
              "3     -0.900540 -0.647057 -0.728661       -0.159710       -0.144337   \n",
              "4     -0.900540 -0.647057 -0.728661       -0.143956       -0.097665   \n",
              "\n",
              "   number_of_reviews      price  \n",
              "0          -0.670745   7.518789  \n",
              "1          -0.814111   2.108153  \n",
              "2          -0.814111   6.656655  \n",
              "3          -0.815704   4.962115  \n",
              "4          -0.933583  10.818682  "
            ],
            "text/html": [
              "\n",
              "  <div id=\"df-0f25fb29-007b-445a-af39-95a21e6a9fc2\">\n",
              "    <div class=\"colab-df-container\">\n",
              "      <div>\n",
              "<style scoped>\n",
              "    .dataframe tbody tr th:only-of-type {\n",
              "        vertical-align: middle;\n",
              "    }\n",
              "\n",
              "    .dataframe tbody tr th {\n",
              "        vertical-align: top;\n",
              "    }\n",
              "\n",
              "    .dataframe thead th {\n",
              "        text-align: right;\n",
              "    }\n",
              "</style>\n",
              "<table border=\"1\" class=\"dataframe\">\n",
              "  <thead>\n",
              "    <tr style=\"text-align: right;\">\n",
              "      <th></th>\n",
              "      <th>accommodates</th>\n",
              "      <th>bedrooms</th>\n",
              "      <th>beds</th>\n",
              "      <th>minimum_nights</th>\n",
              "      <th>maximum_nights</th>\n",
              "      <th>number_of_reviews</th>\n",
              "      <th>price</th>\n",
              "    </tr>\n",
              "  </thead>\n",
              "  <tbody>\n",
              "    <tr>\n",
              "      <th>0</th>\n",
              "      <td>0.298032</td>\n",
              "      <td>0.252075</td>\n",
              "      <td>-0.295311</td>\n",
              "      <td>-0.127844</td>\n",
              "      <td>-0.004319</td>\n",
              "      <td>-0.670745</td>\n",
              "      <td>7.518789</td>\n",
              "    </tr>\n",
              "    <tr>\n",
              "      <th>1</th>\n",
              "      <td>-0.900540</td>\n",
              "      <td>-0.647057</td>\n",
              "      <td>-0.728661</td>\n",
              "      <td>-0.137511</td>\n",
              "      <td>-0.097665</td>\n",
              "      <td>-0.814111</td>\n",
              "      <td>2.108153</td>\n",
              "    </tr>\n",
              "    <tr>\n",
              "      <th>2</th>\n",
              "      <td>-0.501016</td>\n",
              "      <td>-0.647057</td>\n",
              "      <td>-0.728661</td>\n",
              "      <td>-0.121221</td>\n",
              "      <td>-0.097665</td>\n",
              "      <td>-0.814111</td>\n",
              "      <td>6.656655</td>\n",
              "    </tr>\n",
              "    <tr>\n",
              "      <th>3</th>\n",
              "      <td>-0.900540</td>\n",
              "      <td>-0.647057</td>\n",
              "      <td>-0.728661</td>\n",
              "      <td>-0.159710</td>\n",
              "      <td>-0.144337</td>\n",
              "      <td>-0.815704</td>\n",
              "      <td>4.962115</td>\n",
              "    </tr>\n",
              "    <tr>\n",
              "      <th>4</th>\n",
              "      <td>-0.900540</td>\n",
              "      <td>-0.647057</td>\n",
              "      <td>-0.728661</td>\n",
              "      <td>-0.143956</td>\n",
              "      <td>-0.097665</td>\n",
              "      <td>-0.933583</td>\n",
              "      <td>10.818682</td>\n",
              "    </tr>\n",
              "  </tbody>\n",
              "</table>\n",
              "</div>\n",
              "      <button class=\"colab-df-convert\" onclick=\"convertToInteractive('df-0f25fb29-007b-445a-af39-95a21e6a9fc2')\"\n",
              "              title=\"Convert this dataframe to an interactive table.\"\n",
              "              style=\"display:none;\">\n",
              "        \n",
              "  <svg xmlns=\"http://www.w3.org/2000/svg\" height=\"24px\"viewBox=\"0 0 24 24\"\n",
              "       width=\"24px\">\n",
              "    <path d=\"M0 0h24v24H0V0z\" fill=\"none\"/>\n",
              "    <path d=\"M18.56 5.44l.94 2.06.94-2.06 2.06-.94-2.06-.94-.94-2.06-.94 2.06-2.06.94zm-11 1L8.5 8.5l.94-2.06 2.06-.94-2.06-.94L8.5 2.5l-.94 2.06-2.06.94zm10 10l.94 2.06.94-2.06 2.06-.94-2.06-.94-.94-2.06-.94 2.06-2.06.94z\"/><path d=\"M17.41 7.96l-1.37-1.37c-.4-.4-.92-.59-1.43-.59-.52 0-1.04.2-1.43.59L10.3 9.45l-7.72 7.72c-.78.78-.78 2.05 0 2.83L4 21.41c.39.39.9.59 1.41.59.51 0 1.02-.2 1.41-.59l7.78-7.78 2.81-2.81c.8-.78.8-2.07 0-2.86zM5.41 20L4 18.59l7.72-7.72 1.47 1.35L5.41 20z\"/>\n",
              "  </svg>\n",
              "      </button>\n",
              "      \n",
              "  <style>\n",
              "    .colab-df-container {\n",
              "      display:flex;\n",
              "      flex-wrap:wrap;\n",
              "      gap: 12px;\n",
              "    }\n",
              "\n",
              "    .colab-df-convert {\n",
              "      background-color: #E8F0FE;\n",
              "      border: none;\n",
              "      border-radius: 50%;\n",
              "      cursor: pointer;\n",
              "      display: none;\n",
              "      fill: #1967D2;\n",
              "      height: 32px;\n",
              "      padding: 0 0 0 0;\n",
              "      width: 32px;\n",
              "    }\n",
              "\n",
              "    .colab-df-convert:hover {\n",
              "      background-color: #E2EBFA;\n",
              "      box-shadow: 0px 1px 2px rgba(60, 64, 67, 0.3), 0px 1px 3px 1px rgba(60, 64, 67, 0.15);\n",
              "      fill: #174EA6;\n",
              "    }\n",
              "\n",
              "    [theme=dark] .colab-df-convert {\n",
              "      background-color: #3B4455;\n",
              "      fill: #D2E3FC;\n",
              "    }\n",
              "\n",
              "    [theme=dark] .colab-df-convert:hover {\n",
              "      background-color: #434B5C;\n",
              "      box-shadow: 0px 1px 3px 1px rgba(0, 0, 0, 0.15);\n",
              "      filter: drop-shadow(0px 1px 2px rgba(0, 0, 0, 0.3));\n",
              "      fill: #FFFFFF;\n",
              "    }\n",
              "  </style>\n",
              "\n",
              "      <script>\n",
              "        const buttonEl =\n",
              "          document.querySelector('#df-0f25fb29-007b-445a-af39-95a21e6a9fc2 button.colab-df-convert');\n",
              "        buttonEl.style.display =\n",
              "          google.colab.kernel.accessAllowed ? 'block' : 'none';\n",
              "\n",
              "        async function convertToInteractive(key) {\n",
              "          const element = document.querySelector('#df-0f25fb29-007b-445a-af39-95a21e6a9fc2');\n",
              "          const dataTable =\n",
              "            await google.colab.kernel.invokeFunction('convertToInteractive',\n",
              "                                                     [key], {});\n",
              "          if (!dataTable) return;\n",
              "\n",
              "          const docLinkHtml = 'Like what you see? Visit the ' +\n",
              "            '<a target=\"_blank\" href=https://colab.research.google.com/notebooks/data_table.ipynb>data table notebook</a>'\n",
              "            + ' to learn more about interactive tables.';\n",
              "          element.innerHTML = '';\n",
              "          dataTable['output_type'] = 'display_data';\n",
              "          await google.colab.output.renderOutput(dataTable, element);\n",
              "          const docLink = document.createElement('div');\n",
              "          docLink.innerHTML = docLinkHtml;\n",
              "          element.appendChild(docLink);\n",
              "        }\n",
              "      </script>\n",
              "    </div>\n",
              "  </div>\n",
              "  "
            ]
          },
          "metadata": {},
          "execution_count": 161
        }
      ]
    },
    {
      "cell_type": "code",
      "metadata": {
        "id": "UEGlyCUa1yCo",
        "colab": {
          "base_uri": "https://localhost:8080/",
          "height": 300
        },
        "outputId": "38f530dd-797f-4c9c-9da1-b8aa60b3a2f0"
      },
      "source": [
        "# z-score (mean=0, std=1)\n",
        "rio_z_scored.describe()"
      ],
      "execution_count": 162,
      "outputs": [
        {
          "output_type": "execute_result",
          "data": {
            "text/plain": [
              "       accommodates      bedrooms          beds  minimum_nights  \\\n",
              "count  2.275700e+04  2.275700e+04  2.275700e+04    2.275700e+04   \n",
              "mean   1.151730e-15  4.942266e-15 -2.612683e-15    3.850923e-17   \n",
              "std    1.000022e+00  1.000022e+00  1.000022e+00    1.000022e+00   \n",
              "min   -1.300063e+00 -6.470572e-01 -7.286607e-01   -1.845933e-01   \n",
              "25%   -9.005395e-01 -6.470572e-01 -7.286607e-01   -1.457462e-01   \n",
              "50%   -1.014917e-01 -6.470572e-01 -2.953108e-01   -1.009914e-01   \n",
              "75%    2.980321e-01  2.520746e-01  1.380390e-01   -2.079083e-02   \n",
              "max    4.692795e+00  4.071300e+01  3.827282e+01    1.162571e+02   \n",
              "\n",
              "       maximum_nights  number_of_reviews         price  \n",
              "count    2.275700e+04       2.275700e+04  2.275700e+04  \n",
              "mean    -4.774982e-15       4.413587e-15 -3.525693e-14  \n",
              "std      1.000022e+00       1.000022e+00  1.000022e+00  \n",
              "min     -1.910099e-01      -9.558845e-01 -4.187919e-01  \n",
              "25%     -1.443372e-01      -9.080957e-01 -4.187919e-01  \n",
              "50%     -9.766455e-02      -3.760468e-01 -3.593344e-01  \n",
              "75%     -5.099189e-02       8.346034e-01 -9.177550e-02  \n",
              "max      4.643498e+01       7.396903e+01  1.456451e+01  "
            ],
            "text/html": [
              "\n",
              "  <div id=\"df-17e5a5e2-da22-42e8-9eb3-06318cc8f780\">\n",
              "    <div class=\"colab-df-container\">\n",
              "      <div>\n",
              "<style scoped>\n",
              "    .dataframe tbody tr th:only-of-type {\n",
              "        vertical-align: middle;\n",
              "    }\n",
              "\n",
              "    .dataframe tbody tr th {\n",
              "        vertical-align: top;\n",
              "    }\n",
              "\n",
              "    .dataframe thead th {\n",
              "        text-align: right;\n",
              "    }\n",
              "</style>\n",
              "<table border=\"1\" class=\"dataframe\">\n",
              "  <thead>\n",
              "    <tr style=\"text-align: right;\">\n",
              "      <th></th>\n",
              "      <th>accommodates</th>\n",
              "      <th>bedrooms</th>\n",
              "      <th>beds</th>\n",
              "      <th>minimum_nights</th>\n",
              "      <th>maximum_nights</th>\n",
              "      <th>number_of_reviews</th>\n",
              "      <th>price</th>\n",
              "    </tr>\n",
              "  </thead>\n",
              "  <tbody>\n",
              "    <tr>\n",
              "      <th>count</th>\n",
              "      <td>2.275700e+04</td>\n",
              "      <td>2.275700e+04</td>\n",
              "      <td>2.275700e+04</td>\n",
              "      <td>2.275700e+04</td>\n",
              "      <td>2.275700e+04</td>\n",
              "      <td>2.275700e+04</td>\n",
              "      <td>2.275700e+04</td>\n",
              "    </tr>\n",
              "    <tr>\n",
              "      <th>mean</th>\n",
              "      <td>1.151730e-15</td>\n",
              "      <td>4.942266e-15</td>\n",
              "      <td>-2.612683e-15</td>\n",
              "      <td>3.850923e-17</td>\n",
              "      <td>-4.774982e-15</td>\n",
              "      <td>4.413587e-15</td>\n",
              "      <td>-3.525693e-14</td>\n",
              "    </tr>\n",
              "    <tr>\n",
              "      <th>std</th>\n",
              "      <td>1.000022e+00</td>\n",
              "      <td>1.000022e+00</td>\n",
              "      <td>1.000022e+00</td>\n",
              "      <td>1.000022e+00</td>\n",
              "      <td>1.000022e+00</td>\n",
              "      <td>1.000022e+00</td>\n",
              "      <td>1.000022e+00</td>\n",
              "    </tr>\n",
              "    <tr>\n",
              "      <th>min</th>\n",
              "      <td>-1.300063e+00</td>\n",
              "      <td>-6.470572e-01</td>\n",
              "      <td>-7.286607e-01</td>\n",
              "      <td>-1.845933e-01</td>\n",
              "      <td>-1.910099e-01</td>\n",
              "      <td>-9.558845e-01</td>\n",
              "      <td>-4.187919e-01</td>\n",
              "    </tr>\n",
              "    <tr>\n",
              "      <th>25%</th>\n",
              "      <td>-9.005395e-01</td>\n",
              "      <td>-6.470572e-01</td>\n",
              "      <td>-7.286607e-01</td>\n",
              "      <td>-1.457462e-01</td>\n",
              "      <td>-1.443372e-01</td>\n",
              "      <td>-9.080957e-01</td>\n",
              "      <td>-4.187919e-01</td>\n",
              "    </tr>\n",
              "    <tr>\n",
              "      <th>50%</th>\n",
              "      <td>-1.014917e-01</td>\n",
              "      <td>-6.470572e-01</td>\n",
              "      <td>-2.953108e-01</td>\n",
              "      <td>-1.009914e-01</td>\n",
              "      <td>-9.766455e-02</td>\n",
              "      <td>-3.760468e-01</td>\n",
              "      <td>-3.593344e-01</td>\n",
              "    </tr>\n",
              "    <tr>\n",
              "      <th>75%</th>\n",
              "      <td>2.980321e-01</td>\n",
              "      <td>2.520746e-01</td>\n",
              "      <td>1.380390e-01</td>\n",
              "      <td>-2.079083e-02</td>\n",
              "      <td>-5.099189e-02</td>\n",
              "      <td>8.346034e-01</td>\n",
              "      <td>-9.177550e-02</td>\n",
              "    </tr>\n",
              "    <tr>\n",
              "      <th>max</th>\n",
              "      <td>4.692795e+00</td>\n",
              "      <td>4.071300e+01</td>\n",
              "      <td>3.827282e+01</td>\n",
              "      <td>1.162571e+02</td>\n",
              "      <td>4.643498e+01</td>\n",
              "      <td>7.396903e+01</td>\n",
              "      <td>1.456451e+01</td>\n",
              "    </tr>\n",
              "  </tbody>\n",
              "</table>\n",
              "</div>\n",
              "      <button class=\"colab-df-convert\" onclick=\"convertToInteractive('df-17e5a5e2-da22-42e8-9eb3-06318cc8f780')\"\n",
              "              title=\"Convert this dataframe to an interactive table.\"\n",
              "              style=\"display:none;\">\n",
              "        \n",
              "  <svg xmlns=\"http://www.w3.org/2000/svg\" height=\"24px\"viewBox=\"0 0 24 24\"\n",
              "       width=\"24px\">\n",
              "    <path d=\"M0 0h24v24H0V0z\" fill=\"none\"/>\n",
              "    <path d=\"M18.56 5.44l.94 2.06.94-2.06 2.06-.94-2.06-.94-.94-2.06-.94 2.06-2.06.94zm-11 1L8.5 8.5l.94-2.06 2.06-.94-2.06-.94L8.5 2.5l-.94 2.06-2.06.94zm10 10l.94 2.06.94-2.06 2.06-.94-2.06-.94-.94-2.06-.94 2.06-2.06.94z\"/><path d=\"M17.41 7.96l-1.37-1.37c-.4-.4-.92-.59-1.43-.59-.52 0-1.04.2-1.43.59L10.3 9.45l-7.72 7.72c-.78.78-.78 2.05 0 2.83L4 21.41c.39.39.9.59 1.41.59.51 0 1.02-.2 1.41-.59l7.78-7.78 2.81-2.81c.8-.78.8-2.07 0-2.86zM5.41 20L4 18.59l7.72-7.72 1.47 1.35L5.41 20z\"/>\n",
              "  </svg>\n",
              "      </button>\n",
              "      \n",
              "  <style>\n",
              "    .colab-df-container {\n",
              "      display:flex;\n",
              "      flex-wrap:wrap;\n",
              "      gap: 12px;\n",
              "    }\n",
              "\n",
              "    .colab-df-convert {\n",
              "      background-color: #E8F0FE;\n",
              "      border: none;\n",
              "      border-radius: 50%;\n",
              "      cursor: pointer;\n",
              "      display: none;\n",
              "      fill: #1967D2;\n",
              "      height: 32px;\n",
              "      padding: 0 0 0 0;\n",
              "      width: 32px;\n",
              "    }\n",
              "\n",
              "    .colab-df-convert:hover {\n",
              "      background-color: #E2EBFA;\n",
              "      box-shadow: 0px 1px 2px rgba(60, 64, 67, 0.3), 0px 1px 3px 1px rgba(60, 64, 67, 0.15);\n",
              "      fill: #174EA6;\n",
              "    }\n",
              "\n",
              "    [theme=dark] .colab-df-convert {\n",
              "      background-color: #3B4455;\n",
              "      fill: #D2E3FC;\n",
              "    }\n",
              "\n",
              "    [theme=dark] .colab-df-convert:hover {\n",
              "      background-color: #434B5C;\n",
              "      box-shadow: 0px 1px 3px 1px rgba(0, 0, 0, 0.15);\n",
              "      filter: drop-shadow(0px 1px 2px rgba(0, 0, 0, 0.3));\n",
              "      fill: #FFFFFF;\n",
              "    }\n",
              "  </style>\n",
              "\n",
              "      <script>\n",
              "        const buttonEl =\n",
              "          document.querySelector('#df-17e5a5e2-da22-42e8-9eb3-06318cc8f780 button.colab-df-convert');\n",
              "        buttonEl.style.display =\n",
              "          google.colab.kernel.accessAllowed ? 'block' : 'none';\n",
              "\n",
              "        async function convertToInteractive(key) {\n",
              "          const element = document.querySelector('#df-17e5a5e2-da22-42e8-9eb3-06318cc8f780');\n",
              "          const dataTable =\n",
              "            await google.colab.kernel.invokeFunction('convertToInteractive',\n",
              "                                                     [key], {});\n",
              "          if (!dataTable) return;\n",
              "\n",
              "          const docLinkHtml = 'Like what you see? Visit the ' +\n",
              "            '<a target=\"_blank\" href=https://colab.research.google.com/notebooks/data_table.ipynb>data table notebook</a>'\n",
              "            + ' to learn more about interactive tables.';\n",
              "          element.innerHTML = '';\n",
              "          dataTable['output_type'] = 'display_data';\n",
              "          await google.colab.output.renderOutput(dataTable, element);\n",
              "          const docLink = document.createElement('div');\n",
              "          docLink.innerHTML = docLinkHtml;\n",
              "          element.appendChild(docLink);\n",
              "        }\n",
              "      </script>\n",
              "    </div>\n",
              "  </div>\n",
              "  "
            ]
          },
          "metadata": {},
          "execution_count": 162
        }
      ]
    },
    {
      "cell_type": "code",
      "metadata": {
        "id": "9WfkfcHEiFfE"
      },
      "source": [
        "# remove outliers\n",
        "rio_z_scored = rio_z_scored[(rio_z_scored < 2.698).all(axis=1)\n",
        "               & (rio_z_scored > -2.698).all(axis=1)]"
      ],
      "execution_count": 164,
      "outputs": []
    },
    {
      "cell_type": "code",
      "metadata": {
        "id": "c1n1ET-qijtW",
        "colab": {
          "base_uri": "https://localhost:8080/"
        },
        "outputId": "1c59d9e1-f0b1-4aed-91cb-3212b02c6d61"
      },
      "source": [
        "print(\"Before standardization: {0} \\nAfter standardization: {1}\".format(rio_listings.shape, rio_z_scored.shape))"
      ],
      "execution_count": 165,
      "outputs": [
        {
          "output_type": "stream",
          "name": "stdout",
          "text": [
            "Before standardization: (22757, 7) \n",
            "After standardization: (21077, 7)\n"
          ]
        }
      ]
    },
    {
      "cell_type": "code",
      "metadata": {
        "id": "3nht4EFgjouL",
        "colab": {
          "base_uri": "https://localhost:8080/",
          "height": 483
        },
        "outputId": "3f6cae4b-6bdd-45ae-a106-f60a993bd674"
      },
      "source": [
        "# Exploratory Data Analysis\n",
        "# Identfy the KDE shape for all columns (gaussian distribution) after outlier elimination\n",
        "import matplotlib.pyplot as plt\n",
        "rio_z_scored.plot(kind='density',\n",
        "                        layout=(4,2),\n",
        "                        subplots=True,\n",
        "                        figsize=(10,8),\n",
        "                        sharex=False)\n",
        "plt.show()"
      ],
      "execution_count": 166,
      "outputs": [
        {
          "output_type": "display_data",
          "data": {
            "text/plain": [
              "<Figure size 720x576 with 8 Axes>"
            ],
            "image/png": "[encoded data removed]"
          },
          "metadata": {
            "needs_background": "light"
          }
        }
      ]
    },
    {
      "cell_type": "code",
      "metadata": {
        "id": "4VBpRbe5k2Jj",
        "colab": {
          "base_uri": "https://localhost:8080/",
          "height": 585
        },
        "outputId": "2f240113-5c19-4e47-dbee-9314dd395e70"
      },
      "source": [
        "# Exploratory Data Analysis after outlier elimination\n",
        "import matplotlib.pyplot as plt\n",
        "rio_z_scored.plot(kind='box',\n",
        "                        layout=(4,2),\n",
        "                        subplots=True,\n",
        "                        figsize=(8,8),\n",
        "                        sharex=False)\n",
        "plt.tight_layout()\n",
        "plt.show()"
      ],
      "execution_count": 124,
      "outputs": [
        {
          "output_type": "display_data",
          "data": {
            "text/plain": [
              "<Figure size 576x576 with 8 Axes>"
            ],
            "image/png": "[encoded data removed]"
          },
          "metadata": {
            "needs_background": "light"
          }
        }
      ]
    },
    {
      "cell_type": "markdown",
      "metadata": {
        "id": "ixJ9VOZ0kF1A"
      },
      "source": [
        "### 6.2.2 Outlier Removal (IQR)\n"
      ]
    },
    {
      "cell_type": "code",
      "source": [
        "rio_iqr = rio_listings[target_columns].copy()\n",
        "Q1 = rio_iqr.quantile(0.25)\n",
        "Q3 = rio_iqr.quantile(0.75)\n",
        "IQR = Q3 - Q1\n",
        "low = Q1 - 1.5 * IQR\n",
        "up = Q3 + 1.5 * IQR"
      ],
      "metadata": {
        "id": "B307cFIPvQ8w"
      },
      "execution_count": 168,
      "outputs": []
    },
    {
      "cell_type": "code",
      "metadata": {
        "id": "3sn42m_ilRwQ"
      },
      "source": [
        "rio_iqr = rio_listings[target_columns].copy()"
      ],
      "execution_count": 167,
      "outputs": []
    },
    {
      "cell_type": "code",
      "metadata": {
        "id": "vlJN-JvDk9oe",
        "colab": {
          "base_uri": "https://localhost:8080/"
        },
        "outputId": "79e2a3be-7698-4f5f-dc52-c87d3a58e9f4"
      },
      "source": [
        "Q1 = rio_iqr.quantile(0.25)\n",
        "Q1"
      ],
      "execution_count": 126,
      "outputs": [
        {
          "output_type": "execute_result",
          "data": {
            "text/plain": [
              "accommodates           2.0\n",
              "bedrooms               1.0\n",
              "beds                   1.0\n",
              "minimum_nights         2.0\n",
              "maximum_nights        31.0\n",
              "number_of_reviews      0.0\n",
              "price                250.0\n",
              "Name: 0.25, dtype: float64"
            ]
          },
          "metadata": {},
          "execution_count": 126
        }
      ]
    },
    {
      "cell_type": "code",
      "metadata": {
        "id": "nLwgIDZyOO1Q",
        "colab": {
          "base_uri": "https://localhost:8080/"
        },
        "outputId": "459259cb-e925-4c01-896e-7472df3c960c"
      },
      "source": [
        "Q3 = rio_iqr.quantile(0.75)\n",
        "Q3"
      ],
      "execution_count": 127,
      "outputs": [
        {
          "output_type": "execute_result",
          "data": {
            "text/plain": [
              "accommodates            5.0\n",
              "bedrooms                2.0\n",
              "beds                    3.0\n",
              "minimum_nights          4.0\n",
              "maximum_nights       1125.0\n",
              "number_of_reviews      11.0\n",
              "price                 948.0\n",
              "Name: 0.75, dtype: float64"
            ]
          },
          "metadata": {},
          "execution_count": 127
        }
      ]
    },
    {
      "cell_type": "code",
      "metadata": {
        "id": "BYFtc9zcORYe",
        "colab": {
          "base_uri": "https://localhost:8080/"
        },
        "outputId": "ce909d6d-64ab-431f-f4a9-89493eece891"
      },
      "source": [
        "IQR = Q3 - Q1\n",
        "IQR"
      ],
      "execution_count": 128,
      "outputs": [
        {
          "output_type": "execute_result",
          "data": {
            "text/plain": [
              "accommodates            3.0\n",
              "bedrooms                1.0\n",
              "beds                    2.0\n",
              "minimum_nights          2.0\n",
              "maximum_nights       1094.0\n",
              "number_of_reviews      11.0\n",
              "price                 698.0\n",
              "dtype: float64"
            ]
          },
          "metadata": {},
          "execution_count": 128
        }
      ]
    },
    {
      "cell_type": "code",
      "metadata": {
        "id": "GochWkQoOZfs",
        "colab": {
          "base_uri": "https://localhost:8080/"
        },
        "outputId": "ec48c816-1e69-4127-e8f8-71ee5d4cb9e0"
      },
      "source": [
        "low = Q1 - 1.5 * IQR\n",
        "low"
      ],
      "execution_count": 129,
      "outputs": [
        {
          "output_type": "execute_result",
          "data": {
            "text/plain": [
              "accommodates           -2.5\n",
              "bedrooms               -0.5\n",
              "beds                   -2.0\n",
              "minimum_nights         -1.0\n",
              "maximum_nights      -1610.0\n",
              "number_of_reviews     -16.5\n",
              "price                -797.0\n",
              "dtype: float64"
            ]
          },
          "metadata": {},
          "execution_count": 129
        }
      ]
    },
    {
      "cell_type": "code",
      "metadata": {
        "id": "kE41Pk8FO9Qa",
        "colab": {
          "base_uri": "https://localhost:8080/"
        },
        "outputId": "03c7b0b5-572b-42d7-ce29-342cb8cf10e1"
      },
      "source": [
        "up = Q3 + 1.5 * IQR\n",
        "up"
      ],
      "execution_count": 130,
      "outputs": [
        {
          "output_type": "execute_result",
          "data": {
            "text/plain": [
              "accommodates            9.5\n",
              "bedrooms                3.5\n",
              "beds                    6.0\n",
              "minimum_nights          7.0\n",
              "maximum_nights       2766.0\n",
              "number_of_reviews      27.5\n",
              "price                1995.0\n",
              "dtype: float64"
            ]
          },
          "metadata": {},
          "execution_count": 130
        }
      ]
    },
    {
      "cell_type": "code",
      "metadata": {
        "id": "Wixg-XEalpsI"
      },
      "source": [
        "# remove outliers\n",
        "rio_iqr = rio_iqr[((rio_iqr > low).all(axis=1) & (rio_iqr < up).all(axis=1))]"
      ],
      "execution_count": 169,
      "outputs": []
    },
    {
      "cell_type": "code",
      "metadata": {
        "id": "sgnn3ubll4Zg",
        "colab": {
          "base_uri": "https://localhost:8080/"
        },
        "outputId": "11277f8b-da85-4f17-9946-d89f174c7f2d"
      },
      "source": [
        "rio_iqr.shape"
      ],
      "execution_count": 170,
      "outputs": [
        {
          "output_type": "execute_result",
          "data": {
            "text/plain": [
              "(14414, 7)"
            ]
          },
          "metadata": {},
          "execution_count": 170
        }
      ]
    },
    {
      "cell_type": "code",
      "metadata": {
        "id": "kLm8sM15KQpC",
        "colab": {
          "base_uri": "https://localhost:8080/",
          "height": 300
        },
        "outputId": "6622ff47-6df4-4107-a944-07277d96b5a7"
      },
      "source": [
        "rio_iqr.describe()"
      ],
      "execution_count": 171,
      "outputs": [
        {
          "output_type": "execute_result",
          "data": {
            "text/plain": [
              "       accommodates      bedrooms          beds  minimum_nights  \\\n",
              "count  14414.000000  14414.000000  14414.000000    14414.000000   \n",
              "mean       3.590676      1.463230      2.131886        2.511239   \n",
              "std        1.624053      0.658722      1.134544        1.361514   \n",
              "min        1.000000      1.000000      1.000000        1.000000   \n",
              "25%        2.000000      1.000000      1.000000        1.000000   \n",
              "50%        4.000000      1.000000      2.000000        2.000000   \n",
              "75%        4.000000      2.000000      3.000000        3.000000   \n",
              "max        9.000000      3.000000      5.000000        6.000000   \n",
              "\n",
              "       maximum_nights  number_of_reviews         price  \n",
              "count    14414.000000       14414.000000  14414.000000  \n",
              "mean       604.079020           4.407451    534.896906  \n",
              "std        510.715155           6.322339    403.133322  \n",
              "min          1.000000           0.000000     40.000000  \n",
              "25%         30.000000           0.000000    229.000000  \n",
              "50%        365.000000           1.000000    419.000000  \n",
              "75%       1125.000000           6.000000    736.000000  \n",
              "max       1825.000000          27.000000   1993.000000  "
            ],
            "text/html": [
              "\n",
              "  <div id=\"df-d115a5ab-0ca8-44f7-8ef3-0baeecfac178\">\n",
              "    <div class=\"colab-df-container\">\n",
              "      <div>\n",
              "<style scoped>\n",
              "    .dataframe tbody tr th:only-of-type {\n",
              "        vertical-align: middle;\n",
              "    }\n",
              "\n",
              "    .dataframe tbody tr th {\n",
              "        vertical-align: top;\n",
              "    }\n",
              "\n",
              "    .dataframe thead th {\n",
              "        text-align: right;\n",
              "    }\n",
              "</style>\n",
              "<table border=\"1\" class=\"dataframe\">\n",
              "  <thead>\n",
              "    <tr style=\"text-align: right;\">\n",
              "      <th></th>\n",
              "      <th>accommodates</th>\n",
              "      <th>bedrooms</th>\n",
              "      <th>beds</th>\n",
              "      <th>minimum_nights</th>\n",
              "      <th>maximum_nights</th>\n",
              "      <th>number_of_reviews</th>\n",
              "      <th>price</th>\n",
              "    </tr>\n",
              "  </thead>\n",
              "  <tbody>\n",
              "    <tr>\n",
              "      <th>count</th>\n",
              "      <td>14414.000000</td>\n",
              "      <td>14414.000000</td>\n",
              "      <td>14414.000000</td>\n",
              "      <td>14414.000000</td>\n",
              "      <td>14414.000000</td>\n",
              "      <td>14414.000000</td>\n",
              "      <td>14414.000000</td>\n",
              "    </tr>\n",
              "    <tr>\n",
              "      <th>mean</th>\n",
              "      <td>3.590676</td>\n",
              "      <td>1.463230</td>\n",
              "      <td>2.131886</td>\n",
              "      <td>2.511239</td>\n",
              "      <td>604.079020</td>\n",
              "      <td>4.407451</td>\n",
              "      <td>534.896906</td>\n",
              "    </tr>\n",
              "    <tr>\n",
              "      <th>std</th>\n",
              "      <td>1.624053</td>\n",
              "      <td>0.658722</td>\n",
              "      <td>1.134544</td>\n",
              "      <td>1.361514</td>\n",
              "      <td>510.715155</td>\n",
              "      <td>6.322339</td>\n",
              "      <td>403.133322</td>\n",
              "    </tr>\n",
              "    <tr>\n",
              "      <th>min</th>\n",
              "      <td>1.000000</td>\n",
              "      <td>1.000000</td>\n",
              "      <td>1.000000</td>\n",
              "      <td>1.000000</td>\n",
              "      <td>1.000000</td>\n",
              "      <td>0.000000</td>\n",
              "      <td>40.000000</td>\n",
              "    </tr>\n",
              "    <tr>\n",
              "      <th>25%</th>\n",
              "      <td>2.000000</td>\n",
              "      <td>1.000000</td>\n",
              "      <td>1.000000</td>\n",
              "      <td>1.000000</td>\n",
              "      <td>30.000000</td>\n",
              "      <td>0.000000</td>\n",
              "      <td>229.000000</td>\n",
              "    </tr>\n",
              "    <tr>\n",
              "      <th>50%</th>\n",
              "      <td>4.000000</td>\n",
              "      <td>1.000000</td>\n",
              "      <td>2.000000</td>\n",
              "      <td>2.000000</td>\n",
              "      <td>365.000000</td>\n",
              "      <td>1.000000</td>\n",
              "      <td>419.000000</td>\n",
              "    </tr>\n",
              "    <tr>\n",
              "      <th>75%</th>\n",
              "      <td>4.000000</td>\n",
              "      <td>2.000000</td>\n",
              "      <td>3.000000</td>\n",
              "      <td>3.000000</td>\n",
              "      <td>1125.000000</td>\n",
              "      <td>6.000000</td>\n",
              "      <td>736.000000</td>\n",
              "    </tr>\n",
              "    <tr>\n",
              "      <th>max</th>\n",
              "      <td>9.000000</td>\n",
              "      <td>3.000000</td>\n",
              "      <td>5.000000</td>\n",
              "      <td>6.000000</td>\n",
              "      <td>1825.000000</td>\n",
              "      <td>27.000000</td>\n",
              "      <td>1993.000000</td>\n",
              "    </tr>\n",
              "  </tbody>\n",
              "</table>\n",
              "</div>\n",
              "      <button class=\"colab-df-convert\" onclick=\"convertToInteractive('df-d115a5ab-0ca8-44f7-8ef3-0baeecfac178')\"\n",
              "              title=\"Convert this dataframe to an interactive table.\"\n",
              "              style=\"display:none;\">\n",
              "        \n",
              "  <svg xmlns=\"http://www.w3.org/2000/svg\" height=\"24px\"viewBox=\"0 0 24 24\"\n",
              "       width=\"24px\">\n",
              "    <path d=\"M0 0h24v24H0V0z\" fill=\"none\"/>\n",
              "    <path d=\"M18.56 5.44l.94 2.06.94-2.06 2.06-.94-2.06-.94-.94-2.06-.94 2.06-2.06.94zm-11 1L8.5 8.5l.94-2.06 2.06-.94-2.06-.94L8.5 2.5l-.94 2.06-2.06.94zm10 10l.94 2.06.94-2.06 2.06-.94-2.06-.94-.94-2.06-.94 2.06-2.06.94z\"/><path d=\"M17.41 7.96l-1.37-1.37c-.4-.4-.92-.59-1.43-.59-.52 0-1.04.2-1.43.59L10.3 9.45l-7.72 7.72c-.78.78-.78 2.05 0 2.83L4 21.41c.39.39.9.59 1.41.59.51 0 1.02-.2 1.41-.59l7.78-7.78 2.81-2.81c.8-.78.8-2.07 0-2.86zM5.41 20L4 18.59l7.72-7.72 1.47 1.35L5.41 20z\"/>\n",
              "  </svg>\n",
              "      </button>\n",
              "      \n",
              "  <style>\n",
              "    .colab-df-container {\n",
              "      display:flex;\n",
              "      flex-wrap:wrap;\n",
              "      gap: 12px;\n",
              "    }\n",
              "\n",
              "    .colab-df-convert {\n",
              "      background-color: #E8F0FE;\n",
              "      border: none;\n",
              "      border-radius: 50%;\n",
              "      cursor: pointer;\n",
              "      display: none;\n",
              "      fill: #1967D2;\n",
              "      height: 32px;\n",
              "      padding: 0 0 0 0;\n",
              "      width: 32px;\n",
              "    }\n",
              "\n",
              "    .colab-df-convert:hover {\n",
              "      background-color: #E2EBFA;\n",
              "      box-shadow: 0px 1px 2px rgba(60, 64, 67, 0.3), 0px 1px 3px 1px rgba(60, 64, 67, 0.15);\n",
              "      fill: #174EA6;\n",
              "    }\n",
              "\n",
              "    [theme=dark] .colab-df-convert {\n",
              "      background-color: #3B4455;\n",
              "      fill: #D2E3FC;\n",
              "    }\n",
              "\n",
              "    [theme=dark] .colab-df-convert:hover {\n",
              "      background-color: #434B5C;\n",
              "      box-shadow: 0px 1px 3px 1px rgba(0, 0, 0, 0.15);\n",
              "      filter: drop-shadow(0px 1px 2px rgba(0, 0, 0, 0.3));\n",
              "      fill: #FFFFFF;\n",
              "    }\n",
              "  </style>\n",
              "\n",
              "      <script>\n",
              "        const buttonEl =\n",
              "          document.querySelector('#df-d115a5ab-0ca8-44f7-8ef3-0baeecfac178 button.colab-df-convert');\n",
              "        buttonEl.style.display =\n",
              "          google.colab.kernel.accessAllowed ? 'block' : 'none';\n",
              "\n",
              "        async function convertToInteractive(key) {\n",
              "          const element = document.querySelector('#df-d115a5ab-0ca8-44f7-8ef3-0baeecfac178');\n",
              "          const dataTable =\n",
              "            await google.colab.kernel.invokeFunction('convertToInteractive',\n",
              "                                                     [key], {});\n",
              "          if (!dataTable) return;\n",
              "\n",
              "          const docLinkHtml = 'Like what you see? Visit the ' +\n",
              "            '<a target=\"_blank\" href=https://colab.research.google.com/notebooks/data_table.ipynb>data table notebook</a>'\n",
              "            + ' to learn more about interactive tables.';\n",
              "          element.innerHTML = '';\n",
              "          dataTable['output_type'] = 'display_data';\n",
              "          await google.colab.output.renderOutput(dataTable, element);\n",
              "          const docLink = document.createElement('div');\n",
              "          docLink.innerHTML = docLinkHtml;\n",
              "          element.appendChild(docLink);\n",
              "        }\n",
              "      </script>\n",
              "    </div>\n",
              "  </div>\n",
              "  "
            ]
          },
          "metadata": {},
          "execution_count": 171
        }
      ]
    },
    {
      "cell_type": "code",
      "metadata": {
        "id": "BV5wiuCLPgS9",
        "colab": {
          "base_uri": "https://localhost:8080/",
          "height": 585
        },
        "outputId": "089d9f67-1f55-4dd8-8ce7-a5b25409ea1e"
      },
      "source": [
        "rio_iqr.plot(kind='kde',layout=(4,2),\n",
        "                        subplots=True,\n",
        "                        figsize=(8,8),\n",
        "                        sharex=False)\n",
        "\n",
        "plt.tight_layout()\n",
        "plt.show()"
      ],
      "execution_count": 175,
      "outputs": [
        {
          "output_type": "display_data",
          "data": {
            "text/plain": [
              "<Figure size 576x576 with 8 Axes>"
            ],
            "image/png": "[encoded data removed]"
          },
          "metadata": {
            "needs_background": "light"
          }
        }
      ]
    },
    {
      "cell_type": "code",
      "metadata": {
        "id": "RELNCGADnAR0",
        "colab": {
          "base_uri": "https://localhost:8080/",
          "height": 585
        },
        "outputId": "8fc6fc7d-5376-4efb-b133-2bc76dfbb705"
      },
      "source": [
        "rio_iqr.plot(kind='box',layout=(4,2),\n",
        "                        subplots=True,\n",
        "                        figsize=(8,8),\n",
        "                        sharex=False)\n",
        "\n",
        "plt.tight_layout()\n",
        "plt.show()"
      ],
      "execution_count": 173,
      "outputs": [
        {
          "output_type": "display_data",
          "data": {
            "text/plain": [
              "<Figure size 576x576 with 8 Axes>"
            ],
            "image/png": "[encoded data removed]"
          },
          "metadata": {
            "needs_background": "light"
          }
        }
      ]
    },
    {
      "cell_type": "code",
      "metadata": {
        "id": "M__A_HFALwAg",
        "colab": {
          "base_uri": "https://localhost:8080/"
        },
        "outputId": "707d4023-c000-4f33-894c-1a6cc5fdbe68"
      },
      "source": [
        "rio_iqr.corr()[\"price\"].sort_values()"
      ],
      "execution_count": 174,
      "outputs": [
        {
          "output_type": "execute_result",
          "data": {
            "text/plain": [
              "number_of_reviews   -0.057922\n",
              "maximum_nights       0.019485\n",
              "minimum_nights       0.120821\n",
              "beds                 0.336842\n",
              "bedrooms             0.441859\n",
              "accommodates         0.457956\n",
              "price                1.000000\n",
              "Name: price, dtype: float64"
            ]
          },
          "metadata": {},
          "execution_count": 174
        }
      ]
    },
    {
      "cell_type": "code",
      "metadata": {
        "id": "wIqbiTn3L8ca",
        "colab": {
          "base_uri": "https://localhost:8080/",
          "height": 373
        },
        "outputId": "0465ddd7-98da-4798-b3b9-064655ade6a0"
      },
      "source": [
        "import seaborn as sns\n",
        "sns.heatmap(rio_iqr.corr())"
      ],
      "execution_count": 176,
      "outputs": [
        {
          "output_type": "execute_result",
          "data": {
            "text/plain": [
              "<matplotlib.axes._subplots.AxesSubplot at 0x7f50179e6390>"
            ]
          },
          "metadata": {},
          "execution_count": 176
        },
        {
          "output_type": "display_data",
          "data": {
            "text/plain": [
              "<Figure size 432x288 with 2 Axes>"
            ],
            "image/png": "[encoded data removed]"
          },
          "metadata": {
            "needs_background": "light"
          }
        }
      ]
    },
    {
      "cell_type": "code",
      "metadata": {
        "id": "awshM4b3p0XZ",
        "colab": {
          "base_uri": "https://localhost:8080/"
        },
        "outputId": "b1e139e4-dd91-4990-9725-6c1f671c1325"
      },
      "source": [
        "# Using IQR\n",
        "\n",
        "# Separate Data into a Training and Validation Datasets\n",
        "from sklearn.model_selection import train_test_split\n",
        "\n",
        "test_size = 0.20\n",
        "seed = 20\n",
        "\n",
        "# note that X_train, X_test, Y_train, Y_test are not standardized\n",
        "# using IQR to eliminate outliers\n",
        "X_train, X_test, Y_train, Y_test = train_test_split(rio_iqr.drop(axis=1,labels=[\"price\"]), \n",
        "                                                    rio_iqr[\"price\"],\n",
        "                                                    test_size=test_size, \n",
        "                                                    random_state=seed)\n",
        "\n",
        "print(X_train.shape,X_test.shape)"
      ],
      "execution_count": 138,
      "outputs": [
        {
          "output_type": "stream",
          "name": "stdout",
          "text": [
            "(11531, 6) (2883, 6)\n"
          ]
        }
      ]
    },
    {
      "cell_type": "code",
      "source": [
        "rio_iqr.head()"
      ],
      "metadata": {
        "colab": {
          "base_uri": "https://localhost:8080/",
          "height": 206
        },
        "id": "eb1IgS5cypa6",
        "outputId": "8109ae91-4ae6-42bd-fca1-b3deb72c8605"
      },
      "execution_count": 177,
      "outputs": [
        {
          "output_type": "execute_result",
          "data": {
            "text/plain": [
              "    accommodates  bedrooms  beds  minimum_nights  maximum_nights  \\\n",
              "15             4       3.0   4.0               4            1125   \n",
              "19             2       1.0   1.0               5             120   \n",
              "23             2       1.0   1.0               2              60   \n",
              "25             2       1.0   1.0               5              30   \n",
              "26             2       1.0   2.0               1              90   \n",
              "\n",
              "    number_of_reviews  price  \n",
              "15                  1  220.0  \n",
              "19                 14  851.0  \n",
              "23                 14  243.0  \n",
              "25                  7  500.0  \n",
              "26                  0  851.0  "
            ],
            "text/html": [
              "\n",
              "  <div id=\"df-762c42a3-60ad-4d9c-9bb5-ee687cd065bb\">\n",
              "    <div class=\"colab-df-container\">\n",
              "      <div>\n",
              "<style scoped>\n",
              "    .dataframe tbody tr th:only-of-type {\n",
              "        vertical-align: middle;\n",
              "    }\n",
              "\n",
              "    .dataframe tbody tr th {\n",
              "        vertical-align: top;\n",
              "    }\n",
              "\n",
              "    .dataframe thead th {\n",
              "        text-align: right;\n",
              "    }\n",
              "</style>\n",
              "<table border=\"1\" class=\"dataframe\">\n",
              "  <thead>\n",
              "    <tr style=\"text-align: right;\">\n",
              "      <th></th>\n",
              "      <th>accommodates</th>\n",
              "      <th>bedrooms</th>\n",
              "      <th>beds</th>\n",
              "      <th>minimum_nights</th>\n",
              "      <th>maximum_nights</th>\n",
              "      <th>number_of_reviews</th>\n",
              "      <th>price</th>\n",
              "    </tr>\n",
              "  </thead>\n",
              "  <tbody>\n",
              "    <tr>\n",
              "      <th>15</th>\n",
              "      <td>4</td>\n",
              "      <td>3.0</td>\n",
              "      <td>4.0</td>\n",
              "      <td>4</td>\n",
              "      <td>1125</td>\n",
              "      <td>1</td>\n",
              "      <td>220.0</td>\n",
              "    </tr>\n",
              "    <tr>\n",
              "      <th>19</th>\n",
              "      <td>2</td>\n",
              "      <td>1.0</td>\n",
              "      <td>1.0</td>\n",
              "      <td>5</td>\n",
              "      <td>120</td>\n",
              "      <td>14</td>\n",
              "      <td>851.0</td>\n",
              "    </tr>\n",
              "    <tr>\n",
              "      <th>23</th>\n",
              "      <td>2</td>\n",
              "      <td>1.0</td>\n",
              "      <td>1.0</td>\n",
              "      <td>2</td>\n",
              "      <td>60</td>\n",
              "      <td>14</td>\n",
              "      <td>243.0</td>\n",
              "    </tr>\n",
              "    <tr>\n",
              "      <th>25</th>\n",
              "      <td>2</td>\n",
              "      <td>1.0</td>\n",
              "      <td>1.0</td>\n",
              "      <td>5</td>\n",
              "      <td>30</td>\n",
              "      <td>7</td>\n",
              "      <td>500.0</td>\n",
              "    </tr>\n",
              "    <tr>\n",
              "      <th>26</th>\n",
              "      <td>2</td>\n",
              "      <td>1.0</td>\n",
              "      <td>2.0</td>\n",
              "      <td>1</td>\n",
              "      <td>90</td>\n",
              "      <td>0</td>\n",
              "      <td>851.0</td>\n",
              "    </tr>\n",
              "  </tbody>\n",
              "</table>\n",
              "</div>\n",
              "      <button class=\"colab-df-convert\" onclick=\"convertToInteractive('df-762c42a3-60ad-4d9c-9bb5-ee687cd065bb')\"\n",
              "              title=\"Convert this dataframe to an interactive table.\"\n",
              "              style=\"display:none;\">\n",
              "        \n",
              "  <svg xmlns=\"http://www.w3.org/2000/svg\" height=\"24px\"viewBox=\"0 0 24 24\"\n",
              "       width=\"24px\">\n",
              "    <path d=\"M0 0h24v24H0V0z\" fill=\"none\"/>\n",
              "    <path d=\"M18.56 5.44l.94 2.06.94-2.06 2.06-.94-2.06-.94-.94-2.06-.94 2.06-2.06.94zm-11 1L8.5 8.5l.94-2.06 2.06-.94-2.06-.94L8.5 2.5l-.94 2.06-2.06.94zm10 10l.94 2.06.94-2.06 2.06-.94-2.06-.94-.94-2.06-.94 2.06-2.06.94z\"/><path d=\"M17.41 7.96l-1.37-1.37c-.4-.4-.92-.59-1.43-.59-.52 0-1.04.2-1.43.59L10.3 9.45l-7.72 7.72c-.78.78-.78 2.05 0 2.83L4 21.41c.39.39.9.59 1.41.59.51 0 1.02-.2 1.41-.59l7.78-7.78 2.81-2.81c.8-.78.8-2.07 0-2.86zM5.41 20L4 18.59l7.72-7.72 1.47 1.35L5.41 20z\"/>\n",
              "  </svg>\n",
              "      </button>\n",
              "      \n",
              "  <style>\n",
              "    .colab-df-container {\n",
              "      display:flex;\n",
              "      flex-wrap:wrap;\n",
              "      gap: 12px;\n",
              "    }\n",
              "\n",
              "    .colab-df-convert {\n",
              "      background-color: #E8F0FE;\n",
              "      border: none;\n",
              "      border-radius: 50%;\n",
              "      cursor: pointer;\n",
              "      display: none;\n",
              "      fill: #1967D2;\n",
              "      height: 32px;\n",
              "      padding: 0 0 0 0;\n",
              "      width: 32px;\n",
              "    }\n",
              "\n",
              "    .colab-df-convert:hover {\n",
              "      background-color: #E2EBFA;\n",
              "      box-shadow: 0px 1px 2px rgba(60, 64, 67, 0.3), 0px 1px 3px 1px rgba(60, 64, 67, 0.15);\n",
              "      fill: #174EA6;\n",
              "    }\n",
              "\n",
              "    [theme=dark] .colab-df-convert {\n",
              "      background-color: #3B4455;\n",
              "      fill: #D2E3FC;\n",
              "    }\n",
              "\n",
              "    [theme=dark] .colab-df-convert:hover {\n",
              "      background-color: #434B5C;\n",
              "      box-shadow: 0px 1px 3px 1px rgba(0, 0, 0, 0.15);\n",
              "      filter: drop-shadow(0px 1px 2px rgba(0, 0, 0, 0.3));\n",
              "      fill: #FFFFFF;\n",
              "    }\n",
              "  </style>\n",
              "\n",
              "      <script>\n",
              "        const buttonEl =\n",
              "          document.querySelector('#df-762c42a3-60ad-4d9c-9bb5-ee687cd065bb button.colab-df-convert');\n",
              "        buttonEl.style.display =\n",
              "          google.colab.kernel.accessAllowed ? 'block' : 'none';\n",
              "\n",
              "        async function convertToInteractive(key) {\n",
              "          const element = document.querySelector('#df-762c42a3-60ad-4d9c-9bb5-ee687cd065bb');\n",
              "          const dataTable =\n",
              "            await google.colab.kernel.invokeFunction('convertToInteractive',\n",
              "                                                     [key], {});\n",
              "          if (!dataTable) return;\n",
              "\n",
              "          const docLinkHtml = 'Like what you see? Visit the ' +\n",
              "            '<a target=\"_blank\" href=https://colab.research.google.com/notebooks/data_table.ipynb>data table notebook</a>'\n",
              "            + ' to learn more about interactive tables.';\n",
              "          element.innerHTML = '';\n",
              "          dataTable['output_type'] = 'display_data';\n",
              "          await google.colab.output.renderOutput(dataTable, element);\n",
              "          const docLink = document.createElement('div');\n",
              "          docLink.innerHTML = docLinkHtml;\n",
              "          element.appendChild(docLink);\n",
              "        }\n",
              "      </script>\n",
              "    </div>\n",
              "  </div>\n",
              "  "
            ]
          },
          "metadata": {},
          "execution_count": 177
        }
      ]
    },
    {
      "cell_type": "code",
      "metadata": {
        "id": "Ekk3AOsHWdlj"
      },
      "source": [
        "# Uncomment case you use z_score to eliminate outliers\n",
        "\n",
        "# Separate Data into a Training and Validation Datasets\n",
        "# from sklearn.model_selection import train_test_split\n",
        "\n",
        "# test_size = 0.20\n",
        "# seed = 20\n",
        "\n",
        "# # note that X_train, X_test, Y_train, Y_test are not standardized\n",
        "# # using Z-Score to eliminate outliers\n",
        "# X_train, X_test, Y_train, Y_test = train_test_split(rio_listings.loc[rio_z_scored.index,target_columns[:-1]], \n",
        "#                                                     rio_listings.loc[rio_z_scored.index,\"price\"],\n",
        "#                                                     test_size=test_size, \n",
        "#                                                     random_state=seed)\n",
        "\n",
        "# print(X_train.shape,X_test.shape)"
      ],
      "execution_count": null,
      "outputs": []
    },
    {
      "cell_type": "code",
      "metadata": {
        "id": "g5qSLXXCWqD3",
        "colab": {
          "base_uri": "https://localhost:8080/",
          "height": 423
        },
        "outputId": "69b29cb8-0549-45d9-fbac-f5615acf5d3f"
      },
      "source": [
        "X_train"
      ],
      "execution_count": 139,
      "outputs": [
        {
          "output_type": "execute_result",
          "data": {
            "text/plain": [
              "       accommodates  bedrooms  beds  minimum_nights  maximum_nights  \\\n",
              "18951             4       1.0   2.0               4            1125   \n",
              "4257              2       1.0   1.0               2            1125   \n",
              "13343             3       1.0   3.0               2            1125   \n",
              "6163              4       1.0   2.0               1            1125   \n",
              "15493             2       2.0   2.0               5              15   \n",
              "...             ...       ...   ...             ...             ...   \n",
              "17828             5       3.0   4.0               1            1125   \n",
              "13854             4       2.0   4.0               1              30   \n",
              "14381             2       1.0   1.0               1              10   \n",
              "8899              5       1.0   3.0               2              30   \n",
              "19552             4       2.0   3.0               1            1125   \n",
              "\n",
              "       number_of_reviews  \n",
              "18951                  0  \n",
              "4257                   0  \n",
              "13343                  6  \n",
              "6163                   0  \n",
              "15493                  0  \n",
              "...                  ...  \n",
              "17828                  0  \n",
              "13854                  2  \n",
              "14381                 16  \n",
              "8899                   8  \n",
              "19552                  3  \n",
              "\n",
              "[11531 rows x 6 columns]"
            ],
            "text/html": [
              "\n",
              "  <div id=\"df-94b7ce84-3dbf-4334-9b2b-a603da8e3a5f\">\n",
              "    <div class=\"colab-df-container\">\n",
              "      <div>\n",
              "<style scoped>\n",
              "    .dataframe tbody tr th:only-of-type {\n",
              "        vertical-align: middle;\n",
              "    }\n",
              "\n",
              "    .dataframe tbody tr th {\n",
              "        vertical-align: top;\n",
              "    }\n",
              "\n",
              "    .dataframe thead th {\n",
              "        text-align: right;\n",
              "    }\n",
              "</style>\n",
              "<table border=\"1\" class=\"dataframe\">\n",
              "  <thead>\n",
              "    <tr style=\"text-align: right;\">\n",
              "      <th></th>\n",
              "      <th>accommodates</th>\n",
              "      <th>bedrooms</th>\n",
              "      <th>beds</th>\n",
              "      <th>minimum_nights</th>\n",
              "      <th>maximum_nights</th>\n",
              "      <th>number_of_reviews</th>\n",
              "    </tr>\n",
              "  </thead>\n",
              "  <tbody>\n",
              "    <tr>\n",
              "      <th>18951</th>\n",
              "      <td>4</td>\n",
              "      <td>1.0</td>\n",
              "      <td>2.0</td>\n",
              "      <td>4</td>\n",
              "      <td>1125</td>\n",
              "      <td>0</td>\n",
              "    </tr>\n",
              "    <tr>\n",
              "      <th>4257</th>\n",
              "      <td>2</td>\n",
              "      <td>1.0</td>\n",
              "      <td>1.0</td>\n",
              "      <td>2</td>\n",
              "      <td>1125</td>\n",
              "      <td>0</td>\n",
              "    </tr>\n",
              "    <tr>\n",
              "      <th>13343</th>\n",
              "      <td>3</td>\n",
              "      <td>1.0</td>\n",
              "      <td>3.0</td>\n",
              "      <td>2</td>\n",
              "      <td>1125</td>\n",
              "      <td>6</td>\n",
              "    </tr>\n",
              "    <tr>\n",
              "      <th>6163</th>\n",
              "      <td>4</td>\n",
              "      <td>1.0</td>\n",
              "      <td>2.0</td>\n",
              "      <td>1</td>\n",
              "      <td>1125</td>\n",
              "      <td>0</td>\n",
              "    </tr>\n",
              "    <tr>\n",
              "      <th>15493</th>\n",
              "      <td>2</td>\n",
              "      <td>2.0</td>\n",
              "      <td>2.0</td>\n",
              "      <td>5</td>\n",
              "      <td>15</td>\n",
              "      <td>0</td>\n",
              "    </tr>\n",
              "    <tr>\n",
              "      <th>...</th>\n",
              "      <td>...</td>\n",
              "      <td>...</td>\n",
              "      <td>...</td>\n",
              "      <td>...</td>\n",
              "      <td>...</td>\n",
              "      <td>...</td>\n",
              "    </tr>\n",
              "    <tr>\n",
              "      <th>17828</th>\n",
              "      <td>5</td>\n",
              "      <td>3.0</td>\n",
              "      <td>4.0</td>\n",
              "      <td>1</td>\n",
              "      <td>1125</td>\n",
              "      <td>0</td>\n",
              "    </tr>\n",
              "    <tr>\n",
              "      <th>13854</th>\n",
              "      <td>4</td>\n",
              "      <td>2.0</td>\n",
              "      <td>4.0</td>\n",
              "      <td>1</td>\n",
              "      <td>30</td>\n",
              "      <td>2</td>\n",
              "    </tr>\n",
              "    <tr>\n",
              "      <th>14381</th>\n",
              "      <td>2</td>\n",
              "      <td>1.0</td>\n",
              "      <td>1.0</td>\n",
              "      <td>1</td>\n",
              "      <td>10</td>\n",
              "      <td>16</td>\n",
              "    </tr>\n",
              "    <tr>\n",
              "      <th>8899</th>\n",
              "      <td>5</td>\n",
              "      <td>1.0</td>\n",
              "      <td>3.0</td>\n",
              "      <td>2</td>\n",
              "      <td>30</td>\n",
              "      <td>8</td>\n",
              "    </tr>\n",
              "    <tr>\n",
              "      <th>19552</th>\n",
              "      <td>4</td>\n",
              "      <td>2.0</td>\n",
              "      <td>3.0</td>\n",
              "      <td>1</td>\n",
              "      <td>1125</td>\n",
              "      <td>3</td>\n",
              "    </tr>\n",
              "  </tbody>\n",
              "</table>\n",
              "<p>11531 rows × 6 columns</p>\n",
              "</div>\n",
              "      <button class=\"colab-df-convert\" onclick=\"convertToInteractive('df-94b7ce84-3dbf-4334-9b2b-a603da8e3a5f')\"\n",
              "              title=\"Convert this dataframe to an interactive table.\"\n",
              "              style=\"display:none;\">\n",
              "        \n",
              "  <svg xmlns=\"http://www.w3.org/2000/svg\" height=\"24px\"viewBox=\"0 0 24 24\"\n",
              "       width=\"24px\">\n",
              "    <path d=\"M0 0h24v24H0V0z\" fill=\"none\"/>\n",
              "    <path d=\"M18.56 5.44l.94 2.06.94-2.06 2.06-.94-2.06-.94-.94-2.06-.94 2.06-2.06.94zm-11 1L8.5 8.5l.94-2.06 2.06-.94-2.06-.94L8.5 2.5l-.94 2.06-2.06.94zm10 10l.94 2.06.94-2.06 2.06-.94-2.06-.94-.94-2.06-.94 2.06-2.06.94z\"/><path d=\"M17.41 7.96l-1.37-1.37c-.4-.4-.92-.59-1.43-.59-.52 0-1.04.2-1.43.59L10.3 9.45l-7.72 7.72c-.78.78-.78 2.05 0 2.83L4 21.41c.39.39.9.59 1.41.59.51 0 1.02-.2 1.41-.59l7.78-7.78 2.81-2.81c.8-.78.8-2.07 0-2.86zM5.41 20L4 18.59l7.72-7.72 1.47 1.35L5.41 20z\"/>\n",
              "  </svg>\n",
              "      </button>\n",
              "      \n",
              "  <style>\n",
              "    .colab-df-container {\n",
              "      display:flex;\n",
              "      flex-wrap:wrap;\n",
              "      gap: 12px;\n",
              "    }\n",
              "\n",
              "    .colab-df-convert {\n",
              "      background-color: #E8F0FE;\n",
              "      border: none;\n",
              "      border-radius: 50%;\n",
              "      cursor: pointer;\n",
              "      display: none;\n",
              "      fill: #1967D2;\n",
              "      height: 32px;\n",
              "      padding: 0 0 0 0;\n",
              "      width: 32px;\n",
              "    }\n",
              "\n",
              "    .colab-df-convert:hover {\n",
              "      background-color: #E2EBFA;\n",
              "      box-shadow: 0px 1px 2px rgba(60, 64, 67, 0.3), 0px 1px 3px 1px rgba(60, 64, 67, 0.15);\n",
              "      fill: #174EA6;\n",
              "    }\n",
              "\n",
              "    [theme=dark] .colab-df-convert {\n",
              "      background-color: #3B4455;\n",
              "      fill: #D2E3FC;\n",
              "    }\n",
              "\n",
              "    [theme=dark] .colab-df-convert:hover {\n",
              "      background-color: #434B5C;\n",
              "      box-shadow: 0px 1px 3px 1px rgba(0, 0, 0, 0.15);\n",
              "      filter: drop-shadow(0px 1px 2px rgba(0, 0, 0, 0.3));\n",
              "      fill: #FFFFFF;\n",
              "    }\n",
              "  </style>\n",
              "\n",
              "      <script>\n",
              "        const buttonEl =\n",
              "          document.querySelector('#df-94b7ce84-3dbf-4334-9b2b-a603da8e3a5f button.colab-df-convert');\n",
              "        buttonEl.style.display =\n",
              "          google.colab.kernel.accessAllowed ? 'block' : 'none';\n",
              "\n",
              "        async function convertToInteractive(key) {\n",
              "          const element = document.querySelector('#df-94b7ce84-3dbf-4334-9b2b-a603da8e3a5f');\n",
              "          const dataTable =\n",
              "            await google.colab.kernel.invokeFunction('convertToInteractive',\n",
              "                                                     [key], {});\n",
              "          if (!dataTable) return;\n",
              "\n",
              "          const docLinkHtml = 'Like what you see? Visit the ' +\n",
              "            '<a target=\"_blank\" href=https://colab.research.google.com/notebooks/data_table.ipynb>data table notebook</a>'\n",
              "            + ' to learn more about interactive tables.';\n",
              "          element.innerHTML = '';\n",
              "          dataTable['output_type'] = 'display_data';\n",
              "          await google.colab.output.renderOutput(dataTable, element);\n",
              "          const docLink = document.createElement('div');\n",
              "          docLink.innerHTML = docLinkHtml;\n",
              "          element.appendChild(docLink);\n",
              "        }\n",
              "      </script>\n",
              "    </div>\n",
              "  </div>\n",
              "  "
            ]
          },
          "metadata": {},
          "execution_count": 139
        }
      ]
    },
    {
      "cell_type": "code",
      "metadata": {
        "id": "MEoSVAEvYviv",
        "colab": {
          "base_uri": "https://localhost:8080/"
        },
        "outputId": "c9e8326f-262e-4094-cdcf-c85c5ebf3ada"
      },
      "source": [
        "Y_train"
      ],
      "execution_count": 140,
      "outputs": [
        {
          "output_type": "execute_result",
          "data": {
            "text/plain": [
              "18951     486.0\n",
              "4257       93.0\n",
              "13343     406.0\n",
              "6163     1277.0\n",
              "15493     400.0\n",
              "          ...  \n",
              "17828     908.0\n",
              "13854     170.0\n",
              "14381      94.0\n",
              "8899      407.0\n",
              "19552     414.0\n",
              "Name: price, Length: 11531, dtype: float64"
            ]
          },
          "metadata": {},
          "execution_count": 140
        }
      ]
    },
    {
      "cell_type": "code",
      "metadata": {
        "id": "RTDtuTqtWx48",
        "colab": {
          "base_uri": "https://localhost:8080/",
          "height": 423
        },
        "outputId": "c531eabf-d3a8-4d97-8b0d-7c3012f07de7"
      },
      "source": [
        "X_test"
      ],
      "execution_count": 141,
      "outputs": [
        {
          "output_type": "execute_result",
          "data": {
            "text/plain": [
              "       accommodates  bedrooms  beds  minimum_nights  maximum_nights  \\\n",
              "4124              6       2.0   2.0               1            1125   \n",
              "9201              2       1.0   1.0               6            1125   \n",
              "12317             4       1.0   1.0               3            1125   \n",
              "18517             2       1.0   1.0               4            1125   \n",
              "13791             2       1.0   1.0               2              30   \n",
              "...             ...       ...   ...             ...             ...   \n",
              "4758              6       3.0   4.0               3            1125   \n",
              "12193             4       1.0   2.0               2              10   \n",
              "21494             2       3.0   3.0               1            1125   \n",
              "23275             2       1.0   1.0               2              15   \n",
              "4239              1       1.0   1.0               4               6   \n",
              "\n",
              "       number_of_reviews  \n",
              "4124                   0  \n",
              "9201                   0  \n",
              "12317                  1  \n",
              "18517                  7  \n",
              "13791                  6  \n",
              "...                  ...  \n",
              "4758                   0  \n",
              "12193                  0  \n",
              "21494                  2  \n",
              "23275                  0  \n",
              "4239                   0  \n",
              "\n",
              "[2883 rows x 6 columns]"
            ],
            "text/html": [
              "\n",
              "  <div id=\"df-ff9de024-bfb4-4226-94ed-193353255e0e\">\n",
              "    <div class=\"colab-df-container\">\n",
              "      <div>\n",
              "<style scoped>\n",
              "    .dataframe tbody tr th:only-of-type {\n",
              "        vertical-align: middle;\n",
              "    }\n",
              "\n",
              "    .dataframe tbody tr th {\n",
              "        vertical-align: top;\n",
              "    }\n",
              "\n",
              "    .dataframe thead th {\n",
              "        text-align: right;\n",
              "    }\n",
              "</style>\n",
              "<table border=\"1\" class=\"dataframe\">\n",
              "  <thead>\n",
              "    <tr style=\"text-align: right;\">\n",
              "      <th></th>\n",
              "      <th>accommodates</th>\n",
              "      <th>bedrooms</th>\n",
              "      <th>beds</th>\n",
              "      <th>minimum_nights</th>\n",
              "      <th>maximum_nights</th>\n",
              "      <th>number_of_reviews</th>\n",
              "    </tr>\n",
              "  </thead>\n",
              "  <tbody>\n",
              "    <tr>\n",
              "      <th>4124</th>\n",
              "      <td>6</td>\n",
              "      <td>2.0</td>\n",
              "      <td>2.0</td>\n",
              "      <td>1</td>\n",
              "      <td>1125</td>\n",
              "      <td>0</td>\n",
              "    </tr>\n",
              "    <tr>\n",
              "      <th>9201</th>\n",
              "      <td>2</td>\n",
              "      <td>1.0</td>\n",
              "      <td>1.0</td>\n",
              "      <td>6</td>\n",
              "      <td>1125</td>\n",
              "      <td>0</td>\n",
              "    </tr>\n",
              "    <tr>\n",
              "      <th>12317</th>\n",
              "      <td>4</td>\n",
              "      <td>1.0</td>\n",
              "      <td>1.0</td>\n",
              "      <td>3</td>\n",
              "      <td>1125</td>\n",
              "      <td>1</td>\n",
              "    </tr>\n",
              "    <tr>\n",
              "      <th>18517</th>\n",
              "      <td>2</td>\n",
              "      <td>1.0</td>\n",
              "      <td>1.0</td>\n",
              "      <td>4</td>\n",
              "      <td>1125</td>\n",
              "      <td>7</td>\n",
              "    </tr>\n",
              "    <tr>\n",
              "      <th>13791</th>\n",
              "      <td>2</td>\n",
              "      <td>1.0</td>\n",
              "      <td>1.0</td>\n",
              "      <td>2</td>\n",
              "      <td>30</td>\n",
              "      <td>6</td>\n",
              "    </tr>\n",
              "    <tr>\n",
              "      <th>...</th>\n",
              "      <td>...</td>\n",
              "      <td>...</td>\n",
              "      <td>...</td>\n",
              "      <td>...</td>\n",
              "      <td>...</td>\n",
              "      <td>...</td>\n",
              "    </tr>\n",
              "    <tr>\n",
              "      <th>4758</th>\n",
              "      <td>6</td>\n",
              "      <td>3.0</td>\n",
              "      <td>4.0</td>\n",
              "      <td>3</td>\n",
              "      <td>1125</td>\n",
              "      <td>0</td>\n",
              "    </tr>\n",
              "    <tr>\n",
              "      <th>12193</th>\n",
              "      <td>4</td>\n",
              "      <td>1.0</td>\n",
              "      <td>2.0</td>\n",
              "      <td>2</td>\n",
              "      <td>10</td>\n",
              "      <td>0</td>\n",
              "    </tr>\n",
              "    <tr>\n",
              "      <th>21494</th>\n",
              "      <td>2</td>\n",
              "      <td>3.0</td>\n",
              "      <td>3.0</td>\n",
              "      <td>1</td>\n",
              "      <td>1125</td>\n",
              "      <td>2</td>\n",
              "    </tr>\n",
              "    <tr>\n",
              "      <th>23275</th>\n",
              "      <td>2</td>\n",
              "      <td>1.0</td>\n",
              "      <td>1.0</td>\n",
              "      <td>2</td>\n",
              "      <td>15</td>\n",
              "      <td>0</td>\n",
              "    </tr>\n",
              "    <tr>\n",
              "      <th>4239</th>\n",
              "      <td>1</td>\n",
              "      <td>1.0</td>\n",
              "      <td>1.0</td>\n",
              "      <td>4</td>\n",
              "      <td>6</td>\n",
              "      <td>0</td>\n",
              "    </tr>\n",
              "  </tbody>\n",
              "</table>\n",
              "<p>2883 rows × 6 columns</p>\n",
              "</div>\n",
              "      <button class=\"colab-df-convert\" onclick=\"convertToInteractive('df-ff9de024-bfb4-4226-94ed-193353255e0e')\"\n",
              "              title=\"Convert this dataframe to an interactive table.\"\n",
              "              style=\"display:none;\">\n",
              "        \n",
              "  <svg xmlns=\"http://www.w3.org/2000/svg\" height=\"24px\"viewBox=\"0 0 24 24\"\n",
              "       width=\"24px\">\n",
              "    <path d=\"M0 0h24v24H0V0z\" fill=\"none\"/>\n",
              "    <path d=\"M18.56 5.44l.94 2.06.94-2.06 2.06-.94-2.06-.94-.94-2.06-.94 2.06-2.06.94zm-11 1L8.5 8.5l.94-2.06 2.06-.94-2.06-.94L8.5 2.5l-.94 2.06-2.06.94zm10 10l.94 2.06.94-2.06 2.06-.94-2.06-.94-.94-2.06-.94 2.06-2.06.94z\"/><path d=\"M17.41 7.96l-1.37-1.37c-.4-.4-.92-.59-1.43-.59-.52 0-1.04.2-1.43.59L10.3 9.45l-7.72 7.72c-.78.78-.78 2.05 0 2.83L4 21.41c.39.39.9.59 1.41.59.51 0 1.02-.2 1.41-.59l7.78-7.78 2.81-2.81c.8-.78.8-2.07 0-2.86zM5.41 20L4 18.59l7.72-7.72 1.47 1.35L5.41 20z\"/>\n",
              "  </svg>\n",
              "      </button>\n",
              "      \n",
              "  <style>\n",
              "    .colab-df-container {\n",
              "      display:flex;\n",
              "      flex-wrap:wrap;\n",
              "      gap: 12px;\n",
              "    }\n",
              "\n",
              "    .colab-df-convert {\n",
              "      background-color: #E8F0FE;\n",
              "      border: none;\n",
              "      border-radius: 50%;\n",
              "      cursor: pointer;\n",
              "      display: none;\n",
              "      fill: #1967D2;\n",
              "      height: 32px;\n",
              "      padding: 0 0 0 0;\n",
              "      width: 32px;\n",
              "    }\n",
              "\n",
              "    .colab-df-convert:hover {\n",
              "      background-color: #E2EBFA;\n",
              "      box-shadow: 0px 1px 2px rgba(60, 64, 67, 0.3), 0px 1px 3px 1px rgba(60, 64, 67, 0.15);\n",
              "      fill: #174EA6;\n",
              "    }\n",
              "\n",
              "    [theme=dark] .colab-df-convert {\n",
              "      background-color: #3B4455;\n",
              "      fill: #D2E3FC;\n",
              "    }\n",
              "\n",
              "    [theme=dark] .colab-df-convert:hover {\n",
              "      background-color: #434B5C;\n",
              "      box-shadow: 0px 1px 3px 1px rgba(0, 0, 0, 0.15);\n",
              "      filter: drop-shadow(0px 1px 2px rgba(0, 0, 0, 0.3));\n",
              "      fill: #FFFFFF;\n",
              "    }\n",
              "  </style>\n",
              "\n",
              "      <script>\n",
              "        const buttonEl =\n",
              "          document.querySelector('#df-ff9de024-bfb4-4226-94ed-193353255e0e button.colab-df-convert');\n",
              "        buttonEl.style.display =\n",
              "          google.colab.kernel.accessAllowed ? 'block' : 'none';\n",
              "\n",
              "        async function convertToInteractive(key) {\n",
              "          const element = document.querySelector('#df-ff9de024-bfb4-4226-94ed-193353255e0e');\n",
              "          const dataTable =\n",
              "            await google.colab.kernel.invokeFunction('convertToInteractive',\n",
              "                                                     [key], {});\n",
              "          if (!dataTable) return;\n",
              "\n",
              "          const docLinkHtml = 'Like what you see? Visit the ' +\n",
              "            '<a target=\"_blank\" href=https://colab.research.google.com/notebooks/data_table.ipynb>data table notebook</a>'\n",
              "            + ' to learn more about interactive tables.';\n",
              "          element.innerHTML = '';\n",
              "          dataTable['output_type'] = 'display_data';\n",
              "          await google.colab.output.renderOutput(dataTable, element);\n",
              "          const docLink = document.createElement('div');\n",
              "          docLink.innerHTML = docLinkHtml;\n",
              "          element.appendChild(docLink);\n",
              "        }\n",
              "      </script>\n",
              "    </div>\n",
              "  </div>\n",
              "  "
            ]
          },
          "metadata": {},
          "execution_count": 141
        }
      ]
    },
    {
      "cell_type": "code",
      "metadata": {
        "id": "3-0zvCaSb0Ca",
        "colab": {
          "base_uri": "https://localhost:8080/"
        },
        "outputId": "96366ebe-107e-40ee-a3f8-aec93b2dbef7"
      },
      "source": [
        "Y_test"
      ],
      "execution_count": 142,
      "outputs": [
        {
          "output_type": "execute_result",
          "data": {
            "text/plain": [
              "4124      300.0\n",
              "9201      189.0\n",
              "12317     250.0\n",
              "18517     999.0\n",
              "13791     429.0\n",
              "          ...  \n",
              "4758     1607.0\n",
              "12193     220.0\n",
              "21494     143.0\n",
              "23275     456.0\n",
              "4239       95.0\n",
              "Name: price, Length: 2883, dtype: float64"
            ]
          },
          "metadata": {},
          "execution_count": 142
        }
      ]
    },
    {
      "cell_type": "markdown",
      "metadata": {
        "id": "EOYkFkykdVD3"
      },
      "source": [
        "## 6.3 Train Model & Test Data (create a baseline model)"
      ]
    },
    {
      "cell_type": "code",
      "metadata": {
        "id": "hmSRBBFsgW_a",
        "colab": {
          "base_uri": "https://localhost:8080/"
        },
        "outputId": "694bf2fb-a3bc-43c9-ea7f-b239fc16a68a"
      },
      "source": [
        "from sklearn.neighbors import KNeighborsRegressor\n",
        "from sklearn.metrics import mean_squared_error\n",
        "import numpy as np\n",
        "\n",
        "# instantiate a knn object\n",
        "knn = KNeighborsRegressor(n_neighbors=5, n_jobs=-1,algorithm=\"brute\")\n",
        "\n",
        "# train the model\n",
        "%time knn.fit(X_train,Y_train)"
      ],
      "execution_count": 143,
      "outputs": [
        {
          "output_type": "stream",
          "name": "stdout",
          "text": [
            "CPU times: user 4.09 ms, sys: 0 ns, total: 4.09 ms\n",
            "Wall time: 4.97 ms\n"
          ]
        },
        {
          "output_type": "execute_result",
          "data": {
            "text/plain": [
              "KNeighborsRegressor(algorithm='brute', n_jobs=-1)"
            ]
          },
          "metadata": {},
          "execution_count": 143
        }
      ]
    },
    {
      "cell_type": "code",
      "metadata": {
        "id": "R7pZbv6YghrP",
        "colab": {
          "base_uri": "https://localhost:8080/"
        },
        "outputId": "cd21b9c2-5677-4acf-eb14-d3490d62db29"
      },
      "source": [
        "# predict\n",
        "%time predict = knn.predict(X_test)"
      ],
      "execution_count": 144,
      "outputs": [
        {
          "output_type": "stream",
          "name": "stdout",
          "text": [
            "CPU times: user 2.18 s, sys: 182 ms, total: 2.37 s\n",
            "Wall time: 1.81 s\n"
          ]
        }
      ]
    },
    {
      "cell_type": "code",
      "metadata": {
        "id": "ioyMQtdSW_yj",
        "colab": {
          "base_uri": "https://localhost:8080/"
        },
        "outputId": "736dfa30-405b-408f-b507-99d1addb1816"
      },
      "source": [
        "predict"
      ],
      "execution_count": 145,
      "outputs": [
        {
          "output_type": "execute_result",
          "data": {
            "text/plain": [
              "array([719.6, 326. , 491.6, ..., 251.4, 272.6, 265.4])"
            ]
          },
          "metadata": {},
          "execution_count": 145
        }
      ]
    },
    {
      "cell_type": "code",
      "metadata": {
        "id": "hBFLO1tMXCXs",
        "colab": {
          "base_uri": "https://localhost:8080/"
        },
        "outputId": "d38b8f42-3357-4a67-87b3-26ca32508e6c"
      },
      "source": [
        "Y_test"
      ],
      "execution_count": 146,
      "outputs": [
        {
          "output_type": "execute_result",
          "data": {
            "text/plain": [
              "4124      300.0\n",
              "9201      189.0\n",
              "12317     250.0\n",
              "18517     999.0\n",
              "13791     429.0\n",
              "          ...  \n",
              "4758     1607.0\n",
              "12193     220.0\n",
              "21494     143.0\n",
              "23275     456.0\n",
              "4239       95.0\n",
              "Name: price, Length: 2883, dtype: float64"
            ]
          },
          "metadata": {},
          "execution_count": 146
        }
      ]
    },
    {
      "cell_type": "code",
      "metadata": {
        "id": "BcJGZYGal8l-",
        "colab": {
          "base_uri": "https://localhost:8080/"
        },
        "outputId": "7a215090-3614-439e-ca87-ed8e8452a5e3"
      },
      "source": [
        "from sklearn.metrics import mean_squared_error\n",
        "\n",
        "# evaluate\n",
        "rmse = np.sqrt(mean_squared_error(Y_test,predict))\n",
        "\n",
        "print(rmse)"
      ],
      "execution_count": 147,
      "outputs": [
        {
          "output_type": "stream",
          "name": "stdout",
          "text": [
            "378.2413288696399\n"
          ]
        }
      ]
    },
    {
      "cell_type": "code",
      "metadata": {
        "id": "wuBPMem_mnyo",
        "colab": {
          "base_uri": "https://localhost:8080/"
        },
        "outputId": "237e2649-1dd6-469d-c498-9a7316eb63ee"
      },
      "source": [
        "from sklearn.model_selection import KFold\n",
        "from sklearn.model_selection import cross_val_score\n",
        "from sklearn.pipeline import Pipeline\n",
        "from sklearn.preprocessing import Normalizer\n",
        "from sklearn.preprocessing import RobustScaler\n",
        "from sklearn.preprocessing import QuantileTransformer\n",
        "from sklearn.preprocessing import PowerTransformer\n",
        "\n",
        "# Test options and evaluation metric\n",
        "num_folds = 10\n",
        "scoring = 'neg_mean_squared_error'\n",
        "\n",
        "# Standardize the dataset\n",
        "pipelines = []\n",
        "pipelines.append(('NonScaledKnn', \n",
        "                  Pipeline([('KNN',\n",
        "                             KNeighborsRegressor(n_neighbors=5, algorithm=\"brute\",n_jobs=-1))])))\n",
        "pipelines.append(('ScaledKnn', \n",
        "                  Pipeline([('Scaler', \n",
        "                             StandardScaler()),\n",
        "                            ('KNN',\n",
        "                             KNeighborsRegressor(n_neighbors=5, n_jobs=-1))])))\n",
        "\n",
        "pipelines.append(('NormalizedKnn', \n",
        "                  Pipeline([('Normalizer', \n",
        "                             Normalizer()),\n",
        "                            ('KNN',\n",
        "                             KNeighborsRegressor(n_neighbors=5, n_jobs=-1))])))\n",
        "\n",
        "pipelines.append(('RobustedKnn', \n",
        "                  Pipeline([('Robust', \n",
        "                             RobustScaler()),\n",
        "                            ('KNN',\n",
        "                             KNeighborsRegressor(n_neighbors=5, n_jobs=-1))])))\n",
        "\n",
        "pipelines.append(('QuantiledKnn', \n",
        "                  Pipeline([('Quantile', \n",
        "                             QuantileTransformer()),\n",
        "                            ('KNN',\n",
        "                             KNeighborsRegressor(n_neighbors=5, n_jobs=-1))])))\n",
        "\n",
        "pipelines.append(('PoweredKnn', \n",
        "                  Pipeline([('Power', \n",
        "                             PowerTransformer()),\n",
        "                            ('KNN',\n",
        "                             KNeighborsRegressor(n_neighbors=5, n_jobs=-1))])))\n",
        "\n",
        "\n",
        "results = []\n",
        "names = []\n",
        "for name, model in pipelines:\n",
        "  kfold = KFold(n_splits=num_folds)\n",
        "  cv_results = cross_val_score(model, X_train, Y_train, cv=kfold, scoring=scoring)\n",
        "  results.append(cv_results)\n",
        "  names.append(name)\n",
        "  print(\"%s Mean: %f Std: %f\" % (name, \n",
        "                                      np.sqrt(-cv_results.mean()), \n",
        "                                      np.sqrt(cv_results.std())))"
      ],
      "execution_count": 180,
      "outputs": [
        {
          "output_type": "stream",
          "name": "stdout",
          "text": [
            "NonScaledKnn Mean: 372.632283 Std: 76.457267\n",
            "ScaledKnn Mean: 371.578204 Std: 79.002880\n",
            "NormalizedKnn Mean: 391.795614 Std: 76.538094\n",
            "RobustedKnn Mean: 370.750472 Std: 83.735166\n",
            "QuantiledKnn Mean: 370.147303 Std: 88.905904\n",
            "PoweredKnn Mean: 369.933964 Std: 86.191869\n"
          ]
        }
      ]
    },
    {
      "cell_type": "code",
      "source": [
        "results"
      ],
      "metadata": {
        "id": "QTLsH_irQ4gc"
      },
      "execution_count": null,
      "outputs": []
    },
    {
      "cell_type": "code",
      "metadata": {
        "id": "5bvCxHpPpk2k",
        "colab": {
          "base_uri": "https://localhost:8080/",
          "height": 297
        },
        "outputId": "3a12428d-4e77-47e3-e32c-064b721943b1"
      },
      "source": [
        "fig = plt.figure()\n",
        "ax = fig.add_subplot(111)\n",
        "plt.boxplot(results,showmeans=True,meanline=True)\n",
        "ax.set_xticklabels(names,rotation=90)\n",
        "plt.title('Scaled Algorithm Comparison')\n",
        "plt.tight_layout()\n",
        "plt.show()"
      ],
      "execution_count": 181,
      "outputs": [
        {
          "output_type": "display_data",
          "data": {
            "text/plain": [
              "<Figure size 432x288 with 1 Axes>"
            ],
            "image/png": "[encoded data removed]"
          },
          "metadata": {
            "needs_background": "light"
          }
        }
      ]
    },
    {
      "cell_type": "markdown",
      "metadata": {
        "id": "jOLQycnwualq"
      },
      "source": [
        "## 6.4 Improve the model"
      ]
    },
    {
      "cell_type": "code",
      "metadata": {
        "id": "sAhwAcsJ61sZ",
        "colab": {
          "base_uri": "https://localhost:8080/"
        },
        "outputId": "e2a4c802-c454-48bf-c52a-a544f9b00165"
      },
      "source": [
        "from sklearn.model_selection import GridSearchCV\n",
        "\n",
        "# KNN Algorithm tuning (Normalizer)\n",
        "\n",
        "# hyperparameter\n",
        "k_values = np.array([1,3,5,7,9,11,13,15,17,19,21])\n",
        "param_grid = dict(n_neighbors=k_values)\n",
        "\n",
        "# scaler\n",
        "scaler = Normalizer().fit_transform(X_train)\n",
        "\n",
        "# instantiate a model\n",
        "model = KNeighborsRegressor()\n",
        "\n",
        "# Test options and evaluation metric\n",
        "num_folds = 10\n",
        "scoring = 'neg_mean_squared_error'\n",
        "\n",
        "# cross-validation\n",
        "kfold = KFold(n_splits=num_folds)\n",
        "grid = GridSearchCV(estimator=model, \n",
        "                    param_grid=param_grid, \n",
        "                    scoring=scoring,\n",
        "                    cv=kfold)\n",
        "\n",
        "grid_result = grid.fit(scaler, Y_train)\n",
        "# case you'd to use X_train without transformation\n",
        "# grid_result = grid.fit(X_train, Y_train)\n",
        "\n",
        "# Print results\n",
        "print(\"Best: %f using %s\" % (np.sqrt(-grid_result.best_score_), \n",
        "                             grid_result.best_params_))\n",
        "means = np.sqrt(-grid_result.cv_results_['mean_test_score'])\n",
        "stds = np.sqrt(grid_result.cv_results_['std_test_score'])\n",
        "params = grid_result.cv_results_['params']\n",
        "for mean, stdev, param in zip(means, stds, params):\n",
        "  print(\"%f (%f) with: %r\" % (mean, stdev, param))"
      ],
      "execution_count": 184,
      "outputs": [
        {
          "output_type": "stream",
          "name": "stdout",
          "text": [
            "Best: 374.526027 using {'n_neighbors': 19}\n",
            "496.430712 (111.056751) with: {'n_neighbors': 1}\n",
            "408.520468 (91.028790) with: {'n_neighbors': 3}\n",
            "391.795614 (76.538094) with: {'n_neighbors': 5}\n",
            "383.896538 (76.434991) with: {'n_neighbors': 7}\n",
            "380.083577 (74.857671) with: {'n_neighbors': 9}\n",
            "377.834944 (73.315219) with: {'n_neighbors': 11}\n",
            "376.709874 (72.394567) with: {'n_neighbors': 13}\n",
            "375.717495 (73.042251) with: {'n_neighbors': 15}\n",
            "375.395257 (72.553798) with: {'n_neighbors': 17}\n",
            "374.526027 (72.230473) with: {'n_neighbors': 19}\n",
            "374.541195 (70.188963) with: {'n_neighbors': 21}\n"
          ]
        }
      ]
    },
    {
      "cell_type": "markdown",
      "metadata": {
        "id": "wtiflTN1MGl8"
      },
      "source": [
        "## 6.5 Finalize Model"
      ]
    },
    {
      "cell_type": "code",
      "metadata": {
        "id": "deOScBbWNlmE",
        "colab": {
          "base_uri": "https://localhost:8080/"
        },
        "outputId": "3cc753c3-fadc-450c-f6f1-46e75fa181d0"
      },
      "source": [
        "predict = grid_result.best_estimator_.predict(PowerTransformer().fit_transform(X_test))\n",
        "rmse = np.sqrt(mean_squared_error(predict,Y_test))\n",
        "print(rmse)\n",
        "\n",
        "# case you'd to use X_train without transformation\n",
        "# predict = grid_result.best_estimator_.predict(X_test)"
      ],
      "execution_count": 185,
      "outputs": [
        {
          "output_type": "stream",
          "name": "stdout",
          "text": [
            "379.5337490045145\n"
          ]
        }
      ]
    },
    {
      "cell_type": "code",
      "source": [
        ""
      ],
      "metadata": {
        "id": "x0y642ieSF-B"
      },
      "execution_count": null,
      "outputs": []
    }
  ]
}